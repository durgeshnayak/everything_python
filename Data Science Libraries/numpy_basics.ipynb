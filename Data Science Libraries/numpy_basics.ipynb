{
 "cells": [
  {
   "cell_type": "code",
   "id": "initial_id",
   "metadata": {},
   "source": [
    "import numpy as np"
   ],
   "outputs": [],
   "execution_count": null
  },
  {
   "cell_type": "markdown",
   "id": "1685b49a40a93839",
   "metadata": {
    "collapsed": false,
    "jupyter": {
     "outputs_hidden": false
    }
   },
   "source": [
    "Print NumPy version"
   ]
  },
  {
   "cell_type": "code",
   "id": "d3afae09f5d0a019",
   "metadata": {
    "collapsed": false,
    "jupyter": {
     "outputs_hidden": false
    }
   },
   "source": [
    "print(np.__version__)"
   ],
   "outputs": [],
   "execution_count": null
  },
  {
   "cell_type": "markdown",
   "id": "85b7c02e-af67-4e3b-b5ed-ca0203c16d44",
   "metadata": {},
   "source": [
    "Creatin arrays from Python Lists"
   ]
  },
  {
   "cell_type": "code",
   "id": "6c5586bf-9d67-493a-bae8-bae3cc699cf2",
   "metadata": {},
   "source": [
    "# Integer array\n",
    "np.array([1, 2, 3, 4, 5])"
   ],
   "outputs": [],
   "execution_count": null
  },
  {
   "cell_type": "markdown",
   "id": "b1e9f890-f025-4aa6-af74-49fe718e6f5f",
   "metadata": {},
   "source": [
    "Setting the type explicitly when creating an array"
   ]
  },
  {
   "cell_type": "code",
   "id": "0436b102-c088-44c0-98e5-09fdba88cd6c",
   "metadata": {},
   "source": [
    "np.array([1, 2, 3], dtype = np.float32)"
   ],
   "outputs": [],
   "execution_count": null
  },
  {
   "cell_type": "markdown",
   "id": "ea57aa88-3a95-40b7-b970-b91b66d4fdfd",
   "metadata": {},
   "source": [
    "Creating multi-dimensional arrays from nested lists"
   ]
  },
  {
   "cell_type": "code",
   "id": "3a9e65a4-dfb4-4bf1-a084-a45dae281ca7",
   "metadata": {},
   "source": [
    "# Nested lists create multi-dimensional arrays\n",
    "np.array([range(i, i + 3) for i in [2, 4, 6]])"
   ],
   "outputs": [],
   "execution_count": null
  },
  {
   "cell_type": "markdown",
   "id": "118b47a5d3eb5f9d",
   "metadata": {
    "collapsed": false,
    "jupyter": {
     "outputs_hidden": false
    }
   },
   "source": [
    "Creating arrays from scratch"
   ]
  },
  {
   "cell_type": "code",
   "id": "71f0d941622a757d",
   "metadata": {
    "collapsed": false,
    "jupyter": {
     "outputs_hidden": false
    }
   },
   "source": [
    "# Create a length 10 array filled with 0s\n",
    "x10 = np.zeros(10, dtype=int)\n",
    "print(x10)"
   ],
   "outputs": [],
   "execution_count": null
  },
  {
   "cell_type": "code",
   "id": "62056f1198e9370c",
   "metadata": {
    "collapsed": false,
    "jupyter": {
     "outputs_hidden": false
    }
   },
   "source": [
    "# Create a 3x5 floating point array filled with 1s\n",
    "x35 = np.ones((3, 5), dtype=float)\n",
    "print(x35)"
   ],
   "outputs": [],
   "execution_count": null
  },
  {
   "cell_type": "code",
   "id": "cbdb08a6ded9a610",
   "metadata": {
    "collapsed": false,
    "jupyter": {
     "outputs_hidden": false
    }
   },
   "source": [
    "# Create a 3x5 array filled with Pi\n",
    "xpi = np.full((3, 5), 3.14)\n",
    "print(xpi)"
   ],
   "outputs": [],
   "execution_count": null
  },
  {
   "cell_type": "code",
   "id": "e9fd16baa1efcc09",
   "metadata": {
    "collapsed": false,
    "jupyter": {
     "outputs_hidden": false
    }
   },
   "source": [
    "# Create an array filled with a sequence starting at 0, ending at 20 and steps of 2\n",
    "xseq = np.arange(0, 20, 2)\n",
    "print(xseq)"
   ],
   "outputs": [],
   "execution_count": null
  },
  {
   "cell_type": "code",
   "id": "3d2cde4dcf6e157",
   "metadata": {
    "collapsed": false,
    "jupyter": {
     "outputs_hidden": false
    }
   },
   "source": [
    "# Create an array of 5 values evenly spaced between 0 and 1\n",
    "xdist = np.linspace(0, 1, 5)\n",
    "print(xdist)"
   ],
   "outputs": [],
   "execution_count": null
  },
  {
   "cell_type": "code",
   "id": "7f747763209f4aec",
   "metadata": {
    "collapsed": false,
    "jupyter": {
     "outputs_hidden": false
    }
   },
   "source": [
    "# Create a 3x3 array of uniformly distributed pseudorandom values between 0 and 1\n",
    "xrand = np.random.random((3, 3))\n",
    "print(xrand)"
   ],
   "outputs": [],
   "execution_count": null
  },
  {
   "cell_type": "code",
   "id": "674bc0301d318f6e",
   "metadata": {
    "collapsed": false,
    "jupyter": {
     "outputs_hidden": false
    }
   },
   "source": [
    "# Create a 3x3 array of normally distributed pseudorandom values with a mean of 0 and standard deviation of 1\n",
    "xstd = np.random.normal(0, 1, (3, 3))\n",
    "print(xstd)"
   ],
   "outputs": [],
   "execution_count": null
  },
  {
   "cell_type": "code",
   "id": "6e1f89443553ae4b",
   "metadata": {
    "collapsed": false,
    "jupyter": {
     "outputs_hidden": false
    }
   },
   "source": [
    "# Create a 3x3 matrix of pseudorandom values between 0 and 10\n",
    "xprand = np.random.randint(0, 10, (3, 3))\n",
    "print(xprand)"
   ],
   "outputs": [],
   "execution_count": null
  },
  {
   "cell_type": "code",
   "id": "6c7cd579e5803a10",
   "metadata": {
    "collapsed": false,
    "jupyter": {
     "outputs_hidden": false
    }
   },
   "source": [
    "# Create an identity matrix\n",
    "xiden = np.eye(3)\n",
    "print(xiden)"
   ],
   "outputs": [],
   "execution_count": null
  },
  {
   "cell_type": "markdown",
   "id": "c7642ad9-d704-4e58-b5a4-234fae7a6a02",
   "metadata": {},
   "source": [
    "-------------------------------------------BASICS OF NUMPY ARRAYS-----------------------------------------"
   ]
  },
  {
   "cell_type": "markdown",
   "id": "a0150ab47fad4e22",
   "metadata": {
    "collapsed": false,
    "jupyter": {
     "outputs_hidden": false
    }
   },
   "source": [
    "Create a random number generator and seed it"
   ]
  },
  {
   "cell_type": "code",
   "id": "14f24bb64516c77a",
   "metadata": {
    "collapsed": false,
    "jupyter": {
     "outputs_hidden": false
    }
   },
   "source": [
    "rng = np.random.default_rng(seed=170)"
   ],
   "outputs": [],
   "execution_count": null
  },
  {
   "cell_type": "markdown",
   "id": "b393b38c773e2c06",
   "metadata": {
    "collapsed": false,
    "jupyter": {
     "outputs_hidden": false
    }
   },
   "source": [
    "Create 1d, 2d and 3d array"
   ]
  },
  {
   "cell_type": "code",
   "id": "bff303f8ae5d53fb",
   "metadata": {
    "collapsed": false,
    "jupyter": {
     "outputs_hidden": false
    }
   },
   "source": [
    "x1 = rng.integers(10, size=6) #1d array\n",
    "x2 = rng.integers(10, size=(3, 4)) #2d array\n",
    "x3 = rng.integers(10, size=(3, 4, 5)) #3d array"
   ],
   "outputs": [],
   "execution_count": null
  },
  {
   "cell_type": "markdown",
   "id": "1c06dbba534c379d",
   "metadata": {
    "collapsed": false,
    "jupyter": {
     "outputs_hidden": false
    }
   },
   "source": [
    "ndim - number of dimensions, shape - the size of each dimension, size - the total size of the array and dtype - the type of each element"
   ]
  },
  {
   "cell_type": "code",
   "id": "bac8fa0615aa7011",
   "metadata": {
    "collapsed": false,
    "jupyter": {
     "outputs_hidden": false
    }
   },
   "source": [
    "print(f'x3 dim: {x3.ndim}')\n",
    "print(f'x3 shape: {x3.shape}')\n",
    "print(f'x3 size: {x3.size}')\n",
    "print(f'x3 dtype: {x3.dtype}')"
   ],
   "outputs": [],
   "execution_count": null
  },
  {
   "cell_type": "markdown",
   "id": "d19194e7ba74b3c0",
   "metadata": {
    "collapsed": false,
    "jupyter": {
     "outputs_hidden": false
    }
   },
   "source": [
    "Array Indexing"
   ]
  },
  {
   "cell_type": "code",
   "id": "e200ba2bf81b56a9",
   "metadata": {
    "collapsed": false,
    "jupyter": {
     "outputs_hidden": false
    }
   },
   "source": [
    "print(f'x1: {x1}')\n",
    "print(f'{x1[3]}')\n",
    "print(f'{x1[-1]}')"
   ],
   "outputs": [],
   "execution_count": null
  },
  {
   "cell_type": "code",
   "id": "32fd5452a395fca0",
   "metadata": {
    "collapsed": false,
    "jupyter": {
     "outputs_hidden": false
    }
   },
   "source": [
    "print(f'x2: {x2}')\n",
    "print(f'{x2[2, 3]}')\n",
    "print(f'{x2[0, -1]}')"
   ],
   "outputs": [],
   "execution_count": null
  },
  {
   "cell_type": "markdown",
   "id": "ad2e97dcbdf3aafc",
   "metadata": {
    "collapsed": false,
    "jupyter": {
     "outputs_hidden": false
    }
   },
   "source": [
    "Array Slicing"
   ]
  },
  {
   "cell_type": "code",
   "id": "eb448a55f4842473",
   "metadata": {
    "collapsed": false,
    "jupyter": {
     "outputs_hidden": false
    }
   },
   "source": [
    "print(f'x1: {x1}')\n",
    "print(f'First 3 elements of x1: {x1[:3]}')\n",
    "print(f'Alternate elements starting with the second element of x1: {x1[1::2]}')\n",
    "print(f'Alternate elements of x1 starting from the last element: {x1[-1::2]}')"
   ],
   "outputs": [],
   "execution_count": null
  },
  {
   "cell_type": "markdown",
   "id": "3bc061d707607bec",
   "metadata": {
    "collapsed": false,
    "jupyter": {
     "outputs_hidden": false
    }
   },
   "source": [
    "Multi-dimensional sub-arrays"
   ]
  },
  {
   "cell_type": "code",
   "id": "a436e981d72a9003",
   "metadata": {
    "collapsed": false,
    "jupyter": {
     "outputs_hidden": false
    }
   },
   "source": [
    "print(f'x2: {x2}')\n",
    "print(f'First 2 rows and 3 columns of x2: {x2[:2, :3]}')\n",
    "print(f'Every second column of all 3 rows of x2:{x2[:3, ::2]}')\n",
    "print(f'All rows and columns reversed for x2:{x2[::-1,::-1]}')"
   ],
   "outputs": [],
   "execution_count": null
  },
  {
   "cell_type": "markdown",
   "id": "aaedcd216c3c0e7d",
   "metadata": {
    "collapsed": false,
    "jupyter": {
     "outputs_hidden": false
    }
   },
   "source": [
    "Selectively extracting rows and columns"
   ]
  },
  {
   "cell_type": "code",
   "id": "7daa9d78165801b4",
   "metadata": {
    "collapsed": false,
    "jupyter": {
     "outputs_hidden": false
    }
   },
   "source": [
    "print(f'Last column of x2: {x2[:, -1]}')\n",
    "print(f'First row of x2: {x2[0, :]}')"
   ],
   "outputs": [],
   "execution_count": null
  },
  {
   "cell_type": "markdown",
   "id": "4362fd4cb84c011f",
   "metadata": {
    "collapsed": false,
    "jupyter": {
     "outputs_hidden": false
    }
   },
   "source": [
    "Sub-arrays as No-copy Views"
   ]
  },
  {
   "cell_type": "code",
   "id": "4002436ac3c575d9",
   "metadata": {
    "collapsed": false,
    "jupyter": {
     "outputs_hidden": false
    }
   },
   "source": [
    "print(f'A 2x2 sub-array extracted from x2 by selecting first two columns of first two rows: {x2[:2, :2]}')\n",
    "print('Any modifications to elements of the above array will modify the original array (x2) as well.')\n"
   ],
   "outputs": [],
   "execution_count": null
  },
  {
   "cell_type": "markdown",
   "id": "9c98549c5a0469a0",
   "metadata": {
    "collapsed": false,
    "jupyter": {
     "outputs_hidden": false
    }
   },
   "source": [
    "Creating copies of Arrays"
   ]
  },
  {
   "cell_type": "code",
   "id": "259f00fd731b9310",
   "metadata": {
    "collapsed": false,
    "jupyter": {
     "outputs_hidden": false
    }
   },
   "source": [
    "x2_sub_copy = x2[:2, :2].copy()\n",
    "print(x2_sub_copy)"
   ],
   "outputs": [],
   "execution_count": null
  },
  {
   "cell_type": "markdown",
   "id": "8d8c51b3e6853164",
   "metadata": {
    "collapsed": false,
    "jupyter": {
     "outputs_hidden": false
    }
   },
   "source": [
    "Reshaping of Arrays - the size of the initial array must be equal to the size of the re-shaped array."
   ]
  },
  {
   "cell_type": "code",
   "id": "526160039b87bf23",
   "metadata": {
    "collapsed": false,
    "jupyter": {
     "outputs_hidden": false
    }
   },
   "source": [
    "grid = np.arange(1, 10).reshape(3, 3)\n",
    "print(grid)"
   ],
   "outputs": [],
   "execution_count": null
  },
  {
   "cell_type": "code",
   "id": "5df4ea2a55e18fd3",
   "metadata": {
    "collapsed": false,
    "jupyter": {
     "outputs_hidden": false
    }
   },
   "source": [
    "grid = np.array([x for x in range(1, 10)])\n",
    "# Reshaping grid to a row vector\n",
    "print(grid.reshape(1,9))"
   ],
   "outputs": [],
   "execution_count": null
  },
  {
   "cell_type": "code",
   "id": "6db85b98c9c06bd0",
   "metadata": {
    "collapsed": false,
    "jupyter": {
     "outputs_hidden": false
    }
   },
   "source": [
    "# Reshaping row vector to column vector\n",
    "print(grid.reshape(9, 1))"
   ],
   "outputs": [],
   "execution_count": null
  },
  {
   "cell_type": "code",
   "id": "6a376035e823c5f8",
   "metadata": {
    "collapsed": false,
    "jupyter": {
     "outputs_hidden": false
    }
   },
   "source": [
    "print(grid[np.newaxis, :])"
   ],
   "outputs": [],
   "execution_count": null
  },
  {
   "cell_type": "code",
   "id": "faed6cc43f8d351c",
   "metadata": {
    "collapsed": false,
    "jupyter": {
     "outputs_hidden": false
    }
   },
   "source": [
    "print(grid[:, np.newaxis])"
   ],
   "outputs": [],
   "execution_count": null
  },
  {
   "cell_type": "markdown",
   "id": "9a1fa419c4ec1faf",
   "metadata": {
    "collapsed": false,
    "jupyter": {
     "outputs_hidden": false
    }
   },
   "source": [
    "Concatenation and splitting of Arrays"
   ]
  },
  {
   "cell_type": "code",
   "id": "68209d945e4839d2",
   "metadata": {
    "collapsed": false,
    "jupyter": {
     "outputs_hidden": false
    }
   },
   "source": [
    "x1 = np.array([x for x in range(1, 6)])\n",
    "x2 = np.array([x for x in range(6, 11)])\n",
    "x_con = np.concatenate([x1, x2])\n",
    "print(x_con)"
   ],
   "outputs": [],
   "execution_count": null
  },
  {
   "cell_type": "code",
   "id": "fe5c0d84b36e97c3",
   "metadata": {
    "collapsed": false,
    "jupyter": {
     "outputs_hidden": false
    }
   },
   "source": [
    "x_grid = np.array([[1, 2, 3],\n",
    "                   [4, 5, 6]])\n",
    "x_grid_con = np.concatenate([x_grid, x_grid])\n",
    "print(x_grid_con)"
   ],
   "outputs": [],
   "execution_count": null
  },
  {
   "cell_type": "code",
   "id": "389ff8bf233f1f96",
   "metadata": {
    "collapsed": false,
    "jupyter": {
     "outputs_hidden": false
    }
   },
   "source": [
    "x_grid_con = np.concatenate([x_grid, x_grid], axis=1)\n",
    "print(x_grid_con)"
   ],
   "outputs": [],
   "execution_count": null
  },
  {
   "cell_type": "code",
   "id": "86bb114a524d120",
   "metadata": {
    "collapsed": false,
    "jupyter": {
     "outputs_hidden": false
    }
   },
   "source": [
    "x_vstack = np.vstack([x1, x2])\n",
    "print(x_vstack)"
   ],
   "outputs": [],
   "execution_count": null
  },
  {
   "cell_type": "code",
   "id": "702a2e5501383215",
   "metadata": {
    "collapsed": false,
    "jupyter": {
     "outputs_hidden": false
    }
   },
   "source": [
    "x_hstack = np.hstack([x1, x2])\n",
    "print(x_hstack)"
   ],
   "outputs": [],
   "execution_count": null
  },
  {
   "cell_type": "code",
   "id": "54c35b829c2fddf6",
   "metadata": {
    "collapsed": false,
    "jupyter": {
     "outputs_hidden": false
    }
   },
   "source": [
    "x1, x2, x3 = np.split(x_hstack, [3, 6])\n",
    "print(x1, x2, x3)"
   ],
   "outputs": [],
   "execution_count": null
  },
  {
   "cell_type": "code",
   "id": "a3b9f88fec518013",
   "metadata": {
    "collapsed": false,
    "jupyter": {
     "outputs_hidden": false
    }
   },
   "source": [
    "grid = np.arange(16).reshape(4, 4)\n",
    "upper, lower = np.vsplit(grid, [2])\n",
    "print(upper)\n",
    "print(lower)"
   ],
   "outputs": [],
   "execution_count": null
  },
  {
   "cell_type": "code",
   "id": "aa2bbfc01f5956d1",
   "metadata": {
    "collapsed": false,
    "jupyter": {
     "outputs_hidden": false
    }
   },
   "source": [
    "left, right = np.hsplit(grid, [2])\n",
    "print(left)\n",
    "print(right)"
   ],
   "outputs": [],
   "execution_count": null
  }
 ],
 "metadata": {
  "kernelspec": {
   "display_name": "Python 3 (ipykernel)",
   "language": "python",
   "name": "python3"
  },
  "language_info": {
   "codemirror_mode": {
    "name": "ipython",
    "version": 3
   },
   "file_extension": ".py",
   "mimetype": "text/x-python",
   "name": "python",
   "nbconvert_exporter": "python",
   "pygments_lexer": "ipython3",
   "version": "3.12.2"
  }
 },
 "nbformat": 4,
 "nbformat_minor": 5
}
