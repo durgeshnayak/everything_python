{
 "cells": [
  {
   "cell_type": "code",
   "execution_count": null,
   "id": "initial_id",
   "metadata": {
    "collapsed": true
   },
   "outputs": [],
   "source": [
    "import numpy as np"
   ]
  },
  {
   "cell_type": "markdown",
   "source": [
    "Print NumPy version"
   ],
   "metadata": {
    "collapsed": false
   },
   "id": "1685b49a40a93839"
  },
  {
   "cell_type": "code",
   "outputs": [],
   "source": [
    "print(np.__version__)"
   ],
   "metadata": {
    "collapsed": false
   },
   "id": "d3afae09f5d0a019",
   "execution_count": null
  },
  {
   "cell_type": "markdown",
   "source": [
    "Creating arrays from scratch"
   ],
   "metadata": {
    "collapsed": false
   },
   "id": "118b47a5d3eb5f9d"
  },
  {
   "cell_type": "code",
   "outputs": [],
   "source": [
    "# Create a length 10 array filled with 0s\n",
    "x10 = np.zeros(10, dtype=int)\n",
    "print(x10)"
   ],
   "metadata": {
    "collapsed": false
   },
   "id": "71f0d941622a757d",
   "execution_count": null
  },
  {
   "cell_type": "code",
   "outputs": [],
   "source": [
    "# Create a 3x5 floating point array filled with 1s\n",
    "x35 = np.ones((3, 5), dtype=float)\n",
    "print(x35)"
   ],
   "metadata": {
    "collapsed": false
   },
   "id": "62056f1198e9370c",
   "execution_count": null
  },
  {
   "cell_type": "code",
   "outputs": [],
   "source": [
    "# Create a 3x5 array filled with Pi\n",
    "xpi = np.full((3, 5), 3.14)\n",
    "print(xpi)"
   ],
   "metadata": {
    "collapsed": false
   },
   "id": "cbdb08a6ded9a610",
   "execution_count": null
  },
  {
   "cell_type": "code",
   "outputs": [],
   "source": [
    "# Create an array filled with a sequence starting at 0, ending at 20 and steps of 2\n",
    "xseq = np.arange(0, 20, 2)\n",
    "print(xseq)"
   ],
   "metadata": {
    "collapsed": false
   },
   "id": "e9fd16baa1efcc09",
   "execution_count": null
  },
  {
   "cell_type": "code",
   "outputs": [],
   "source": [
    "# Create an array of 5 values evenly spaced between 0 and 1\n",
    "xdist = np.linspace(0, 1, 5)\n",
    "print(xdist)"
   ],
   "metadata": {
    "collapsed": false
   },
   "id": "3d2cde4dcf6e157",
   "execution_count": null
  },
  {
   "cell_type": "code",
   "outputs": [],
   "source": [
    "# Create a 3x3 array of uniformly distributed pseudorandom values between 0 and 1\n",
    "xrand = np.random.random((3, 3))\n",
    "print(xrand)"
   ],
   "metadata": {
    "collapsed": false
   },
   "id": "7f747763209f4aec",
   "execution_count": null
  },
  {
   "cell_type": "code",
   "outputs": [],
   "source": [
    "# Create a 3x3 array of normally distributed pseudorandom values with a mean of 0 and standard deviation of 1\n",
    "xstd = np.random.normal(0, 1, (3, 3))\n",
    "print(xstd)"
   ],
   "metadata": {
    "collapsed": false
   },
   "id": "674bc0301d318f6e",
   "execution_count": null
  },
  {
   "cell_type": "code",
   "outputs": [],
   "source": [
    "# Create a 3x3 matrix of pseudorandom values between 0 and 10\n",
    "xprand = np.random.randint(0, 10, (3, 3))\n",
    "print(xprand)"
   ],
   "metadata": {
    "collapsed": false
   },
   "id": "6e1f89443553ae4b",
   "execution_count": null
  },
  {
   "cell_type": "code",
   "outputs": [],
   "source": [
    "# Create an identity matrix\n",
    "xiden = np.eye(3)\n",
    "print(xiden)"
   ],
   "metadata": {
    "collapsed": false
   },
   "id": "6c7cd579e5803a10",
   "execution_count": null
  },
  {
   "cell_type": "markdown",
   "source": [
    "Create a random number generator and seed it"
   ],
   "metadata": {
    "collapsed": false
   },
   "id": "a0150ab47fad4e22"
  },
  {
   "cell_type": "code",
   "outputs": [],
   "source": [
    "rng = np.random.default_rng(seed=170)"
   ],
   "metadata": {
    "collapsed": false
   },
   "id": "14f24bb64516c77a",
   "execution_count": null
  },
  {
   "cell_type": "markdown",
   "source": [
    "Create 1d, 2d and 3d array"
   ],
   "metadata": {
    "collapsed": false
   },
   "id": "b393b38c773e2c06"
  },
  {
   "cell_type": "code",
   "outputs": [],
   "source": [
    "x1 = rng.integers(10, size=6) #1d array\n",
    "x2 = rng.integers(10, size=(3, 4)) #2d array\n",
    "x3 = rng.integers(10, size=(3, 4, 5)) #3d array"
   ],
   "metadata": {
    "collapsed": false
   },
   "id": "bff303f8ae5d53fb",
   "execution_count": null
  },
  {
   "cell_type": "markdown",
   "source": [
    "ndim - number of dimensions, shape - the size of each dimension, size - the total size of the array and dtype - the type of each element"
   ],
   "metadata": {
    "collapsed": false
   },
   "id": "1c06dbba534c379d"
  },
  {
   "cell_type": "code",
   "outputs": [],
   "source": [
    "print(f'x3 dim: {x3.ndim}')\n",
    "print(f'x3 shape: {x3.shape}')\n",
    "print(f'x3 size: {x3.size}')\n",
    "print(f'x3 dtype: {x3.dtype}')"
   ],
   "metadata": {
    "collapsed": false
   },
   "id": "bac8fa0615aa7011",
   "execution_count": null
  },
  {
   "cell_type": "markdown",
   "source": [
    "Array Indexing"
   ],
   "metadata": {
    "collapsed": false
   },
   "id": "d19194e7ba74b3c0"
  },
  {
   "cell_type": "code",
   "outputs": [],
   "source": [
    "print(f'x1: {x1}')\n",
    "print(f'{x1[3]}')\n",
    "print(f'{x1[-1]}')"
   ],
   "metadata": {
    "collapsed": false
   },
   "id": "e200ba2bf81b56a9",
   "execution_count": null
  },
  {
   "cell_type": "code",
   "outputs": [],
   "source": [
    "print(f'x2: {x2}')\n",
    "print(f'{x2[2, 3]}')\n",
    "print(f'{x2[0, -1]}')"
   ],
   "metadata": {
    "collapsed": false
   },
   "id": "32fd5452a395fca0",
   "execution_count": null
  },
  {
   "cell_type": "markdown",
   "source": [
    "Array Slicing"
   ],
   "metadata": {
    "collapsed": false
   },
   "id": "ad2e97dcbdf3aafc"
  },
  {
   "cell_type": "code",
   "outputs": [],
   "source": [
    "print(f'x1: {x1}')\n",
    "print(f'First 3 elements of x1: {x1[:3]}')\n",
    "print(f'Alternate elements starting with the second element of x1: {x1[1::2]}')\n",
    "print(f'Alternate elements of x1 starting from the last element: {x1[-1::2]}')"
   ],
   "metadata": {
    "collapsed": false
   },
   "id": "eb448a55f4842473",
   "execution_count": null
  },
  {
   "cell_type": "markdown",
   "source": [
    "Multi-dimensional sub-arrays"
   ],
   "metadata": {
    "collapsed": false
   },
   "id": "3bc061d707607bec"
  },
  {
   "cell_type": "code",
   "outputs": [],
   "source": [
    "print(f'x2: {x2}')\n",
    "print(f'First 2 rows and 3 columns of x2: {x2[:2, :3]}')\n",
    "print(f'Every second column of all 3 rows of x2:{x2[:3, ::2]}')\n",
    "print(f'All rows and columns reversed for x2:{x2[::-1,::-1]}')"
   ],
   "metadata": {
    "collapsed": false
   },
   "id": "a436e981d72a9003",
   "execution_count": null
  },
  {
   "cell_type": "markdown",
   "source": [
    "Selectively extracting rows and columns"
   ],
   "metadata": {
    "collapsed": false
   },
   "id": "aaedcd216c3c0e7d"
  },
  {
   "cell_type": "code",
   "outputs": [],
   "source": [
    "print(f'Last column of x2: {x2[:, -1]}')\n",
    "print(f'First row of x2: {x2[0, :]}')"
   ],
   "metadata": {
    "collapsed": false
   },
   "id": "7daa9d78165801b4",
   "execution_count": null
  },
  {
   "cell_type": "markdown",
   "source": [
    "Sub-arrays as No-copy Views"
   ],
   "metadata": {
    "collapsed": false
   },
   "id": "4362fd4cb84c011f"
  },
  {
   "cell_type": "code",
   "outputs": [],
   "source": [
    "print(f'A 2x2 sub-array extracted from x2 by selecting first two columns of first two rows: {x2[:2, :2]}')\n",
    "print('Any modifications to elements of the above array will modify the original array (x2) as well.')\n"
   ],
   "metadata": {
    "collapsed": false
   },
   "id": "4002436ac3c575d9",
   "execution_count": null
  },
  {
   "cell_type": "markdown",
   "source": [
    "Creating copies of Arrays"
   ],
   "metadata": {
    "collapsed": false
   },
   "id": "9c98549c5a0469a0"
  },
  {
   "cell_type": "code",
   "outputs": [],
   "source": [
    "x2_sub_copy = x2[:2, :2].copy()\n",
    "print(x2_sub_copy)"
   ],
   "metadata": {
    "collapsed": false
   },
   "id": "259f00fd731b9310",
   "execution_count": null
  },
  {
   "cell_type": "markdown",
   "source": [
    "Reshaping of Arrays - the size of the initial array must be equal to the size of the re-shaped array."
   ],
   "metadata": {
    "collapsed": false
   },
   "id": "8d8c51b3e6853164"
  },
  {
   "cell_type": "code",
   "outputs": [],
   "source": [
    "grid = np.arange(1, 10).reshape(3, 3)\n",
    "print(grid)"
   ],
   "metadata": {
    "collapsed": false
   },
   "id": "526160039b87bf23",
   "execution_count": null
  },
  {
   "cell_type": "code",
   "outputs": [],
   "source": [
    "grid = np.array([x for x in range(1, 10)])\n",
    "# Reshaping grid to a row vector\n",
    "print(grid.reshape(1,9))"
   ],
   "metadata": {
    "collapsed": false
   },
   "id": "5df4ea2a55e18fd3",
   "execution_count": null
  },
  {
   "cell_type": "code",
   "outputs": [],
   "source": [
    "# Reshaping row vector to column vector\n",
    "print(grid.reshape(9, 1))"
   ],
   "metadata": {
    "collapsed": false
   },
   "id": "6db85b98c9c06bd0",
   "execution_count": null
  },
  {
   "cell_type": "code",
   "outputs": [],
   "source": [
    "print(grid[np.newaxis, :])"
   ],
   "metadata": {
    "collapsed": false
   },
   "id": "6a376035e823c5f8",
   "execution_count": null
  },
  {
   "cell_type": "code",
   "outputs": [],
   "source": [
    "print(grid[:, np.newaxis])"
   ],
   "metadata": {
    "collapsed": false
   },
   "id": "faed6cc43f8d351c",
   "execution_count": null
  },
  {
   "cell_type": "markdown",
   "source": [
    "Concatenation and splitting of Arrays"
   ],
   "metadata": {
    "collapsed": false
   },
   "id": "9a1fa419c4ec1faf"
  },
  {
   "cell_type": "code",
   "outputs": [],
   "source": [
    "x1 = np.array([x for x in range(1, 6)])\n",
    "x2 = np.array([x for x in range(6, 11)])\n",
    "x_con = np.concatenate([x1, x2])\n",
    "print(x_con)"
   ],
   "metadata": {
    "collapsed": false
   },
   "id": "68209d945e4839d2",
   "execution_count": null
  },
  {
   "cell_type": "code",
   "outputs": [],
   "source": [
    "x_grid = np.array([[1, 2, 3],\n",
    "                   [4, 5, 6]])\n",
    "x_grid_con = np.concatenate([x_grid, x_grid])\n",
    "print(x_grid_con)"
   ],
   "metadata": {
    "collapsed": false
   },
   "id": "fe5c0d84b36e97c3",
   "execution_count": null
  },
  {
   "cell_type": "code",
   "outputs": [],
   "source": [
    "x_grid_con = np.concatenate([x_grid, x_grid], axis=1)\n",
    "print(x_grid_con)"
   ],
   "metadata": {
    "collapsed": false
   },
   "id": "389ff8bf233f1f96",
   "execution_count": null
  },
  {
   "cell_type": "code",
   "outputs": [],
   "source": [
    "x_vstack = np.vstack([x1, x2])\n",
    "print(x_vstack)"
   ],
   "metadata": {
    "collapsed": false
   },
   "id": "86bb114a524d120",
   "execution_count": null
  },
  {
   "cell_type": "code",
   "outputs": [],
   "source": [
    "x_hstack = np.hstack([x1, x2])\n",
    "print(x_hstack)"
   ],
   "metadata": {
    "collapsed": false
   },
   "id": "702a2e5501383215",
   "execution_count": null
  },
  {
   "cell_type": "code",
   "outputs": [],
   "source": [
    "x1, x2, x3 = np.split(x_hstack, [3, 6])\n",
    "print(x1, x2, x3)"
   ],
   "metadata": {
    "collapsed": false
   },
   "id": "54c35b829c2fddf6",
   "execution_count": null
  },
  {
   "cell_type": "code",
   "outputs": [],
   "source": [
    "grid = np.arange(16).reshape(4, 4)\n",
    "upper, lower = np.vsplit(grid, [2])\n",
    "print(upper)\n",
    "print(lower)"
   ],
   "metadata": {
    "collapsed": false
   },
   "id": "a3b9f88fec518013",
   "execution_count": null
  },
  {
   "cell_type": "code",
   "outputs": [],
   "source": [
    "left, right = np.hsplit(grid, [2])\n",
    "print(left)\n",
    "print(right)"
   ],
   "metadata": {
    "collapsed": false
   },
   "id": "aa2bbfc01f5956d1",
   "execution_count": null
  }
 ],
 "metadata": {
  "kernelspec": {
   "display_name": "Python 3",
   "language": "python",
   "name": "python3"
  },
  "language_info": {
   "codemirror_mode": {
    "name": "ipython",
    "version": 2
   },
   "file_extension": ".py",
   "mimetype": "text/x-python",
   "name": "python",
   "nbconvert_exporter": "python",
   "pygments_lexer": "ipython2",
   "version": "2.7.6"
  }
 },
 "nbformat": 4,
 "nbformat_minor": 5
}
