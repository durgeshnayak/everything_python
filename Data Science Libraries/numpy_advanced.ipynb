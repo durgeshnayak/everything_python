{
 "cells": [
  {
   "cell_type": "markdown",
   "id": "8314712d19c02e59",
   "metadata": {
    "collapsed": false,
    "jupyter": {
     "outputs_hidden": false
    }
   },
   "source": [
    "Broadcasting of Arrays"
   ]
  },
  {
   "cell_type": "markdown",
   "id": "81934f1d00ad460",
   "metadata": {
    "collapsed": false,
    "jupyter": {
     "outputs_hidden": false
    }
   },
   "source": [
    "Rules of Broadcasting\n",
    "Broadcasting in NumPy follows a strict set of rules to determine the interaction between the two arrays:\n",
    "\n",
    "Rule 1\n",
    "If the two arrays differ in their number of dimensions, the shape of the one with fewer dimensions is padded with ones on its leading (left) side.\n",
    "\n",
    "Rule 2\n",
    "If the shape of the two arrays does not match in any dimension, the array with shape equal to 1 in that dimension is stretched to match the other shape.\n",
    "\n",
    "Rule 3\n",
    "If in any dimension the sizes disagree and neither is equal to 1, an error is raised."
   ]
  },
  {
   "cell_type": "code",
   "execution_count": 180,
   "id": "af23c15e93433504",
   "metadata": {
    "collapsed": false,
    "jupyter": {
     "outputs_hidden": false
    }
   },
   "outputs": [],
   "source": [
    "import numpy as np"
   ]
  },
  {
   "cell_type": "code",
   "execution_count": 181,
   "id": "df287db7d359bc1b",
   "metadata": {
    "collapsed": false,
    "jupyter": {
     "outputs_hidden": false
    }
   },
   "outputs": [
    {
     "name": "stdout",
     "output_type": "stream",
     "text": [
      "(2, 3)\n",
      "[[1. 1. 1.]\n",
      " [1. 1. 1.]]\n"
     ]
    }
   ],
   "source": [
    "# Example 1\n",
    "M = np.ones((2, 3))\n",
    "print(M.shape)\n",
    "print(M)"
   ]
  },
  {
   "cell_type": "code",
   "execution_count": 182,
   "id": "6caf4376803814fb",
   "metadata": {
    "collapsed": false,
    "jupyter": {
     "outputs_hidden": false
    }
   },
   "outputs": [
    {
     "name": "stdout",
     "output_type": "stream",
     "text": [
      "(3,)\n",
      "[0 1 2]\n"
     ]
    }
   ],
   "source": [
    "a = np.arange(3)\n",
    "print(a.shape)\n",
    "print(a)"
   ]
  },
  {
   "cell_type": "markdown",
   "id": "91c0c7ffc74c62a",
   "metadata": {
    "collapsed": false,
    "jupyter": {
     "outputs_hidden": false
    }
   },
   "source": [
    "Let’s consider an operation on these two arrays, which have the following shapes:\n",
    "\n",
    "M.shape is (2, 3)\n",
    "\n",
    "a.shape is (3,)\n",
    "\n",
    "We see by rule 1 that the array a has fewer dimensions, so we pad it on the left with ones:\n",
    "\n",
    "M.shape remains (2, 3)\n",
    "\n",
    "a.shape becomes (1, 3)\n",
    "\n",
    "By rule 2, we now see that the first dimension disagrees, so we stretch this dimension to match:\n",
    "\n",
    "M.shape remains (2, 3)\n",
    "\n",
    "a.shape becomes (2, 3)\n",
    "\n",
    "The shapes now match, and we see that the final shape will be (2, 3):"
   ]
  },
  {
   "cell_type": "code",
   "execution_count": 184,
   "id": "3ecf839b01e544f5",
   "metadata": {
    "collapsed": false,
    "jupyter": {
     "outputs_hidden": false
    }
   },
   "outputs": [
    {
     "name": "stdout",
     "output_type": "stream",
     "text": [
      "[[1. 2. 3.]\n",
      " [1. 2. 3.]]\n"
     ]
    }
   ],
   "source": [
    "print(M+a)"
   ]
  },
  {
   "cell_type": "code",
   "execution_count": 185,
   "id": "f392735e2009e6f2",
   "metadata": {
    "collapsed": false,
    "jupyter": {
     "outputs_hidden": false
    }
   },
   "outputs": [
    {
     "name": "stdout",
     "output_type": "stream",
     "text": [
      "(3, 1)\n",
      "[[0]\n",
      " [1]\n",
      " [2]]\n"
     ]
    }
   ],
   "source": [
    "# Example 2\n",
    "a = np.arange(3).reshape((3, 1))\n",
    "print(a.shape)\n",
    "print(a)"
   ]
  },
  {
   "cell_type": "code",
   "execution_count": 186,
   "id": "1b59bf6105cdfdbc",
   "metadata": {
    "collapsed": false,
    "jupyter": {
     "outputs_hidden": false
    }
   },
   "outputs": [
    {
     "name": "stdout",
     "output_type": "stream",
     "text": [
      "(3,)\n",
      "[0 1 2]\n"
     ]
    }
   ],
   "source": [
    "b = np.arange(3)\n",
    "print(b.shape)\n",
    "print(b)"
   ]
  },
  {
   "cell_type": "markdown",
   "id": "31d1f97059e31d1e",
   "metadata": {
    "collapsed": false,
    "jupyter": {
     "outputs_hidden": false
    }
   },
   "source": [
    "Again, we’ll start by determining the shapes of the arrays:\n",
    "\n",
    "a.shape is (3, 1)\n",
    "\n",
    "b.shape is (3,)\n",
    "\n",
    "Rule 1 says we must pad the shape of b with ones:\n",
    "\n",
    "a.shape remains (3, 1)\n",
    "\n",
    "b.shape becomes (1, 3)\n",
    "\n",
    "And rule 2 tells us that we must upgrade each of these 1s to match the corresponding size of the other array:\n",
    "\n",
    "a.shape becomes (3, 3)\n",
    "\n",
    "b.shape becomes (3, 3)\n",
    "\n",
    "Because the results match, these shapes are compatible. We can see this here:"
   ]
  },
  {
   "cell_type": "code",
   "execution_count": 188,
   "id": "a860aefc6362c791",
   "metadata": {
    "collapsed": false,
    "jupyter": {
     "outputs_hidden": false
    }
   },
   "outputs": [
    {
     "name": "stdout",
     "output_type": "stream",
     "text": [
      "[[0 1 2]\n",
      " [1 2 3]\n",
      " [2 3 4]]\n"
     ]
    }
   ],
   "source": [
    "print(a+b)"
   ]
  },
  {
   "cell_type": "code",
   "execution_count": 189,
   "id": "2a50399511640b27",
   "metadata": {
    "collapsed": false,
    "jupyter": {
     "outputs_hidden": false
    }
   },
   "outputs": [
    {
     "name": "stdout",
     "output_type": "stream",
     "text": [
      "(3, 2)\n",
      "[[1. 1.]\n",
      " [1. 1.]\n",
      " [1. 1.]]\n"
     ]
    }
   ],
   "source": [
    "# Example 3\n",
    "M = np.ones((3,2))\n",
    "print(M.shape)\n",
    "print(M)"
   ]
  },
  {
   "cell_type": "code",
   "execution_count": 190,
   "id": "b915f6bab08ceb9e",
   "metadata": {
    "collapsed": false,
    "jupyter": {
     "outputs_hidden": false
    }
   },
   "outputs": [
    {
     "name": "stdout",
     "output_type": "stream",
     "text": [
      "(3,)\n",
      "[0 1 2]\n"
     ]
    }
   ],
   "source": [
    "a = np.arange(3)\n",
    "print(a.shape)\n",
    "print(a)"
   ]
  },
  {
   "cell_type": "markdown",
   "id": "b195140f67f66cea",
   "metadata": {
    "collapsed": false,
    "jupyter": {
     "outputs_hidden": false
    }
   },
   "source": [
    "This is just a slightly different situation than in the first example: the matrix M is transposed. How does this affect the calculation? The shapes of the arrays are as follows:\n",
    "\n",
    "M.shape is (3, 2)\n",
    "\n",
    "a.shape is (3,)\n",
    "\n",
    "Again, rule 1 tells us that we must pad the shape of a with ones:\n",
    "\n",
    "M.shape remains (3, 2)\n",
    "\n",
    "a.shape becomes (1, 3)\n",
    "\n",
    "By rule 2, the first dimension of a is then stretched to match that of M:\n",
    "\n",
    "M.shape remains (3, 2)\n",
    "\n",
    "a.shape becomes (3, 3)\n",
    "\n",
    "Now we hit rule 3—the final shapes do not match, so these two arrays are incompatible, as we can observe by attempting this operation:"
   ]
  },
  {
   "cell_type": "code",
   "execution_count": 192,
   "id": "be5020400c6bf165",
   "metadata": {
    "collapsed": false,
    "jupyter": {
     "outputs_hidden": false
    }
   },
   "outputs": [],
   "source": [
    "# print(M+a)"
   ]
  },
  {
   "cell_type": "code",
   "execution_count": 193,
   "id": "e60dc36d29a78183",
   "metadata": {
    "collapsed": false,
    "jupyter": {
     "outputs_hidden": false
    }
   },
   "outputs": [
    {
     "name": "stdout",
     "output_type": "stream",
     "text": [
      "(10, 3)\n",
      "[[0.4020733  0.30563311 0.67668051]\n",
      " [0.15821208 0.79247763 0.09419469]\n",
      " [0.36753944 0.06388928 0.96431608]\n",
      " [0.35200998 0.54550343 0.88597945]\n",
      " [0.57016965 0.26614394 0.8170382 ]\n",
      " [0.55906652 0.06387035 0.84877751]\n",
      " [0.89414484 0.18920785 0.23660015]\n",
      " [0.16502896 0.56583856 0.29513111]\n",
      " [0.29078012 0.90079544 0.59992434]\n",
      " [0.09133896 0.00578466 0.97096222]]\n"
     ]
    }
   ],
   "source": [
    "rng = np.random.default_rng(1701)\n",
    "X = rng.random((10, 3))\n",
    "print(X.shape)\n",
    "print(X)"
   ]
  },
  {
   "cell_type": "code",
   "execution_count": 194,
   "id": "252e44df204628e0",
   "metadata": {
    "collapsed": false,
    "jupyter": {
     "outputs_hidden": false
    }
   },
   "outputs": [
    {
     "name": "stdout",
     "output_type": "stream",
     "text": [
      "(3,)\n",
      "[0.38503638 0.36991443 0.63896043]\n"
     ]
    }
   ],
   "source": [
    "Xmean = X.mean(axis=0)\n",
    "print(Xmean.shape)\n",
    "print(Xmean)"
   ]
  },
  {
   "cell_type": "code",
   "execution_count": 195,
   "id": "f6260ba515d80079",
   "metadata": {
    "collapsed": false,
    "jupyter": {
     "outputs_hidden": false
    }
   },
   "outputs": [
    {
     "name": "stdout",
     "output_type": "stream",
     "text": [
      "(10, 3)\n",
      "[[ 0.01703691 -0.06428131  0.03772009]\n",
      " [-0.2268243   0.4225632  -0.54476574]\n",
      " [-0.01749695 -0.30602514  0.32535566]\n",
      " [-0.0330264   0.175589    0.24701902]\n",
      " [ 0.18513326 -0.10377048  0.17807777]\n",
      " [ 0.17403013 -0.30604408  0.20981709]\n",
      " [ 0.50910846 -0.18070657 -0.40236028]\n",
      " [-0.22000743  0.19592414 -0.34382932]\n",
      " [-0.09425626  0.53088102 -0.03903608]\n",
      " [-0.29369742 -0.36412976  0.33200179]]\n"
     ]
    }
   ],
   "source": [
    "Xcentered = X-Xmean\n",
    "print(Xcentered.shape)\n",
    "print(Xcentered)"
   ]
  },
  {
   "cell_type": "code",
   "execution_count": 196,
   "id": "6ee76046364b597c",
   "metadata": {
    "collapsed": false,
    "jupyter": {
     "outputs_hidden": false
    }
   },
   "outputs": [
    {
     "name": "stdout",
     "output_type": "stream",
     "text": [
      "[ 4.99600361e-17 -4.44089210e-17  0.00000000e+00]\n"
     ]
    }
   ],
   "source": [
    "print(Xcentered.mean(axis=0))"
   ]
  },
  {
   "cell_type": "markdown",
   "id": "38fd095f-2987-43d2-8fef-f964b54abd6f",
   "metadata": {},
   "source": [
    "Comparison Operators As UFuncs"
   ]
  },
  {
   "cell_type": "code",
   "execution_count": 198,
   "id": "53f1be3d-2ea4-4821-9551-8819e39097a0",
   "metadata": {},
   "outputs": [],
   "source": [
    "x = np.array([1, 2, 3, 4, 5])"
   ]
  },
  {
   "cell_type": "code",
   "execution_count": 199,
   "id": "7f65161d-f519-4575-8b17-a474c90b88e6",
   "metadata": {},
   "outputs": [
    {
     "data": {
      "text/plain": [
       "array([ True,  True, False, False, False])"
      ]
     },
     "execution_count": 199,
     "metadata": {},
     "output_type": "execute_result"
    }
   ],
   "source": [
    "x < 3"
   ]
  },
  {
   "cell_type": "code",
   "execution_count": 200,
   "id": "befd7f2a-ef58-4f89-ab98-3ce9ce93d0f4",
   "metadata": {},
   "outputs": [
    {
     "data": {
      "text/plain": [
       "array([False, False, False,  True,  True])"
      ]
     },
     "execution_count": 200,
     "metadata": {},
     "output_type": "execute_result"
    }
   ],
   "source": [
    "x > 3"
   ]
  },
  {
   "cell_type": "code",
   "execution_count": 201,
   "id": "fde86316-6382-4379-860e-4f161a464844",
   "metadata": {},
   "outputs": [
    {
     "data": {
      "text/plain": [
       "array([False, False,  True, False, False])"
      ]
     },
     "execution_count": 201,
     "metadata": {},
     "output_type": "execute_result"
    }
   ],
   "source": [
    "x == 3"
   ]
  },
  {
   "cell_type": "code",
   "execution_count": 202,
   "id": "a199e530-a03e-4130-b414-bc58f7dc05bd",
   "metadata": {},
   "outputs": [
    {
     "data": {
      "text/plain": [
       "array([ True,  True, False,  True,  True])"
      ]
     },
     "execution_count": 202,
     "metadata": {},
     "output_type": "execute_result"
    }
   ],
   "source": [
    "x != 3"
   ]
  },
  {
   "cell_type": "code",
   "execution_count": 203,
   "id": "190246b1-55e3-4301-9e44-9fc6f85de9a8",
   "metadata": {},
   "outputs": [
    {
     "data": {
      "text/plain": [
       "array([ True,  True,  True, False, False])"
      ]
     },
     "execution_count": 203,
     "metadata": {},
     "output_type": "execute_result"
    }
   ],
   "source": [
    "x <= 3"
   ]
  },
  {
   "cell_type": "code",
   "execution_count": 204,
   "id": "b1b5854d-d285-4955-82b5-64c7e9f4602c",
   "metadata": {},
   "outputs": [
    {
     "data": {
      "text/plain": [
       "array([False, False,  True,  True,  True])"
      ]
     },
     "execution_count": 204,
     "metadata": {},
     "output_type": "execute_result"
    }
   ],
   "source": [
    "x >= 3"
   ]
  },
  {
   "cell_type": "code",
   "execution_count": 205,
   "id": "6e80216d-5fa8-40f3-8a08-360345c3b3f0",
   "metadata": {},
   "outputs": [
    {
     "data": {
      "text/plain": [
       "array([[9, 4, 0, 3],\n",
       "       [8, 6, 3, 1],\n",
       "       [3, 7, 4, 0]])"
      ]
     },
     "execution_count": 205,
     "metadata": {},
     "output_type": "execute_result"
    }
   ],
   "source": [
    "rng = np.random.default_rng(seed=1701)\n",
    "x = rng.integers(10, size=(3,4))\n",
    "x"
   ]
  },
  {
   "cell_type": "code",
   "execution_count": 206,
   "id": "aef8df87-e7e8-45e0-95c9-df0882dfc48f",
   "metadata": {},
   "outputs": [
    {
     "data": {
      "text/plain": [
       "array([[False,  True,  True,  True],\n",
       "       [False, False,  True,  True],\n",
       "       [ True, False,  True,  True]])"
      ]
     },
     "execution_count": 206,
     "metadata": {},
     "output_type": "execute_result"
    }
   ],
   "source": [
    "x < 6"
   ]
  },
  {
   "cell_type": "markdown",
   "id": "af5bd14b-3de3-4bff-9257-ddc48a03dafc",
   "metadata": {},
   "source": [
    "Counting entries"
   ]
  },
  {
   "cell_type": "code",
   "execution_count": 230,
   "id": "ca06ffa2-9872-4f75-aae3-0896f0608812",
   "metadata": {},
   "outputs": [
    {
     "data": {
      "text/plain": [
       "8"
      ]
     },
     "execution_count": 230,
     "metadata": {},
     "output_type": "execute_result"
    }
   ],
   "source": [
    "np.count_nonzero(x < 6)"
   ]
  },
  {
   "cell_type": "markdown",
   "id": "3cf6c28c-af33-4d1e-9efd-1f6bd7247d6b",
   "metadata": {},
   "source": [
    "Summing entries"
   ]
  },
  {
   "cell_type": "code",
   "execution_count": 232,
   "id": "cea67cbf-08a2-4eba-b435-ed7f6850f10f",
   "metadata": {},
   "outputs": [
    {
     "data": {
      "text/plain": [
       "8"
      ]
     },
     "execution_count": 232,
     "metadata": {},
     "output_type": "execute_result"
    }
   ],
   "source": [
    "np.sum(x < 6)"
   ]
  },
  {
   "cell_type": "markdown",
   "id": "47ed02ef-7a53-416e-b94e-391390488aa7",
   "metadata": {},
   "source": [
    "Summing along an axis"
   ]
  },
  {
   "cell_type": "code",
   "execution_count": 234,
   "id": "5b2dec0e-80f5-42b1-b091-7e9f9afdee3b",
   "metadata": {},
   "outputs": [
    {
     "data": {
      "text/plain": [
       "array([1, 1, 3, 3])"
      ]
     },
     "execution_count": 234,
     "metadata": {},
     "output_type": "execute_result"
    }
   ],
   "source": [
    "# Column-wise sums\n",
    "np.sum(x < 6, axis=0)"
   ]
  },
  {
   "cell_type": "code",
   "execution_count": 236,
   "id": "467ffb2f-b64d-47d4-9b7c-d67233074296",
   "metadata": {},
   "outputs": [
    {
     "data": {
      "text/plain": [
       "array([3, 2, 3])"
      ]
     },
     "execution_count": 236,
     "metadata": {},
     "output_type": "execute_result"
    }
   ],
   "source": [
    "# Row-wise sums\n",
    "np.sum(x < 6, axis=1)"
   ]
  },
  {
   "cell_type": "markdown",
   "id": "a1b7e4a9-438b-4479-b791-953641784722",
   "metadata": {},
   "source": [
    "Any and All"
   ]
  },
  {
   "cell_type": "code",
   "execution_count": 238,
   "id": "564bffb7-fe8a-4a6b-8145-116aea189873",
   "metadata": {},
   "outputs": [
    {
     "data": {
      "text/plain": [
       "True"
      ]
     },
     "execution_count": 238,
     "metadata": {},
     "output_type": "execute_result"
    }
   ],
   "source": [
    "np.any(x > 8)"
   ]
  },
  {
   "cell_type": "code",
   "execution_count": 242,
   "id": "5206dd7e-22b0-4e4c-a91d-327f47600a6f",
   "metadata": {},
   "outputs": [
    {
     "data": {
      "text/plain": [
       "False"
      ]
     },
     "execution_count": 242,
     "metadata": {},
     "output_type": "execute_result"
    }
   ],
   "source": [
    "np.all(x < 8)"
   ]
  },
  {
   "cell_type": "markdown",
   "id": "d97a9aa5-6afb-48a7-94ca-f1c6aa378641",
   "metadata": {},
   "source": [
    "Any and All have flavors that check along a particular axis"
   ]
  },
  {
   "cell_type": "markdown",
   "id": "6b99b507-1101-4581-9e7d-fd64fad4a53e",
   "metadata": {},
   "source": [
    "Bitwise Logical Operators"
   ]
  },
  {
   "cell_type": "code",
   "execution_count": 244,
   "id": "04133cf4-b959-4c1d-81a9-5cdca3826924",
   "metadata": {},
   "outputs": [
    {
     "data": {
      "text/plain": [
       "array([[False,  True, False, False],\n",
       "       [False,  True, False, False],\n",
       "       [False,  True,  True, False]])"
      ]
     },
     "execution_count": 244,
     "metadata": {},
     "output_type": "execute_result"
    }
   ],
   "source": [
    "(x < 8) & (x > 3)"
   ]
  },
  {
   "cell_type": "code",
   "execution_count": 246,
   "id": "3aff9e0a-1f07-457a-91a5-1921d913d7a6",
   "metadata": {},
   "outputs": [
    {
     "data": {
      "text/plain": [
       "array([[ True,  True,  True,  True],\n",
       "       [ True,  True,  True,  True],\n",
       "       [ True,  True,  True,  True]])"
      ]
     },
     "execution_count": 246,
     "metadata": {},
     "output_type": "execute_result"
    }
   ],
   "source": [
    "(x < 6) | (x > 2)"
   ]
  },
  {
   "cell_type": "markdown",
   "id": "7a1b6e17-91bb-4a66-a134-8d0497ac0958",
   "metadata": {},
   "source": [
    "So, remember this: and and or perform a single Boolean evaluation on an entire object, while & and | perform multiple Boolean evaluations on the content (the individual bits or bytes) of an object. For Boolean NumPy arrays, the latter is nearly always the desired operation."
   ]
  }
 ],
 "metadata": {
  "kernelspec": {
   "display_name": "Python 3 (ipykernel)",
   "language": "python",
   "name": "python3"
  },
  "language_info": {
   "codemirror_mode": {
    "name": "ipython",
    "version": 3
   },
   "file_extension": ".py",
   "mimetype": "text/x-python",
   "name": "python",
   "nbconvert_exporter": "python",
   "pygments_lexer": "ipython3",
   "version": "3.12.2"
  }
 },
 "nbformat": 4,
 "nbformat_minor": 5
}
