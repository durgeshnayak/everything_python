{
 "cells": [
  {
   "cell_type": "code",
   "id": "initial_id",
   "metadata": {
    "collapsed": true,
    "ExecuteTime": {
     "end_time": "2024-08-01T03:03:28.248091Z",
     "start_time": "2024-08-01T03:03:28.194662Z"
    }
   },
   "source": [
    "import numpy as np"
   ],
   "outputs": [],
   "execution_count": 1
  },
  {
   "cell_type": "markdown",
   "source": [
    "Print NumPy version"
   ],
   "metadata": {
    "collapsed": false
   },
   "id": "1685b49a40a93839"
  },
  {
   "cell_type": "code",
   "source": [
    "print(np.__version__)"
   ],
   "metadata": {
    "collapsed": false,
    "ExecuteTime": {
     "end_time": "2024-08-01T03:03:28.254504Z",
     "start_time": "2024-08-01T03:03:28.251276Z"
    }
   },
   "id": "d3afae09f5d0a019",
   "outputs": [
    {
     "name": "stdout",
     "output_type": "stream",
     "text": [
      "2.0.1\n"
     ]
    }
   ],
   "execution_count": 2
  },
  {
   "cell_type": "markdown",
   "source": [
    "Creating arrays from scratch"
   ],
   "metadata": {
    "collapsed": false
   },
   "id": "118b47a5d3eb5f9d"
  },
  {
   "cell_type": "code",
   "source": [
    "# Create a length 10 array filled with 0s\n",
    "x10 = np.zeros(10, dtype=int)\n",
    "print(x10)"
   ],
   "metadata": {
    "collapsed": false,
    "ExecuteTime": {
     "end_time": "2024-08-01T03:03:28.260574Z",
     "start_time": "2024-08-01T03:03:28.255960Z"
    }
   },
   "id": "71f0d941622a757d",
   "outputs": [
    {
     "name": "stdout",
     "output_type": "stream",
     "text": [
      "[0 0 0 0 0 0 0 0 0 0]\n"
     ]
    }
   ],
   "execution_count": 3
  },
  {
   "cell_type": "code",
   "source": [
    "# Create a 3x5 floating point array filled with 1s\n",
    "x35 = np.ones((3, 5), dtype=float)\n",
    "print(x35)"
   ],
   "metadata": {
    "collapsed": false,
    "ExecuteTime": {
     "end_time": "2024-08-01T03:03:28.265731Z",
     "start_time": "2024-08-01T03:03:28.261250Z"
    }
   },
   "id": "62056f1198e9370c",
   "outputs": [
    {
     "name": "stdout",
     "output_type": "stream",
     "text": [
      "[[1. 1. 1. 1. 1.]\n",
      " [1. 1. 1. 1. 1.]\n",
      " [1. 1. 1. 1. 1.]]\n"
     ]
    }
   ],
   "execution_count": 4
  },
  {
   "cell_type": "code",
   "source": [
    "# Create a 3x5 array filled with Pi\n",
    "xpi = np.full((3, 5), 3.14)\n",
    "print(xpi)"
   ],
   "metadata": {
    "collapsed": false,
    "ExecuteTime": {
     "end_time": "2024-08-01T03:03:28.272474Z",
     "start_time": "2024-08-01T03:03:28.268908Z"
    }
   },
   "id": "cbdb08a6ded9a610",
   "outputs": [
    {
     "name": "stdout",
     "output_type": "stream",
     "text": [
      "[[3.14 3.14 3.14 3.14 3.14]\n",
      " [3.14 3.14 3.14 3.14 3.14]\n",
      " [3.14 3.14 3.14 3.14 3.14]]\n"
     ]
    }
   ],
   "execution_count": 5
  },
  {
   "cell_type": "code",
   "source": [
    "# Create an array filled with a sequence starting at 0, ending at 20 and steps of 2\n",
    "xseq = np.arange(0, 20, 2)\n",
    "print(xseq)"
   ],
   "metadata": {
    "collapsed": false,
    "ExecuteTime": {
     "end_time": "2024-08-01T03:03:28.275513Z",
     "start_time": "2024-08-01T03:03:28.273057Z"
    }
   },
   "id": "e9fd16baa1efcc09",
   "outputs": [
    {
     "name": "stdout",
     "output_type": "stream",
     "text": [
      "[ 0  2  4  6  8 10 12 14 16 18]\n"
     ]
    }
   ],
   "execution_count": 6
  },
  {
   "cell_type": "code",
   "source": [
    "# Create an array of 5 values evenly spaced between 0 and 1\n",
    "xdist = np.linspace(0, 1, 5)\n",
    "print(xdist)"
   ],
   "metadata": {
    "collapsed": false,
    "ExecuteTime": {
     "end_time": "2024-08-01T03:03:28.278214Z",
     "start_time": "2024-08-01T03:03:28.276323Z"
    }
   },
   "id": "3d2cde4dcf6e157",
   "outputs": [
    {
     "name": "stdout",
     "output_type": "stream",
     "text": [
      "[0.   0.25 0.5  0.75 1.  ]\n"
     ]
    }
   ],
   "execution_count": 7
  },
  {
   "cell_type": "code",
   "source": [
    "# Create a 3x3 array of uniformly distributed pseudorandom values between 0 and 1\n",
    "xrand = np.random.random((3, 3))\n",
    "print(xrand)"
   ],
   "metadata": {
    "collapsed": false,
    "ExecuteTime": {
     "end_time": "2024-08-01T03:03:28.298455Z",
     "start_time": "2024-08-01T03:03:28.279133Z"
    }
   },
   "id": "7f747763209f4aec",
   "outputs": [
    {
     "name": "stdout",
     "output_type": "stream",
     "text": [
      "[[0.88252656 0.58165337 0.39262248]\n",
      " [0.76233186 0.39989985 0.55713753]\n",
      " [0.69060576 0.28131199 0.95518049]]\n"
     ]
    }
   ],
   "execution_count": 8
  },
  {
   "cell_type": "code",
   "source": [
    "# Create a 3x3 array of normally distributed pseudorandom values with a mean of 0 and standard deviation of 1\n",
    "xstd = np.random.normal(0, 1, (3, 3))\n",
    "print(xstd)"
   ],
   "metadata": {
    "collapsed": false,
    "ExecuteTime": {
     "end_time": "2024-08-01T03:03:28.303257Z",
     "start_time": "2024-08-01T03:03:28.299255Z"
    }
   },
   "id": "674bc0301d318f6e",
   "outputs": [
    {
     "name": "stdout",
     "output_type": "stream",
     "text": [
      "[[ 2.20937834  0.51904855 -1.11162428]\n",
      " [-1.5682988   0.0781734  -0.98519146]\n",
      " [-0.46721551 -0.22849732 -1.88963484]]\n"
     ]
    }
   ],
   "execution_count": 9
  },
  {
   "cell_type": "code",
   "source": [
    "# Create a 3x3 matrix of pseudorandom values between 0 and 10\n",
    "xprand = np.random.randint(0, 10, (3, 3))\n",
    "print(xprand)"
   ],
   "metadata": {
    "collapsed": false,
    "ExecuteTime": {
     "end_time": "2024-08-01T03:03:28.309434Z",
     "start_time": "2024-08-01T03:03:28.305455Z"
    }
   },
   "id": "6e1f89443553ae4b",
   "outputs": [
    {
     "name": "stdout",
     "output_type": "stream",
     "text": [
      "[[9 8 9]\n",
      " [4 7 0]\n",
      " [8 2 1]]\n"
     ]
    }
   ],
   "execution_count": 10
  },
  {
   "cell_type": "code",
   "source": [
    "# Create an identity matrix\n",
    "xiden = np.eye(3)\n",
    "print(xiden)"
   ],
   "metadata": {
    "collapsed": false,
    "ExecuteTime": {
     "end_time": "2024-08-01T03:03:28.337897Z",
     "start_time": "2024-08-01T03:03:28.334935Z"
    }
   },
   "id": "6c7cd579e5803a10",
   "outputs": [
    {
     "name": "stdout",
     "output_type": "stream",
     "text": [
      "[[1. 0. 0.]\n",
      " [0. 1. 0.]\n",
      " [0. 0. 1.]]\n"
     ]
    }
   ],
   "execution_count": 11
  },
  {
   "cell_type": "markdown",
   "source": [
    "Create a random number generator and seed it"
   ],
   "metadata": {
    "collapsed": false
   },
   "id": "a0150ab47fad4e22"
  },
  {
   "cell_type": "code",
   "source": [
    "rng = np.random.default_rng(seed=170)"
   ],
   "metadata": {
    "collapsed": false,
    "ExecuteTime": {
     "end_time": "2024-08-01T03:03:28.370649Z",
     "start_time": "2024-08-01T03:03:28.368879Z"
    }
   },
   "id": "14f24bb64516c77a",
   "outputs": [],
   "execution_count": 12
  },
  {
   "cell_type": "markdown",
   "source": [
    "Create 1d, 2d and 3d array"
   ],
   "metadata": {
    "collapsed": false
   },
   "id": "b393b38c773e2c06"
  },
  {
   "cell_type": "code",
   "source": [
    "x1 = rng.integers(10, size=6) #1d array\n",
    "x2 = rng.integers(10, size=(3, 4)) #2d array\n",
    "x3 = rng.integers(10, size=(3, 4, 5)) #3d array"
   ],
   "metadata": {
    "collapsed": false,
    "ExecuteTime": {
     "end_time": "2024-08-01T03:03:28.415026Z",
     "start_time": "2024-08-01T03:03:28.412216Z"
    }
   },
   "id": "bff303f8ae5d53fb",
   "outputs": [],
   "execution_count": 13
  },
  {
   "cell_type": "markdown",
   "source": [
    "ndim - number of dimensions, shape - the size of each dimension, size - the total size of the array and dtype - the type of each element"
   ],
   "metadata": {
    "collapsed": false
   },
   "id": "1c06dbba534c379d"
  },
  {
   "cell_type": "code",
   "source": [
    "print(f'x3 dim: {x3.ndim}')\n",
    "print(f'x3 shape: {x3.shape}')\n",
    "print(f'x3 size: {x3.size}')\n",
    "print(f'x3 dtype: {x3.dtype}')"
   ],
   "metadata": {
    "collapsed": false,
    "ExecuteTime": {
     "end_time": "2024-08-01T03:03:28.463042Z",
     "start_time": "2024-08-01T03:03:28.460570Z"
    }
   },
   "id": "bac8fa0615aa7011",
   "outputs": [
    {
     "name": "stdout",
     "output_type": "stream",
     "text": [
      "x3 dim: 3\n",
      "x3 shape: (3, 4, 5)\n",
      "x3 size: 60\n",
      "x3 dtype: int64\n"
     ]
    }
   ],
   "execution_count": 14
  },
  {
   "cell_type": "markdown",
   "source": [
    "Array Indexing"
   ],
   "metadata": {
    "collapsed": false
   },
   "id": "d19194e7ba74b3c0"
  },
  {
   "cell_type": "code",
   "source": [
    "print(f'x1: {x1}')\n",
    "print(f'{x1[3]}')\n",
    "print(f'{x1[-1]}')"
   ],
   "metadata": {
    "collapsed": false,
    "ExecuteTime": {
     "end_time": "2024-08-01T03:03:28.494071Z",
     "start_time": "2024-08-01T03:03:28.491922Z"
    }
   },
   "id": "e200ba2bf81b56a9",
   "outputs": [
    {
     "name": "stdout",
     "output_type": "stream",
     "text": [
      "x1: [7 7 6 9 3 8]\n",
      "9\n",
      "8\n"
     ]
    }
   ],
   "execution_count": 15
  },
  {
   "cell_type": "code",
   "source": [
    "print(f'x2: {x2}')\n",
    "print(f'{x2[2, 3]}')\n",
    "print(f'{x2[0, -1]}')"
   ],
   "metadata": {
    "collapsed": false,
    "ExecuteTime": {
     "end_time": "2024-08-01T03:03:28.515939Z",
     "start_time": "2024-08-01T03:03:28.513581Z"
    }
   },
   "id": "32fd5452a395fca0",
   "outputs": [
    {
     "name": "stdout",
     "output_type": "stream",
     "text": [
      "x2: [[3 9 3 1]\n",
      " [7 9 6 0]\n",
      " [0 0 2 6]]\n",
      "6\n",
      "1\n"
     ]
    }
   ],
   "execution_count": 16
  },
  {
   "cell_type": "markdown",
   "source": [
    "Array Slicing"
   ],
   "metadata": {
    "collapsed": false
   },
   "id": "ad2e97dcbdf3aafc"
  },
  {
   "cell_type": "code",
   "source": [
    "print(f'x1: {x1}')\n",
    "print(f'First 3 elements of x1: {x1[:3]}')\n",
    "print(f'Alternate elements starting with the second element of x1: {x1[1::2]}')\n",
    "print(f'Alternate elements of x1 starting from the last element: {x1[-1::2]}')"
   ],
   "metadata": {
    "collapsed": false,
    "ExecuteTime": {
     "end_time": "2024-08-01T03:03:28.542425Z",
     "start_time": "2024-08-01T03:03:28.539752Z"
    }
   },
   "id": "eb448a55f4842473",
   "outputs": [
    {
     "name": "stdout",
     "output_type": "stream",
     "text": [
      "x1: [7 7 6 9 3 8]\n",
      "First 3 elements of x1: [7 7 6]\n",
      "Alternate elements starting with the second element of x1: [7 9 8]\n",
      "Alternate elements of x1 starting from the last element: [8]\n"
     ]
    }
   ],
   "execution_count": 17
  },
  {
   "cell_type": "markdown",
   "source": [
    "Multi-dimensional sub-arrays"
   ],
   "metadata": {
    "collapsed": false
   },
   "id": "3bc061d707607bec"
  },
  {
   "cell_type": "code",
   "source": [
    "print(f'x2: {x2}')\n",
    "print(f'First 2 rows and 3 columns of x2: {x2[:2, :3]}')\n",
    "print(f'Every second column of all 3 rows of x2:{x2[:3, ::2]}')\n",
    "print(f'All rows and columns reversed for x2:{x2[::-1,::-1]}')"
   ],
   "metadata": {
    "collapsed": false,
    "ExecuteTime": {
     "end_time": "2024-08-01T03:03:28.553164Z",
     "start_time": "2024-08-01T03:03:28.550417Z"
    }
   },
   "id": "a436e981d72a9003",
   "outputs": [
    {
     "name": "stdout",
     "output_type": "stream",
     "text": [
      "x2: [[3 9 3 1]\n",
      " [7 9 6 0]\n",
      " [0 0 2 6]]\n",
      "First 2 rows and 3 columns of x2: [[3 9 3]\n",
      " [7 9 6]]\n",
      "Every second column of all 3 rows of x2:[[3 3]\n",
      " [7 6]\n",
      " [0 2]]\n",
      "All rows and columns reversed for x2:[[6 2 0 0]\n",
      " [0 6 9 7]\n",
      " [1 3 9 3]]\n"
     ]
    }
   ],
   "execution_count": 18
  },
  {
   "cell_type": "markdown",
   "source": [
    "Selectively extracting rows and columns"
   ],
   "metadata": {
    "collapsed": false
   },
   "id": "aaedcd216c3c0e7d"
  },
  {
   "cell_type": "code",
   "source": [
    "print(f'Last column of x2: {x2[:, -1]}')\n",
    "print(f'First row of x2: {x2[0, :]}')"
   ],
   "metadata": {
    "collapsed": false,
    "ExecuteTime": {
     "end_time": "2024-08-01T03:03:28.565091Z",
     "start_time": "2024-08-01T03:03:28.562988Z"
    }
   },
   "id": "7daa9d78165801b4",
   "outputs": [
    {
     "name": "stdout",
     "output_type": "stream",
     "text": [
      "Last column of x2: [1 0 6]\n",
      "First row of x2: [3 9 3 1]\n"
     ]
    }
   ],
   "execution_count": 19
  },
  {
   "cell_type": "markdown",
   "source": [
    "Sub-arrays as No-copy Views"
   ],
   "metadata": {
    "collapsed": false
   },
   "id": "4362fd4cb84c011f"
  },
  {
   "cell_type": "code",
   "source": [
    "print(f'A 2x2 sub-array extracted from x2 by selecting first two columns of first two rows: {x2[:2, :2]}')\n",
    "print('Any modifications to elements of the above array will modify the original array (x2) as well.')\n"
   ],
   "metadata": {
    "collapsed": false,
    "ExecuteTime": {
     "end_time": "2024-08-01T03:03:28.594841Z",
     "start_time": "2024-08-01T03:03:28.592602Z"
    }
   },
   "id": "4002436ac3c575d9",
   "outputs": [
    {
     "name": "stdout",
     "output_type": "stream",
     "text": [
      "A 2x2 sub-array extracted from x2 by selecting first two columns of first two rows: [[3 9]\n",
      " [7 9]]\n",
      "Any modifications to elements of the above array will modify the original array (x2) as well.\n"
     ]
    }
   ],
   "execution_count": 20
  },
  {
   "cell_type": "markdown",
   "source": [
    "Creating copies of Arrays"
   ],
   "metadata": {
    "collapsed": false
   },
   "id": "9c98549c5a0469a0"
  },
  {
   "cell_type": "code",
   "source": [
    "x2_sub_copy = x2[:2, :2].copy()\n",
    "print(x2_sub_copy)"
   ],
   "metadata": {
    "collapsed": false,
    "ExecuteTime": {
     "end_time": "2024-08-01T03:03:28.607068Z",
     "start_time": "2024-08-01T03:03:28.605049Z"
    }
   },
   "id": "259f00fd731b9310",
   "outputs": [
    {
     "name": "stdout",
     "output_type": "stream",
     "text": [
      "[[3 9]\n",
      " [7 9]]\n"
     ]
    }
   ],
   "execution_count": 21
  },
  {
   "cell_type": "markdown",
   "source": [
    "Reshaping of Arrays - the size of the initial array must be equal to the size of the re-shaped array."
   ],
   "metadata": {
    "collapsed": false
   },
   "id": "8d8c51b3e6853164"
  },
  {
   "cell_type": "code",
   "source": [
    "grid = np.arange(1, 10).reshape(3, 3)\n",
    "print(grid)"
   ],
   "metadata": {
    "collapsed": false,
    "ExecuteTime": {
     "end_time": "2024-08-01T03:03:28.619329Z",
     "start_time": "2024-08-01T03:03:28.616986Z"
    }
   },
   "id": "526160039b87bf23",
   "outputs": [
    {
     "name": "stdout",
     "output_type": "stream",
     "text": [
      "[[1 2 3]\n",
      " [4 5 6]\n",
      " [7 8 9]]\n"
     ]
    }
   ],
   "execution_count": 22
  },
  {
   "cell_type": "code",
   "source": [
    "grid = np.array([x for x in range(1, 10)])\n",
    "# Reshaping grid to a row vector\n",
    "print(grid.reshape(1,9))"
   ],
   "metadata": {
    "collapsed": false,
    "ExecuteTime": {
     "end_time": "2024-08-01T03:03:28.655698Z",
     "start_time": "2024-08-01T03:03:28.653030Z"
    }
   },
   "id": "5df4ea2a55e18fd3",
   "outputs": [
    {
     "name": "stdout",
     "output_type": "stream",
     "text": [
      "[[1 2 3 4 5 6 7 8 9]]\n"
     ]
    }
   ],
   "execution_count": 23
  },
  {
   "cell_type": "code",
   "source": [
    "# Reshaping row vector to column vector\n",
    "print(grid.reshape(9, 1))"
   ],
   "metadata": {
    "collapsed": false,
    "ExecuteTime": {
     "end_time": "2024-08-01T03:03:28.668089Z",
     "start_time": "2024-08-01T03:03:28.665769Z"
    }
   },
   "id": "6db85b98c9c06bd0",
   "outputs": [
    {
     "name": "stdout",
     "output_type": "stream",
     "text": [
      "[[1]\n",
      " [2]\n",
      " [3]\n",
      " [4]\n",
      " [5]\n",
      " [6]\n",
      " [7]\n",
      " [8]\n",
      " [9]]\n"
     ]
    }
   ],
   "execution_count": 24
  },
  {
   "cell_type": "code",
   "source": [
    "print(grid[np.newaxis, :])"
   ],
   "metadata": {
    "collapsed": false,
    "ExecuteTime": {
     "end_time": "2024-08-01T03:03:28.679365Z",
     "start_time": "2024-08-01T03:03:28.677332Z"
    }
   },
   "id": "6a376035e823c5f8",
   "outputs": [
    {
     "name": "stdout",
     "output_type": "stream",
     "text": [
      "[[1 2 3 4 5 6 7 8 9]]\n"
     ]
    }
   ],
   "execution_count": 25
  },
  {
   "cell_type": "code",
   "source": [
    "print(grid[:, np.newaxis])"
   ],
   "metadata": {
    "collapsed": false,
    "ExecuteTime": {
     "end_time": "2024-08-01T03:03:28.703351Z",
     "start_time": "2024-08-01T03:03:28.700218Z"
    }
   },
   "id": "faed6cc43f8d351c",
   "outputs": [
    {
     "name": "stdout",
     "output_type": "stream",
     "text": [
      "[[1]\n",
      " [2]\n",
      " [3]\n",
      " [4]\n",
      " [5]\n",
      " [6]\n",
      " [7]\n",
      " [8]\n",
      " [9]]\n"
     ]
    }
   ],
   "execution_count": 26
  },
  {
   "cell_type": "markdown",
   "source": [
    "Concatenation and splitting of Arrays"
   ],
   "metadata": {
    "collapsed": false
   },
   "id": "9a1fa419c4ec1faf"
  },
  {
   "cell_type": "code",
   "source": [
    "x1 = np.array([x for x in range(1, 6)])\n",
    "x2 = np.array([x for x in range(6, 11)])\n",
    "x_con = np.concatenate([x1, x2])\n",
    "print(x_con)"
   ],
   "metadata": {
    "collapsed": false,
    "ExecuteTime": {
     "end_time": "2024-08-01T03:03:28.715037Z",
     "start_time": "2024-08-01T03:03:28.712585Z"
    }
   },
   "id": "68209d945e4839d2",
   "outputs": [
    {
     "name": "stdout",
     "output_type": "stream",
     "text": [
      "[ 1  2  3  4  5  6  7  8  9 10]\n"
     ]
    }
   ],
   "execution_count": 27
  },
  {
   "cell_type": "code",
   "source": [
    "x_grid = np.array([[1, 2, 3],\n",
    "                   [4, 5, 6]])\n",
    "x_grid_con = np.concatenate([x_grid, x_grid])\n",
    "print(x_grid_con)"
   ],
   "metadata": {
    "collapsed": false,
    "ExecuteTime": {
     "end_time": "2024-08-01T03:03:28.727123Z",
     "start_time": "2024-08-01T03:03:28.724492Z"
    }
   },
   "id": "fe5c0d84b36e97c3",
   "outputs": [
    {
     "name": "stdout",
     "output_type": "stream",
     "text": [
      "[[1 2 3]\n",
      " [4 5 6]\n",
      " [1 2 3]\n",
      " [4 5 6]]\n"
     ]
    }
   ],
   "execution_count": 28
  },
  {
   "cell_type": "code",
   "source": [
    "x_grid_con = np.concatenate([x_grid, x_grid], axis=1)\n",
    "print(x_grid_con)"
   ],
   "metadata": {
    "collapsed": false,
    "ExecuteTime": {
     "end_time": "2024-08-01T03:03:28.751610Z",
     "start_time": "2024-08-01T03:03:28.749336Z"
    }
   },
   "id": "389ff8bf233f1f96",
   "outputs": [
    {
     "name": "stdout",
     "output_type": "stream",
     "text": [
      "[[1 2 3 1 2 3]\n",
      " [4 5 6 4 5 6]]\n"
     ]
    }
   ],
   "execution_count": 29
  },
  {
   "cell_type": "code",
   "source": [
    "x_vstack = np.vstack([x1, x2])\n",
    "print(x_vstack)"
   ],
   "metadata": {
    "collapsed": false,
    "ExecuteTime": {
     "end_time": "2024-08-01T03:03:28.763439Z",
     "start_time": "2024-08-01T03:03:28.761284Z"
    }
   },
   "id": "86bb114a524d120",
   "outputs": [
    {
     "name": "stdout",
     "output_type": "stream",
     "text": [
      "[[ 1  2  3  4  5]\n",
      " [ 6  7  8  9 10]]\n"
     ]
    }
   ],
   "execution_count": 30
  },
  {
   "cell_type": "code",
   "source": [
    "x_hstack = np.hstack([x1, x2])\n",
    "print(x_hstack)"
   ],
   "metadata": {
    "collapsed": false,
    "ExecuteTime": {
     "end_time": "2024-08-01T03:03:28.773851Z",
     "start_time": "2024-08-01T03:03:28.771763Z"
    }
   },
   "id": "702a2e5501383215",
   "outputs": [
    {
     "name": "stdout",
     "output_type": "stream",
     "text": [
      "[ 1  2  3  4  5  6  7  8  9 10]\n"
     ]
    }
   ],
   "execution_count": 31
  },
  {
   "cell_type": "code",
   "source": [
    "x1, x2, x3 = np.split(x_hstack, [3, 6])\n",
    "print(x1, x2, x3)"
   ],
   "metadata": {
    "collapsed": false,
    "ExecuteTime": {
     "end_time": "2024-08-01T03:03:28.779640Z",
     "start_time": "2024-08-01T03:03:28.777330Z"
    }
   },
   "id": "54c35b829c2fddf6",
   "outputs": [
    {
     "name": "stdout",
     "output_type": "stream",
     "text": [
      "[1 2 3] [4 5 6] [ 7  8  9 10]\n"
     ]
    }
   ],
   "execution_count": 32
  },
  {
   "cell_type": "code",
   "source": [
    "grid = np.arange(16).reshape(4, 4)\n",
    "upper, lower = np.vsplit(grid, [2])\n",
    "print(upper)\n",
    "print(lower)"
   ],
   "metadata": {
    "collapsed": false,
    "ExecuteTime": {
     "end_time": "2024-08-01T03:03:28.802242Z",
     "start_time": "2024-08-01T03:03:28.799750Z"
    }
   },
   "id": "a3b9f88fec518013",
   "outputs": [
    {
     "name": "stdout",
     "output_type": "stream",
     "text": [
      "[[0 1 2 3]\n",
      " [4 5 6 7]]\n",
      "[[ 8  9 10 11]\n",
      " [12 13 14 15]]\n"
     ]
    }
   ],
   "execution_count": 33
  },
  {
   "cell_type": "code",
   "source": [
    "left, right = np.hsplit(grid, [2])\n",
    "print(left)\n",
    "print(right)"
   ],
   "metadata": {
    "collapsed": false,
    "ExecuteTime": {
     "end_time": "2024-08-01T03:03:28.814052Z",
     "start_time": "2024-08-01T03:03:28.811950Z"
    }
   },
   "id": "aa2bbfc01f5956d1",
   "outputs": [
    {
     "name": "stdout",
     "output_type": "stream",
     "text": [
      "[[ 0  1]\n",
      " [ 4  5]\n",
      " [ 8  9]\n",
      " [12 13]]\n",
      "[[ 2  3]\n",
      " [ 6  7]\n",
      " [10 11]\n",
      " [14 15]]\n"
     ]
    }
   ],
   "execution_count": 34
  }
 ],
 "metadata": {
  "kernelspec": {
   "display_name": "Python 3",
   "language": "python",
   "name": "python3"
  },
  "language_info": {
   "codemirror_mode": {
    "name": "ipython",
    "version": 2
   },
   "file_extension": ".py",
   "mimetype": "text/x-python",
   "name": "python",
   "nbconvert_exporter": "python",
   "pygments_lexer": "ipython2",
   "version": "2.7.6"
  }
 },
 "nbformat": 4,
 "nbformat_minor": 5
}
