{
 "cells": [
  {
   "metadata": {
    "ExecuteTime": {
     "end_time": "2025-03-15T06:37:42.850384Z",
     "start_time": "2025-03-15T06:37:42.848347Z"
    }
   },
   "cell_type": "code",
   "source": [
    "import numpy as np\n",
    "import pandas as pd"
   ],
   "id": "8409d1c34479ee7c",
   "outputs": [],
   "execution_count": 21
  },
  {
   "metadata": {},
   "cell_type": "markdown",
   "source": [
    "The Pandas Series Object\n",
    "\n",
    "A Pandas Series is a one-dimensional array of indexed data."
   ],
   "id": "f3cf459464a8ea6b"
  },
  {
   "metadata": {
    "ExecuteTime": {
     "end_time": "2025-03-15T06:37:42.862846Z",
     "start_time": "2025-03-15T06:37:42.860352Z"
    }
   },
   "cell_type": "code",
   "source": [
    "data = pd.Series([1, 2, 3, 5, 8, 13])\n",
    "data"
   ],
   "id": "61d7824591444e4e",
   "outputs": [
    {
     "data": {
      "text/plain": [
       "0     1\n",
       "1     2\n",
       "2     3\n",
       "3     5\n",
       "4     8\n",
       "5    13\n",
       "dtype: int64"
      ]
     },
     "execution_count": 22,
     "metadata": {},
     "output_type": "execute_result"
    }
   ],
   "execution_count": 22
  },
  {
   "metadata": {},
   "cell_type": "markdown",
   "source": "The Series combines a sequence of values with an explicit sequence of indices, which we can access with the values and index attributes.",
   "id": "e1b8808b94f7cc8b"
  },
  {
   "metadata": {
    "ExecuteTime": {
     "end_time": "2025-03-15T06:37:42.890215Z",
     "start_time": "2025-03-15T06:37:42.888214Z"
    }
   },
   "cell_type": "code",
   "source": [
    "# NumPy array\n",
    "data.values"
   ],
   "id": "41f5184aabd0d1ef",
   "outputs": [
    {
     "data": {
      "text/plain": [
       "array([ 1,  2,  3,  5,  8, 13])"
      ]
     },
     "execution_count": 23,
     "metadata": {},
     "output_type": "execute_result"
    }
   ],
   "execution_count": 23
  },
  {
   "metadata": {
    "ExecuteTime": {
     "end_time": "2025-03-15T06:37:42.910002Z",
     "start_time": "2025-03-15T06:37:42.908113Z"
    }
   },
   "cell_type": "code",
   "source": [
    "# pd.Index array-like object\n",
    "data.index"
   ],
   "id": "c07a3cad760e344a",
   "outputs": [
    {
     "data": {
      "text/plain": [
       "RangeIndex(start=0, stop=6, step=1)"
      ]
     },
     "execution_count": 24,
     "metadata": {},
     "output_type": "execute_result"
    }
   ],
   "execution_count": 24
  },
  {
   "metadata": {},
   "cell_type": "markdown",
   "source": "Series as a generalized NumPy array",
   "id": "5109c6cfbb888939"
  },
  {
   "metadata": {
    "ExecuteTime": {
     "end_time": "2025-03-15T06:37:42.934879Z",
     "start_time": "2025-03-15T06:37:42.932480Z"
    }
   },
   "cell_type": "code",
   "source": [
    "# non-integer index\n",
    "data =pd.Series([1, 2, 3, 5, 8, 13], index=['first', 'second', 'third', 'fourth', 'fifth', 'sixth'])\n",
    "data"
   ],
   "id": "606a8ab2ab799efe",
   "outputs": [
    {
     "data": {
      "text/plain": [
       "first      1\n",
       "second     2\n",
       "third      3\n",
       "fourth     5\n",
       "fifth      8\n",
       "sixth     13\n",
       "dtype: int64"
      ]
     },
     "execution_count": 25,
     "metadata": {},
     "output_type": "execute_result"
    }
   ],
   "execution_count": 25
  },
  {
   "metadata": {
    "ExecuteTime": {
     "end_time": "2025-03-15T06:37:42.959229Z",
     "start_time": "2025-03-15T06:37:42.957182Z"
    }
   },
   "cell_type": "code",
   "source": "data[\"third\"]",
   "id": "dca8240ea1e9859b",
   "outputs": [
    {
     "data": {
      "text/plain": [
       "np.int64(3)"
      ]
     },
     "execution_count": 26,
     "metadata": {},
     "output_type": "execute_result"
    }
   ],
   "execution_count": 26
  },
  {
   "metadata": {},
   "cell_type": "markdown",
   "source": "Even non-sequential or non-contiguous values can be used as index",
   "id": "61b9d277761389be"
  },
  {
   "metadata": {},
   "cell_type": "markdown",
   "source": "Series as a specialized Dictionary",
   "id": "1f3c97df1562ce1b"
  },
  {
   "metadata": {
    "ExecuteTime": {
     "end_time": "2025-03-15T06:37:42.980508Z",
     "start_time": "2025-03-15T06:37:42.977843Z"
    }
   },
   "cell_type": "code",
   "source": [
    "population_dict = {'California': 39538223,\n",
    "                   'Texas': 29145505,\n",
    "                   'Florida': 21538187,\n",
    "                   'New York': 20201249,\n",
    "                   'Pennsylvania': 13002700}\n",
    "population = pd.Series(population_dict)\n",
    "population"
   ],
   "id": "1346f56b487dfe2d",
   "outputs": [
    {
     "data": {
      "text/plain": [
       "California      39538223\n",
       "Texas           29145505\n",
       "Florida         21538187\n",
       "New York        20201249\n",
       "Pennsylvania    13002700\n",
       "dtype: int64"
      ]
     },
     "execution_count": 27,
     "metadata": {},
     "output_type": "execute_result"
    }
   ],
   "execution_count": 27
  },
  {
   "metadata": {},
   "cell_type": "markdown",
   "source": "The Pandas DataFrame Object",
   "id": "22081b77d56e5089"
  },
  {
   "metadata": {},
   "cell_type": "markdown",
   "source": "DataFrame as a generalized NumPy array",
   "id": "ecc8adebfb133e52"
  },
  {
   "metadata": {
    "ExecuteTime": {
     "end_time": "2025-03-15T06:37:43.012161Z",
     "start_time": "2025-03-15T06:37:43.009643Z"
    }
   },
   "cell_type": "code",
   "source": [
    "area_dict = {'California': 423967,\n",
    "             'Texas': 695662,\n",
    "             'Florida': 170312,\n",
    "             'New York': 141297,\n",
    "             'Pennsylvania': 119280}\n",
    "area = pd.Series(area_dict)\n",
    "area"
   ],
   "id": "fd4a02c01a3b716c",
   "outputs": [
    {
     "data": {
      "text/plain": [
       "California      423967\n",
       "Texas           695662\n",
       "Florida         170312\n",
       "New York        141297\n",
       "Pennsylvania    119280\n",
       "dtype: int64"
      ]
     },
     "execution_count": 28,
     "metadata": {},
     "output_type": "execute_result"
    }
   ],
   "execution_count": 28
  },
  {
   "metadata": {
    "ExecuteTime": {
     "end_time": "2025-03-15T06:37:43.048770Z",
     "start_time": "2025-03-15T06:37:43.046161Z"
    }
   },
   "cell_type": "code",
   "source": [
    "states = pd.DataFrame({'population': population,\n",
    "                       'area': area})\n",
    "states"
   ],
   "id": "eab8b95830922e26",
   "outputs": [
    {
     "data": {
      "text/plain": [
       "              population    area\n",
       "California      39538223  423967\n",
       "Texas           29145505  695662\n",
       "Florida         21538187  170312\n",
       "New York        20201249  141297\n",
       "Pennsylvania    13002700  119280"
      ],
      "text/html": [
       "<div>\n",
       "<style scoped>\n",
       "    .dataframe tbody tr th:only-of-type {\n",
       "        vertical-align: middle;\n",
       "    }\n",
       "\n",
       "    .dataframe tbody tr th {\n",
       "        vertical-align: top;\n",
       "    }\n",
       "\n",
       "    .dataframe thead th {\n",
       "        text-align: right;\n",
       "    }\n",
       "</style>\n",
       "<table border=\"1\" class=\"dataframe\">\n",
       "  <thead>\n",
       "    <tr style=\"text-align: right;\">\n",
       "      <th></th>\n",
       "      <th>population</th>\n",
       "      <th>area</th>\n",
       "    </tr>\n",
       "  </thead>\n",
       "  <tbody>\n",
       "    <tr>\n",
       "      <th>California</th>\n",
       "      <td>39538223</td>\n",
       "      <td>423967</td>\n",
       "    </tr>\n",
       "    <tr>\n",
       "      <th>Texas</th>\n",
       "      <td>29145505</td>\n",
       "      <td>695662</td>\n",
       "    </tr>\n",
       "    <tr>\n",
       "      <th>Florida</th>\n",
       "      <td>21538187</td>\n",
       "      <td>170312</td>\n",
       "    </tr>\n",
       "    <tr>\n",
       "      <th>New York</th>\n",
       "      <td>20201249</td>\n",
       "      <td>141297</td>\n",
       "    </tr>\n",
       "    <tr>\n",
       "      <th>Pennsylvania</th>\n",
       "      <td>13002700</td>\n",
       "      <td>119280</td>\n",
       "    </tr>\n",
       "  </tbody>\n",
       "</table>\n",
       "</div>"
      ]
     },
     "execution_count": 29,
     "metadata": {},
     "output_type": "execute_result"
    }
   ],
   "execution_count": 29
  },
  {
   "metadata": {
    "ExecuteTime": {
     "end_time": "2025-03-15T06:37:43.087073Z",
     "start_time": "2025-03-15T06:37:43.085219Z"
    }
   },
   "cell_type": "code",
   "source": "states.index",
   "id": "360034e4eaf49296",
   "outputs": [
    {
     "data": {
      "text/plain": [
       "Index(['California', 'Texas', 'Florida', 'New York', 'Pennsylvania'], dtype='object')"
      ]
     },
     "execution_count": 30,
     "metadata": {},
     "output_type": "execute_result"
    }
   ],
   "execution_count": 30
  },
  {
   "metadata": {
    "ExecuteTime": {
     "end_time": "2025-03-15T06:37:43.115719Z",
     "start_time": "2025-03-15T06:37:43.113677Z"
    }
   },
   "cell_type": "code",
   "source": "states.columns",
   "id": "bcd8cab3d31729bf",
   "outputs": [
    {
     "data": {
      "text/plain": [
       "Index(['population', 'area'], dtype='object')"
      ]
     },
     "execution_count": 31,
     "metadata": {},
     "output_type": "execute_result"
    }
   ],
   "execution_count": 31
  },
  {
   "metadata": {},
   "cell_type": "markdown",
   "source": "DataFrame as a specialized dictionary",
   "id": "f95eacc36f617c48"
  },
  {
   "metadata": {
    "ExecuteTime": {
     "end_time": "2025-03-15T06:37:43.148861Z",
     "start_time": "2025-03-15T06:37:43.146709Z"
    }
   },
   "cell_type": "code",
   "source": "states['area']",
   "id": "81308ab8642e957f",
   "outputs": [
    {
     "data": {
      "text/plain": [
       "California      423967\n",
       "Texas           695662\n",
       "Florida         170312\n",
       "New York        141297\n",
       "Pennsylvania    119280\n",
       "Name: area, dtype: int64"
      ]
     },
     "execution_count": 32,
     "metadata": {},
     "output_type": "execute_result"
    }
   ],
   "execution_count": 32
  },
  {
   "metadata": {},
   "cell_type": "markdown",
   "source": [
    "Notice a potential point of confusion here...\n",
    "In a two-dimensional NumPy array data[0] would refer to the first row in the array.\n",
    "In a DataFrame data['col0'] will return the first column which is a Series object."
   ],
   "id": "445a144e66c52ee8"
  },
  {
   "metadata": {},
   "cell_type": "markdown",
   "source": "Constructing DataFrame objects",
   "id": "e799785f6c849e73"
  },
  {
   "metadata": {},
   "cell_type": "markdown",
   "source": "From a single Series object",
   "id": "7e4cc0b38c17bbe1"
  },
  {
   "metadata": {
    "ExecuteTime": {
     "end_time": "2025-03-15T06:37:43.171371Z",
     "start_time": "2025-03-15T06:37:43.168899Z"
    }
   },
   "cell_type": "code",
   "source": "pd.DataFrame(population, columns=['population'])",
   "id": "c729d468116462f8",
   "outputs": [
    {
     "data": {
      "text/plain": [
       "              population\n",
       "California      39538223\n",
       "Texas           29145505\n",
       "Florida         21538187\n",
       "New York        20201249\n",
       "Pennsylvania    13002700"
      ],
      "text/html": [
       "<div>\n",
       "<style scoped>\n",
       "    .dataframe tbody tr th:only-of-type {\n",
       "        vertical-align: middle;\n",
       "    }\n",
       "\n",
       "    .dataframe tbody tr th {\n",
       "        vertical-align: top;\n",
       "    }\n",
       "\n",
       "    .dataframe thead th {\n",
       "        text-align: right;\n",
       "    }\n",
       "</style>\n",
       "<table border=\"1\" class=\"dataframe\">\n",
       "  <thead>\n",
       "    <tr style=\"text-align: right;\">\n",
       "      <th></th>\n",
       "      <th>population</th>\n",
       "    </tr>\n",
       "  </thead>\n",
       "  <tbody>\n",
       "    <tr>\n",
       "      <th>California</th>\n",
       "      <td>39538223</td>\n",
       "    </tr>\n",
       "    <tr>\n",
       "      <th>Texas</th>\n",
       "      <td>29145505</td>\n",
       "    </tr>\n",
       "    <tr>\n",
       "      <th>Florida</th>\n",
       "      <td>21538187</td>\n",
       "    </tr>\n",
       "    <tr>\n",
       "      <th>New York</th>\n",
       "      <td>20201249</td>\n",
       "    </tr>\n",
       "    <tr>\n",
       "      <th>Pennsylvania</th>\n",
       "      <td>13002700</td>\n",
       "    </tr>\n",
       "  </tbody>\n",
       "</table>\n",
       "</div>"
      ]
     },
     "execution_count": 33,
     "metadata": {},
     "output_type": "execute_result"
    }
   ],
   "execution_count": 33
  },
  {
   "metadata": {},
   "cell_type": "markdown",
   "source": "From a list of dictionaries",
   "id": "44432f983c003202"
  },
  {
   "metadata": {
    "ExecuteTime": {
     "end_time": "2025-03-15T06:37:43.204886Z",
     "start_time": "2025-03-15T06:37:43.202174Z"
    }
   },
   "cell_type": "code",
   "source": [
    "data = [{'a': i, 'b': 2 * i} for i in range(3)]\n",
    "pd.DataFrame(data)"
   ],
   "id": "2ab8a35d1aef2cf5",
   "outputs": [
    {
     "data": {
      "text/plain": [
       "   a  b\n",
       "0  0  0\n",
       "1  1  2\n",
       "2  2  4"
      ],
      "text/html": [
       "<div>\n",
       "<style scoped>\n",
       "    .dataframe tbody tr th:only-of-type {\n",
       "        vertical-align: middle;\n",
       "    }\n",
       "\n",
       "    .dataframe tbody tr th {\n",
       "        vertical-align: top;\n",
       "    }\n",
       "\n",
       "    .dataframe thead th {\n",
       "        text-align: right;\n",
       "    }\n",
       "</style>\n",
       "<table border=\"1\" class=\"dataframe\">\n",
       "  <thead>\n",
       "    <tr style=\"text-align: right;\">\n",
       "      <th></th>\n",
       "      <th>a</th>\n",
       "      <th>b</th>\n",
       "    </tr>\n",
       "  </thead>\n",
       "  <tbody>\n",
       "    <tr>\n",
       "      <th>0</th>\n",
       "      <td>0</td>\n",
       "      <td>0</td>\n",
       "    </tr>\n",
       "    <tr>\n",
       "      <th>1</th>\n",
       "      <td>1</td>\n",
       "      <td>2</td>\n",
       "    </tr>\n",
       "    <tr>\n",
       "      <th>2</th>\n",
       "      <td>2</td>\n",
       "      <td>4</td>\n",
       "    </tr>\n",
       "  </tbody>\n",
       "</table>\n",
       "</div>"
      ]
     },
     "execution_count": 34,
     "metadata": {},
     "output_type": "execute_result"
    }
   ],
   "execution_count": 34
  },
  {
   "metadata": {},
   "cell_type": "markdown",
   "source": "From a dictionary of Series objects",
   "id": "a3871b5a0469e006"
  },
  {
   "metadata": {
    "ExecuteTime": {
     "end_time": "2025-03-15T06:37:43.247490Z",
     "start_time": "2025-03-15T06:37:43.244698Z"
    }
   },
   "cell_type": "code",
   "source": "pd.DataFrame({'population': population, 'area': area})",
   "id": "9ba68d52223307fb",
   "outputs": [
    {
     "data": {
      "text/plain": [
       "              population    area\n",
       "California      39538223  423967\n",
       "Texas           29145505  695662\n",
       "Florida         21538187  170312\n",
       "New York        20201249  141297\n",
       "Pennsylvania    13002700  119280"
      ],
      "text/html": [
       "<div>\n",
       "<style scoped>\n",
       "    .dataframe tbody tr th:only-of-type {\n",
       "        vertical-align: middle;\n",
       "    }\n",
       "\n",
       "    .dataframe tbody tr th {\n",
       "        vertical-align: top;\n",
       "    }\n",
       "\n",
       "    .dataframe thead th {\n",
       "        text-align: right;\n",
       "    }\n",
       "</style>\n",
       "<table border=\"1\" class=\"dataframe\">\n",
       "  <thead>\n",
       "    <tr style=\"text-align: right;\">\n",
       "      <th></th>\n",
       "      <th>population</th>\n",
       "      <th>area</th>\n",
       "    </tr>\n",
       "  </thead>\n",
       "  <tbody>\n",
       "    <tr>\n",
       "      <th>California</th>\n",
       "      <td>39538223</td>\n",
       "      <td>423967</td>\n",
       "    </tr>\n",
       "    <tr>\n",
       "      <th>Texas</th>\n",
       "      <td>29145505</td>\n",
       "      <td>695662</td>\n",
       "    </tr>\n",
       "    <tr>\n",
       "      <th>Florida</th>\n",
       "      <td>21538187</td>\n",
       "      <td>170312</td>\n",
       "    </tr>\n",
       "    <tr>\n",
       "      <th>New York</th>\n",
       "      <td>20201249</td>\n",
       "      <td>141297</td>\n",
       "    </tr>\n",
       "    <tr>\n",
       "      <th>Pennsylvania</th>\n",
       "      <td>13002700</td>\n",
       "      <td>119280</td>\n",
       "    </tr>\n",
       "  </tbody>\n",
       "</table>\n",
       "</div>"
      ]
     },
     "execution_count": 35,
     "metadata": {},
     "output_type": "execute_result"
    }
   ],
   "execution_count": 35
  },
  {
   "metadata": {},
   "cell_type": "markdown",
   "source": "From a two-dimensional NumPy array",
   "id": "ac13ca2c5162551d"
  },
  {
   "metadata": {
    "ExecuteTime": {
     "end_time": "2025-03-15T06:37:43.311248Z",
     "start_time": "2025-03-15T06:37:43.308215Z"
    }
   },
   "cell_type": "code",
   "source": [
    "pd.DataFrame(np.random.rand(3, 2),\n",
    "             columns=['foo', 'bar'],\n",
    "             index=['a', 'b', 'c'])"
   ],
   "id": "3ec5b295f9d79cdf",
   "outputs": [
    {
     "data": {
      "text/plain": [
       "        foo       bar\n",
       "a  0.096183  0.677245\n",
       "b  0.498775  0.389856\n",
       "c  0.145771  0.192085"
      ],
      "text/html": [
       "<div>\n",
       "<style scoped>\n",
       "    .dataframe tbody tr th:only-of-type {\n",
       "        vertical-align: middle;\n",
       "    }\n",
       "\n",
       "    .dataframe tbody tr th {\n",
       "        vertical-align: top;\n",
       "    }\n",
       "\n",
       "    .dataframe thead th {\n",
       "        text-align: right;\n",
       "    }\n",
       "</style>\n",
       "<table border=\"1\" class=\"dataframe\">\n",
       "  <thead>\n",
       "    <tr style=\"text-align: right;\">\n",
       "      <th></th>\n",
       "      <th>foo</th>\n",
       "      <th>bar</th>\n",
       "    </tr>\n",
       "  </thead>\n",
       "  <tbody>\n",
       "    <tr>\n",
       "      <th>a</th>\n",
       "      <td>0.096183</td>\n",
       "      <td>0.677245</td>\n",
       "    </tr>\n",
       "    <tr>\n",
       "      <th>b</th>\n",
       "      <td>0.498775</td>\n",
       "      <td>0.389856</td>\n",
       "    </tr>\n",
       "    <tr>\n",
       "      <th>c</th>\n",
       "      <td>0.145771</td>\n",
       "      <td>0.192085</td>\n",
       "    </tr>\n",
       "  </tbody>\n",
       "</table>\n",
       "</div>"
      ]
     },
     "execution_count": 36,
     "metadata": {},
     "output_type": "execute_result"
    }
   ],
   "execution_count": 36
  },
  {
   "metadata": {},
   "cell_type": "markdown",
   "source": "The Pandas Index object",
   "id": "24f84506fc5afc6b"
  },
  {
   "metadata": {
    "ExecuteTime": {
     "end_time": "2025-03-15T06:37:43.342224Z",
     "start_time": "2025-03-15T06:37:43.340755Z"
    }
   },
   "cell_type": "code",
   "source": "ind = pd.Index([2, 3, 5, 7, 11])",
   "id": "d4cf80a0749c0888",
   "outputs": [],
   "execution_count": 37
  },
  {
   "metadata": {},
   "cell_type": "markdown",
   "source": "The Pandas Index object is an immutable array.",
   "id": "38fa305ce2b83449"
  },
  {
   "metadata": {},
   "cell_type": "markdown",
   "source": "Index as an ordered set.",
   "id": "c04d136a66505ed0"
  },
  {
   "metadata": {
    "ExecuteTime": {
     "end_time": "2025-03-15T06:37:43.378959Z",
     "start_time": "2025-03-15T06:37:43.376757Z"
    }
   },
   "cell_type": "code",
   "source": [
    "indA = pd.Index([1, 3, 5, 7, 9])\n",
    "indB = pd.Index([2, 3, 5, 7, 11])\n",
    "indA.intersection(indB)"
   ],
   "id": "4578749bbb46a665",
   "outputs": [
    {
     "data": {
      "text/plain": [
       "Index([3, 5, 7], dtype='int64')"
      ]
     },
     "execution_count": 38,
     "metadata": {},
     "output_type": "execute_result"
    }
   ],
   "execution_count": 38
  },
  {
   "metadata": {
    "ExecuteTime": {
     "end_time": "2025-03-15T06:37:43.466573Z",
     "start_time": "2025-03-15T06:37:43.464507Z"
    }
   },
   "cell_type": "code",
   "source": "indA.union(indB)",
   "id": "c2e13678e742ee78",
   "outputs": [
    {
     "data": {
      "text/plain": [
       "Index([1, 2, 3, 5, 7, 9, 11], dtype='int64')"
      ]
     },
     "execution_count": 39,
     "metadata": {},
     "output_type": "execute_result"
    }
   ],
   "execution_count": 39
  },
  {
   "metadata": {
    "ExecuteTime": {
     "end_time": "2025-03-15T06:37:43.547586Z",
     "start_time": "2025-03-15T06:37:43.545072Z"
    }
   },
   "cell_type": "code",
   "source": "indA.symmetric_difference(indB)",
   "id": "809f04e5bf97e5d2",
   "outputs": [
    {
     "data": {
      "text/plain": [
       "Index([1, 2, 9, 11], dtype='int64')"
      ]
     },
     "execution_count": 40,
     "metadata": {},
     "output_type": "execute_result"
    }
   ],
   "execution_count": 40
  }
 ],
 "metadata": {
  "kernelspec": {
   "display_name": "Python 3 (ipykernel)",
   "language": "python",
   "name": "python3"
  },
  "language_info": {
   "codemirror_mode": {
    "name": "ipython",
    "version": 3
   },
   "file_extension": ".py",
   "mimetype": "text/x-python",
   "name": "python",
   "nbconvert_exporter": "python",
   "pygments_lexer": "ipython3",
   "version": "3.12.2"
  }
 },
 "nbformat": 4,
 "nbformat_minor": 5
}
