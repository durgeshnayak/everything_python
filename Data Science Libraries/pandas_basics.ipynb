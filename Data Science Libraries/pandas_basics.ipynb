{
 "cells": [
  {
   "cell_type": "code",
   "execution_count": null,
   "id": "initial_id",
   "metadata": {
    "collapsed": true
   },
   "outputs": [],
   "source": [
    "import numpy as np\n",
    "import pandas as pd\n",
    "print(np.__version__)\n",
    "print(pd.__version__)"
   ]
  },
  {
   "cell_type": "markdown",
   "source": [
    "Pandas - Series"
   ],
   "metadata": {
    "collapsed": false
   },
   "id": "e87f6dd9fc96b082"
  },
  {
   "cell_type": "code",
   "outputs": [],
   "source": [
    "pdSeries = pd.Series([1, 2, 3])\n",
    "print(pdSeries.shape)\n",
    "print(pdSeries)"
   ],
   "metadata": {
    "collapsed": false
   },
   "id": "27335be66ae1e686",
   "execution_count": null
  },
  {
   "cell_type": "code",
   "outputs": [],
   "source": [
    "print(f'Index: {pdSeries.index}')\n",
    "print(f'Values: {pdSeries.values}')"
   ],
   "metadata": {
    "collapsed": false
   },
   "id": "9f4936a6cc080d10",
   "execution_count": null
  },
  {
   "cell_type": "markdown",
   "source": [
    "Series as specialized Dictionary"
   ],
   "metadata": {
    "collapsed": false
   },
   "id": "2d45552ef2af74f7"
  },
  {
   "cell_type": "code",
   "outputs": [],
   "source": [
    "family = {'Durgesh': 43, 'Snehal': 40, 'Shyamala': 70, 'Chinmayee': 13}\n",
    "pdSeries = pd.Series(family)\n",
    "print(pdSeries.shape)\n",
    "print(pdSeries)\n",
    "print(f'Index: {pdSeries.index}')\n",
    "print(f'Values: {pdSeries.values}')"
   ],
   "metadata": {
    "collapsed": false
   },
   "id": "4fa5f7adac48f094",
   "execution_count": null
  },
  {
   "cell_type": "markdown",
   "source": [
    "Pandas - DataFrames"
   ],
   "metadata": {
    "collapsed": false
   },
   "id": "a5d8dce70b345cc8"
  },
  {
   "cell_type": "code",
   "outputs": [],
   "source": [
    "relations = {'Durgesh': 'Father', 'Snehal': \"Mother\", 'Shyamala': 'Grandmother', 'Chinmayee': 'Daughter'}\n",
    "pdDataFrame = pd.DataFrame()\n"
   ],
   "metadata": {
    "collapsed": false
   },
   "id": "f2bdd85bf592f3b2"
  }
 ],
 "metadata": {
  "kernelspec": {
   "display_name": "Python 3",
   "language": "python",
   "name": "python3"
  },
  "language_info": {
   "codemirror_mode": {
    "name": "ipython",
    "version": 2
   },
   "file_extension": ".py",
   "mimetype": "text/x-python",
   "name": "python",
   "nbconvert_exporter": "python",
   "pygments_lexer": "ipython2",
   "version": "2.7.6"
  }
 },
 "nbformat": 4,
 "nbformat_minor": 5
}
