{
 "cells": [
  {
   "cell_type": "code",
   "execution_count": 2,
   "id": "initial_id",
   "metadata": {
    "ExecuteTime": {
     "end_time": "2024-08-10T03:04:31.001928Z",
     "start_time": "2024-08-10T03:04:30.940511Z"
    }
   },
   "outputs": [],
   "source": [
    "import numpy as np"
   ]
  },
  {
   "cell_type": "markdown",
   "id": "1685b49a40a93839",
   "metadata": {
    "collapsed": false,
    "jupyter": {
     "outputs_hidden": false
    }
   },
   "source": [
    "Print NumPy version"
   ]
  },
  {
   "cell_type": "code",
   "execution_count": 4,
   "id": "d3afae09f5d0a019",
   "metadata": {
    "ExecuteTime": {
     "end_time": "2024-08-10T03:04:31.008052Z",
     "start_time": "2024-08-10T03:04:31.003627Z"
    },
    "collapsed": false,
    "jupyter": {
     "outputs_hidden": false
    }
   },
   "outputs": [
    {
     "name": "stdout",
     "output_type": "stream",
     "text": [
      "1.26.4\n"
     ]
    }
   ],
   "source": [
    "print(np.__version__)"
   ]
  },
  {
   "cell_type": "markdown",
   "id": "85b7c02e-af67-4e3b-b5ed-ca0203c16d44",
   "metadata": {},
   "source": [
    "Creatin arrays from Python Lists"
   ]
  },
  {
   "cell_type": "code",
   "execution_count": 83,
   "id": "6c5586bf-9d67-493a-bae8-bae3cc699cf2",
   "metadata": {},
   "outputs": [
    {
     "data": {
      "text/plain": [
       "array([1, 2, 3, 4, 5])"
      ]
     },
     "execution_count": 83,
     "metadata": {},
     "output_type": "execute_result"
    }
   ],
   "source": [
    "# Integer array\n",
    "np.array([1, 2, 3, 4, 5])"
   ]
  },
  {
   "cell_type": "markdown",
   "id": "b1e9f890-f025-4aa6-af74-49fe718e6f5f",
   "metadata": {},
   "source": [
    "Setting the type explicitly when creating an array"
   ]
  },
  {
   "cell_type": "code",
   "execution_count": 85,
   "id": "0436b102-c088-44c0-98e5-09fdba88cd6c",
   "metadata": {},
   "outputs": [
    {
     "data": {
      "text/plain": [
       "array([1., 2., 3.], dtype=float32)"
      ]
     },
     "execution_count": 85,
     "metadata": {},
     "output_type": "execute_result"
    }
   ],
   "source": [
    "np.array([1, 2, 3], dtype = np.float32)"
   ]
  },
  {
   "cell_type": "markdown",
   "id": "ea57aa88-3a95-40b7-b970-b91b66d4fdfd",
   "metadata": {},
   "source": [
    "Creating multi-dimensional arrays from nested lists"
   ]
  },
  {
   "cell_type": "code",
   "execution_count": 91,
   "id": "3a9e65a4-dfb4-4bf1-a084-a45dae281ca7",
   "metadata": {},
   "outputs": [
    {
     "data": {
      "text/plain": [
       "array([[2, 3, 4],\n",
       "       [4, 5, 6],\n",
       "       [6, 7, 8]])"
      ]
     },
     "execution_count": 91,
     "metadata": {},
     "output_type": "execute_result"
    }
   ],
   "source": [
    "# Nested lists create multi-dimensional arrays\n",
    "np.array([range(i, i + 3) for i in [2, 4, 6]])"
   ]
  },
  {
   "cell_type": "markdown",
   "id": "118b47a5d3eb5f9d",
   "metadata": {
    "collapsed": false,
    "jupyter": {
     "outputs_hidden": false
    }
   },
   "source": [
    "Creating arrays from scratch"
   ]
  },
  {
   "cell_type": "code",
   "execution_count": 6,
   "id": "71f0d941622a757d",
   "metadata": {
    "ExecuteTime": {
     "end_time": "2024-08-10T03:04:31.014037Z",
     "start_time": "2024-08-10T03:04:31.009432Z"
    },
    "collapsed": false,
    "jupyter": {
     "outputs_hidden": false
    }
   },
   "outputs": [
    {
     "name": "stdout",
     "output_type": "stream",
     "text": [
      "[0 0 0 0 0 0 0 0 0 0]\n"
     ]
    }
   ],
   "source": [
    "# Create a length 10 array filled with 0s\n",
    "x10 = np.zeros(10, dtype=int)\n",
    "print(x10)"
   ]
  },
  {
   "cell_type": "code",
   "execution_count": 7,
   "id": "62056f1198e9370c",
   "metadata": {
    "ExecuteTime": {
     "end_time": "2024-08-10T03:04:31.019089Z",
     "start_time": "2024-08-10T03:04:31.015024Z"
    },
    "collapsed": false,
    "jupyter": {
     "outputs_hidden": false
    }
   },
   "outputs": [
    {
     "name": "stdout",
     "output_type": "stream",
     "text": [
      "[[1. 1. 1. 1. 1.]\n",
      " [1. 1. 1. 1. 1.]\n",
      " [1. 1. 1. 1. 1.]]\n"
     ]
    }
   ],
   "source": [
    "# Create a 3x5 floating point array filled with 1s\n",
    "x35 = np.ones((3, 5), dtype=float)\n",
    "print(x35)"
   ]
  },
  {
   "cell_type": "code",
   "execution_count": 8,
   "id": "cbdb08a6ded9a610",
   "metadata": {
    "ExecuteTime": {
     "end_time": "2024-08-10T03:04:31.024164Z",
     "start_time": "2024-08-10T03:04:31.021608Z"
    },
    "collapsed": false,
    "jupyter": {
     "outputs_hidden": false
    }
   },
   "outputs": [
    {
     "name": "stdout",
     "output_type": "stream",
     "text": [
      "[[3.14 3.14 3.14 3.14 3.14]\n",
      " [3.14 3.14 3.14 3.14 3.14]\n",
      " [3.14 3.14 3.14 3.14 3.14]]\n"
     ]
    }
   ],
   "source": [
    "# Create a 3x5 array filled with Pi\n",
    "xpi = np.full((3, 5), 3.14)\n",
    "print(xpi)"
   ]
  },
  {
   "cell_type": "code",
   "execution_count": 9,
   "id": "e9fd16baa1efcc09",
   "metadata": {
    "ExecuteTime": {
     "end_time": "2024-08-10T03:04:31.028544Z",
     "start_time": "2024-08-10T03:04:31.025157Z"
    },
    "collapsed": false,
    "jupyter": {
     "outputs_hidden": false
    }
   },
   "outputs": [
    {
     "name": "stdout",
     "output_type": "stream",
     "text": [
      "[ 0  2  4  6  8 10 12 14 16 18]\n"
     ]
    }
   ],
   "source": [
    "# Create an array filled with a sequence starting at 0, ending at 20 and steps of 2\n",
    "xseq = np.arange(0, 20, 2)\n",
    "print(xseq)"
   ]
  },
  {
   "cell_type": "code",
   "execution_count": 10,
   "id": "3d2cde4dcf6e157",
   "metadata": {
    "ExecuteTime": {
     "end_time": "2024-08-10T03:04:31.033038Z",
     "start_time": "2024-08-10T03:04:31.029864Z"
    },
    "collapsed": false,
    "jupyter": {
     "outputs_hidden": false
    }
   },
   "outputs": [
    {
     "name": "stdout",
     "output_type": "stream",
     "text": [
      "[0.   0.25 0.5  0.75 1.  ]\n"
     ]
    }
   ],
   "source": [
    "# Create an array of 5 values evenly spaced between 0 and 1\n",
    "xdist = np.linspace(0, 1, 5)\n",
    "print(xdist)"
   ]
  },
  {
   "cell_type": "code",
   "execution_count": 11,
   "id": "7f747763209f4aec",
   "metadata": {
    "ExecuteTime": {
     "end_time": "2024-08-10T03:04:31.056149Z",
     "start_time": "2024-08-10T03:04:31.033930Z"
    },
    "collapsed": false,
    "jupyter": {
     "outputs_hidden": false
    }
   },
   "outputs": [
    {
     "name": "stdout",
     "output_type": "stream",
     "text": [
      "[[0.53252625 0.6983901  0.94280744]\n",
      " [0.01609853 0.24320362 0.02097774]\n",
      " [0.1085645  0.42043125 0.43067722]]\n"
     ]
    }
   ],
   "source": [
    "# Create a 3x3 array of uniformly distributed pseudorandom values between 0 and 1\n",
    "xrand = np.random.random((3, 3))\n",
    "print(xrand)"
   ]
  },
  {
   "cell_type": "code",
   "execution_count": 12,
   "id": "674bc0301d318f6e",
   "metadata": {
    "ExecuteTime": {
     "end_time": "2024-08-10T03:04:31.060483Z",
     "start_time": "2024-08-10T03:04:31.056946Z"
    },
    "collapsed": false,
    "jupyter": {
     "outputs_hidden": false
    }
   },
   "outputs": [
    {
     "name": "stdout",
     "output_type": "stream",
     "text": [
      "[[ 0.92540888  1.23666077 -0.81349668]\n",
      " [ 0.07280468  0.90212435 -0.50097204]\n",
      " [-0.91555946 -0.28841521  0.63165638]]\n"
     ]
    }
   ],
   "source": [
    "# Create a 3x3 array of normally distributed pseudorandom values with a mean of 0 and standard deviation of 1\n",
    "xstd = np.random.normal(0, 1, (3, 3))\n",
    "print(xstd)"
   ]
  },
  {
   "cell_type": "code",
   "execution_count": 13,
   "id": "6e1f89443553ae4b",
   "metadata": {
    "ExecuteTime": {
     "end_time": "2024-08-10T03:04:31.065186Z",
     "start_time": "2024-08-10T03:04:31.061099Z"
    },
    "collapsed": false,
    "jupyter": {
     "outputs_hidden": false
    }
   },
   "outputs": [
    {
     "name": "stdout",
     "output_type": "stream",
     "text": [
      "[[9 7 9]\n",
      " [4 0 5]\n",
      " [4 9 0]]\n"
     ]
    }
   ],
   "source": [
    "# Create a 3x3 matrix of pseudorandom values between 0 and 10\n",
    "xprand = np.random.randint(0, 10, (3, 3))\n",
    "print(xprand)"
   ]
  },
  {
   "cell_type": "code",
   "execution_count": 14,
   "id": "6c7cd579e5803a10",
   "metadata": {
    "ExecuteTime": {
     "end_time": "2024-08-10T03:04:31.068571Z",
     "start_time": "2024-08-10T03:04:31.065844Z"
    },
    "collapsed": false,
    "jupyter": {
     "outputs_hidden": false
    }
   },
   "outputs": [
    {
     "name": "stdout",
     "output_type": "stream",
     "text": [
      "[[1. 0. 0.]\n",
      " [0. 1. 0.]\n",
      " [0. 0. 1.]]\n"
     ]
    }
   ],
   "source": [
    "# Create an identity matrix\n",
    "xiden = np.eye(3)\n",
    "print(xiden)"
   ]
  },
  {
   "cell_type": "markdown",
   "id": "c7642ad9-d704-4e58-b5a4-234fae7a6a02",
   "metadata": {},
   "source": [
    "-------------------------------------------BASICS OF NUMPY ARRAYS-----------------------------------------"
   ]
  },
  {
   "cell_type": "markdown",
   "id": "a0150ab47fad4e22",
   "metadata": {
    "collapsed": false,
    "jupyter": {
     "outputs_hidden": false
    }
   },
   "source": [
    "Create a random number generator and seed it"
   ]
  },
  {
   "cell_type": "code",
   "execution_count": 16,
   "id": "14f24bb64516c77a",
   "metadata": {
    "ExecuteTime": {
     "end_time": "2024-08-10T03:04:31.073672Z",
     "start_time": "2024-08-10T03:04:31.071535Z"
    },
    "collapsed": false,
    "jupyter": {
     "outputs_hidden": false
    }
   },
   "outputs": [],
   "source": [
    "rng = np.random.default_rng(seed=170)"
   ]
  },
  {
   "cell_type": "markdown",
   "id": "b393b38c773e2c06",
   "metadata": {
    "collapsed": false,
    "jupyter": {
     "outputs_hidden": false
    }
   },
   "source": [
    "Create 1d, 2d and 3d array"
   ]
  },
  {
   "cell_type": "code",
   "execution_count": 18,
   "id": "bff303f8ae5d53fb",
   "metadata": {
    "ExecuteTime": {
     "end_time": "2024-08-10T03:04:31.077676Z",
     "start_time": "2024-08-10T03:04:31.075548Z"
    },
    "collapsed": false,
    "jupyter": {
     "outputs_hidden": false
    }
   },
   "outputs": [],
   "source": [
    "x1 = rng.integers(10, size=6) #1d array\n",
    "x2 = rng.integers(10, size=(3, 4)) #2d array\n",
    "x3 = rng.integers(10, size=(3, 4, 5)) #3d array"
   ]
  },
  {
   "cell_type": "markdown",
   "id": "1c06dbba534c379d",
   "metadata": {
    "collapsed": false,
    "jupyter": {
     "outputs_hidden": false
    }
   },
   "source": [
    "ndim - number of dimensions, shape - the size of each dimension, size - the total size of the array and dtype - the type of each element"
   ]
  },
  {
   "cell_type": "code",
   "execution_count": 20,
   "id": "bac8fa0615aa7011",
   "metadata": {
    "ExecuteTime": {
     "end_time": "2024-08-10T03:04:31.128760Z",
     "start_time": "2024-08-10T03:04:31.126147Z"
    },
    "collapsed": false,
    "jupyter": {
     "outputs_hidden": false
    }
   },
   "outputs": [
    {
     "name": "stdout",
     "output_type": "stream",
     "text": [
      "x3 dim: 3\n",
      "x3 shape: (3, 4, 5)\n",
      "x3 size: 60\n",
      "x3 dtype: int64\n"
     ]
    }
   ],
   "source": [
    "print(f'x3 dim: {x3.ndim}')\n",
    "print(f'x3 shape: {x3.shape}')\n",
    "print(f'x3 size: {x3.size}')\n",
    "print(f'x3 dtype: {x3.dtype}')"
   ]
  },
  {
   "cell_type": "markdown",
   "id": "d19194e7ba74b3c0",
   "metadata": {
    "collapsed": false,
    "jupyter": {
     "outputs_hidden": false
    }
   },
   "source": [
    "Array Indexing"
   ]
  },
  {
   "cell_type": "code",
   "execution_count": 22,
   "id": "e200ba2bf81b56a9",
   "metadata": {
    "ExecuteTime": {
     "end_time": "2024-08-10T03:04:31.179289Z",
     "start_time": "2024-08-10T03:04:31.177084Z"
    },
    "collapsed": false,
    "jupyter": {
     "outputs_hidden": false
    }
   },
   "outputs": [
    {
     "name": "stdout",
     "output_type": "stream",
     "text": [
      "x1: [7 7 6 9 3 8]\n",
      "9\n",
      "8\n"
     ]
    }
   ],
   "source": [
    "print(f'x1: {x1}')\n",
    "print(f'{x1[3]}')\n",
    "print(f'{x1[-1]}')"
   ]
  },
  {
   "cell_type": "code",
   "execution_count": 23,
   "id": "32fd5452a395fca0",
   "metadata": {
    "ExecuteTime": {
     "end_time": "2024-08-10T03:04:31.232692Z",
     "start_time": "2024-08-10T03:04:31.230475Z"
    },
    "collapsed": false,
    "jupyter": {
     "outputs_hidden": false
    }
   },
   "outputs": [
    {
     "name": "stdout",
     "output_type": "stream",
     "text": [
      "x2: [[3 9 3 1]\n",
      " [7 9 6 0]\n",
      " [0 0 2 6]]\n",
      "6\n",
      "1\n"
     ]
    }
   ],
   "source": [
    "print(f'x2: {x2}')\n",
    "print(f'{x2[2, 3]}')\n",
    "print(f'{x2[0, -1]}')"
   ]
  },
  {
   "cell_type": "markdown",
   "id": "ad2e97dcbdf3aafc",
   "metadata": {
    "collapsed": false,
    "jupyter": {
     "outputs_hidden": false
    }
   },
   "source": [
    "Array Slicing"
   ]
  },
  {
   "cell_type": "code",
   "execution_count": 25,
   "id": "eb448a55f4842473",
   "metadata": {
    "ExecuteTime": {
     "end_time": "2024-08-10T03:04:31.248022Z",
     "start_time": "2024-08-10T03:04:31.245079Z"
    },
    "collapsed": false,
    "jupyter": {
     "outputs_hidden": false
    }
   },
   "outputs": [
    {
     "name": "stdout",
     "output_type": "stream",
     "text": [
      "x1: [7 7 6 9 3 8]\n",
      "First 3 elements of x1: [7 7 6]\n",
      "Alternate elements starting with the second element of x1: [7 9 8]\n",
      "Alternate elements of x1 starting from the last element: [8]\n"
     ]
    }
   ],
   "source": [
    "print(f'x1: {x1}')\n",
    "print(f'First 3 elements of x1: {x1[:3]}')\n",
    "print(f'Alternate elements starting with the second element of x1: {x1[1::2]}')\n",
    "print(f'Alternate elements of x1 starting from the last element: {x1[-1::2]}')"
   ]
  },
  {
   "cell_type": "markdown",
   "id": "3bc061d707607bec",
   "metadata": {
    "collapsed": false,
    "jupyter": {
     "outputs_hidden": false
    }
   },
   "source": [
    "Multi-dimensional sub-arrays"
   ]
  },
  {
   "cell_type": "code",
   "execution_count": 27,
   "id": "a436e981d72a9003",
   "metadata": {
    "ExecuteTime": {
     "end_time": "2024-08-10T03:04:31.263592Z",
     "start_time": "2024-08-10T03:04:31.260083Z"
    },
    "collapsed": false,
    "jupyter": {
     "outputs_hidden": false
    }
   },
   "outputs": [
    {
     "name": "stdout",
     "output_type": "stream",
     "text": [
      "x2: [[3 9 3 1]\n",
      " [7 9 6 0]\n",
      " [0 0 2 6]]\n",
      "First 2 rows and 3 columns of x2: [[3 9 3]\n",
      " [7 9 6]]\n",
      "Every second column of all 3 rows of x2:[[3 3]\n",
      " [7 6]\n",
      " [0 2]]\n",
      "All rows and columns reversed for x2:[[6 2 0 0]\n",
      " [0 6 9 7]\n",
      " [1 3 9 3]]\n"
     ]
    }
   ],
   "source": [
    "print(f'x2: {x2}')\n",
    "print(f'First 2 rows and 3 columns of x2: {x2[:2, :3]}')\n",
    "print(f'Every second column of all 3 rows of x2:{x2[:3, ::2]}')\n",
    "print(f'All rows and columns reversed for x2:{x2[::-1,::-1]}')"
   ]
  },
  {
   "cell_type": "markdown",
   "id": "aaedcd216c3c0e7d",
   "metadata": {
    "collapsed": false,
    "jupyter": {
     "outputs_hidden": false
    }
   },
   "source": [
    "Selectively extracting rows and columns"
   ]
  },
  {
   "cell_type": "code",
   "execution_count": 29,
   "id": "7daa9d78165801b4",
   "metadata": {
    "ExecuteTime": {
     "end_time": "2024-08-10T03:04:31.291553Z",
     "start_time": "2024-08-10T03:04:31.288882Z"
    },
    "collapsed": false,
    "jupyter": {
     "outputs_hidden": false
    }
   },
   "outputs": [
    {
     "name": "stdout",
     "output_type": "stream",
     "text": [
      "Last column of x2: [1 0 6]\n",
      "First row of x2: [3 9 3 1]\n"
     ]
    }
   ],
   "source": [
    "print(f'Last column of x2: {x2[:, -1]}')\n",
    "print(f'First row of x2: {x2[0, :]}')"
   ]
  },
  {
   "cell_type": "markdown",
   "id": "4362fd4cb84c011f",
   "metadata": {
    "collapsed": false,
    "jupyter": {
     "outputs_hidden": false
    }
   },
   "source": [
    "Sub-arrays as No-copy Views"
   ]
  },
  {
   "cell_type": "code",
   "execution_count": 31,
   "id": "4002436ac3c575d9",
   "metadata": {
    "ExecuteTime": {
     "end_time": "2024-08-10T03:04:31.318312Z",
     "start_time": "2024-08-10T03:04:31.316015Z"
    },
    "collapsed": false,
    "jupyter": {
     "outputs_hidden": false
    }
   },
   "outputs": [
    {
     "name": "stdout",
     "output_type": "stream",
     "text": [
      "A 2x2 sub-array extracted from x2 by selecting first two columns of first two rows: [[3 9]\n",
      " [7 9]]\n",
      "Any modifications to elements of the above array will modify the original array (x2) as well.\n"
     ]
    }
   ],
   "source": [
    "print(f'A 2x2 sub-array extracted from x2 by selecting first two columns of first two rows: {x2[:2, :2]}')\n",
    "print('Any modifications to elements of the above array will modify the original array (x2) as well.')\n"
   ]
  },
  {
   "cell_type": "markdown",
   "id": "9c98549c5a0469a0",
   "metadata": {
    "collapsed": false,
    "jupyter": {
     "outputs_hidden": false
    }
   },
   "source": [
    "Creating copies of Arrays"
   ]
  },
  {
   "cell_type": "code",
   "execution_count": 33,
   "id": "259f00fd731b9310",
   "metadata": {
    "ExecuteTime": {
     "end_time": "2024-08-10T03:04:31.354423Z",
     "start_time": "2024-08-10T03:04:31.352179Z"
    },
    "collapsed": false,
    "jupyter": {
     "outputs_hidden": false
    }
   },
   "outputs": [
    {
     "name": "stdout",
     "output_type": "stream",
     "text": [
      "[[3 9]\n",
      " [7 9]]\n"
     ]
    }
   ],
   "source": [
    "x2_sub_copy = x2[:2, :2].copy()\n",
    "print(x2_sub_copy)"
   ]
  },
  {
   "cell_type": "markdown",
   "id": "8d8c51b3e6853164",
   "metadata": {
    "collapsed": false,
    "jupyter": {
     "outputs_hidden": false
    }
   },
   "source": [
    "Reshaping of Arrays - the size of the initial array must be equal to the size of the re-shaped array."
   ]
  },
  {
   "cell_type": "code",
   "execution_count": 35,
   "id": "526160039b87bf23",
   "metadata": {
    "ExecuteTime": {
     "end_time": "2024-08-10T03:04:31.367075Z",
     "start_time": "2024-08-10T03:04:31.364618Z"
    },
    "collapsed": false,
    "jupyter": {
     "outputs_hidden": false
    }
   },
   "outputs": [
    {
     "name": "stdout",
     "output_type": "stream",
     "text": [
      "[[1 2 3]\n",
      " [4 5 6]\n",
      " [7 8 9]]\n"
     ]
    }
   ],
   "source": [
    "grid = np.arange(1, 10).reshape(3, 3)\n",
    "print(grid)"
   ]
  },
  {
   "cell_type": "code",
   "execution_count": 36,
   "id": "5df4ea2a55e18fd3",
   "metadata": {
    "ExecuteTime": {
     "end_time": "2024-08-10T03:04:31.378180Z",
     "start_time": "2024-08-10T03:04:31.375751Z"
    },
    "collapsed": false,
    "jupyter": {
     "outputs_hidden": false
    }
   },
   "outputs": [
    {
     "name": "stdout",
     "output_type": "stream",
     "text": [
      "[[1 2 3 4 5 6 7 8 9]]\n"
     ]
    }
   ],
   "source": [
    "grid = np.array([x for x in range(1, 10)])\n",
    "# Reshaping grid to a row vector\n",
    "print(grid.reshape(1,9))"
   ]
  },
  {
   "cell_type": "code",
   "execution_count": 37,
   "id": "6db85b98c9c06bd0",
   "metadata": {
    "ExecuteTime": {
     "end_time": "2024-08-10T03:04:31.414736Z",
     "start_time": "2024-08-10T03:04:31.412345Z"
    },
    "collapsed": false,
    "jupyter": {
     "outputs_hidden": false
    }
   },
   "outputs": [
    {
     "name": "stdout",
     "output_type": "stream",
     "text": [
      "[[1]\n",
      " [2]\n",
      " [3]\n",
      " [4]\n",
      " [5]\n",
      " [6]\n",
      " [7]\n",
      " [8]\n",
      " [9]]\n"
     ]
    }
   ],
   "source": [
    "# Reshaping row vector to column vector\n",
    "print(grid.reshape(9, 1))"
   ]
  },
  {
   "cell_type": "code",
   "execution_count": 38,
   "id": "6a376035e823c5f8",
   "metadata": {
    "ExecuteTime": {
     "end_time": "2024-08-10T03:04:31.425616Z",
     "start_time": "2024-08-10T03:04:31.423330Z"
    },
    "collapsed": false,
    "jupyter": {
     "outputs_hidden": false
    }
   },
   "outputs": [
    {
     "name": "stdout",
     "output_type": "stream",
     "text": [
      "[[1 2 3 4 5 6 7 8 9]]\n"
     ]
    }
   ],
   "source": [
    "print(grid[np.newaxis, :])"
   ]
  },
  {
   "cell_type": "code",
   "execution_count": 39,
   "id": "faed6cc43f8d351c",
   "metadata": {
    "ExecuteTime": {
     "end_time": "2024-08-10T03:04:31.437964Z",
     "start_time": "2024-08-10T03:04:31.435715Z"
    },
    "collapsed": false,
    "jupyter": {
     "outputs_hidden": false
    }
   },
   "outputs": [
    {
     "name": "stdout",
     "output_type": "stream",
     "text": [
      "[[1]\n",
      " [2]\n",
      " [3]\n",
      " [4]\n",
      " [5]\n",
      " [6]\n",
      " [7]\n",
      " [8]\n",
      " [9]]\n"
     ]
    }
   ],
   "source": [
    "print(grid[:, np.newaxis])"
   ]
  },
  {
   "cell_type": "markdown",
   "id": "9a1fa419c4ec1faf",
   "metadata": {
    "collapsed": false,
    "jupyter": {
     "outputs_hidden": false
    }
   },
   "source": [
    "Concatenation and splitting of Arrays"
   ]
  },
  {
   "cell_type": "code",
   "execution_count": 41,
   "id": "68209d945e4839d2",
   "metadata": {
    "ExecuteTime": {
     "end_time": "2024-08-10T03:04:31.460022Z",
     "start_time": "2024-08-10T03:04:31.457794Z"
    },
    "collapsed": false,
    "jupyter": {
     "outputs_hidden": false
    }
   },
   "outputs": [
    {
     "name": "stdout",
     "output_type": "stream",
     "text": [
      "[ 1  2  3  4  5  6  7  8  9 10]\n"
     ]
    }
   ],
   "source": [
    "x1 = np.array([x for x in range(1, 6)])\n",
    "x2 = np.array([x for x in range(6, 11)])\n",
    "x_con = np.concatenate([x1, x2])\n",
    "print(x_con)"
   ]
  },
  {
   "cell_type": "code",
   "execution_count": 42,
   "id": "fe5c0d84b36e97c3",
   "metadata": {
    "ExecuteTime": {
     "end_time": "2024-08-10T03:04:31.471403Z",
     "start_time": "2024-08-10T03:04:31.469208Z"
    },
    "collapsed": false,
    "jupyter": {
     "outputs_hidden": false
    }
   },
   "outputs": [
    {
     "name": "stdout",
     "output_type": "stream",
     "text": [
      "[[1 2 3]\n",
      " [4 5 6]\n",
      " [1 2 3]\n",
      " [4 5 6]]\n"
     ]
    }
   ],
   "source": [
    "x_grid = np.array([[1, 2, 3],\n",
    "                   [4, 5, 6]])\n",
    "x_grid_con = np.concatenate([x_grid, x_grid])\n",
    "print(x_grid_con)"
   ]
  },
  {
   "cell_type": "code",
   "execution_count": 43,
   "id": "389ff8bf233f1f96",
   "metadata": {
    "ExecuteTime": {
     "end_time": "2024-08-10T03:04:31.483465Z",
     "start_time": "2024-08-10T03:04:31.480998Z"
    },
    "collapsed": false,
    "jupyter": {
     "outputs_hidden": false
    }
   },
   "outputs": [
    {
     "name": "stdout",
     "output_type": "stream",
     "text": [
      "[[1 2 3 1 2 3]\n",
      " [4 5 6 4 5 6]]\n"
     ]
    }
   ],
   "source": [
    "x_grid_con = np.concatenate([x_grid, x_grid], axis=1)\n",
    "print(x_grid_con)"
   ]
  },
  {
   "cell_type": "code",
   "execution_count": 44,
   "id": "86bb114a524d120",
   "metadata": {
    "ExecuteTime": {
     "end_time": "2024-08-10T03:04:31.506547Z",
     "start_time": "2024-08-10T03:04:31.503954Z"
    },
    "collapsed": false,
    "jupyter": {
     "outputs_hidden": false
    }
   },
   "outputs": [
    {
     "name": "stdout",
     "output_type": "stream",
     "text": [
      "[[ 1  2  3  4  5]\n",
      " [ 6  7  8  9 10]]\n"
     ]
    }
   ],
   "source": [
    "x_vstack = np.vstack([x1, x2])\n",
    "print(x_vstack)"
   ]
  },
  {
   "cell_type": "code",
   "execution_count": 45,
   "id": "702a2e5501383215",
   "metadata": {
    "ExecuteTime": {
     "end_time": "2024-08-10T03:04:31.517789Z",
     "start_time": "2024-08-10T03:04:31.515786Z"
    },
    "collapsed": false,
    "jupyter": {
     "outputs_hidden": false
    }
   },
   "outputs": [
    {
     "name": "stdout",
     "output_type": "stream",
     "text": [
      "[ 1  2  3  4  5  6  7  8  9 10]\n"
     ]
    }
   ],
   "source": [
    "x_hstack = np.hstack([x1, x2])\n",
    "print(x_hstack)"
   ]
  },
  {
   "cell_type": "code",
   "execution_count": 46,
   "id": "54c35b829c2fddf6",
   "metadata": {
    "ExecuteTime": {
     "end_time": "2024-08-10T03:04:31.530232Z",
     "start_time": "2024-08-10T03:04:31.526917Z"
    },
    "collapsed": false,
    "jupyter": {
     "outputs_hidden": false
    }
   },
   "outputs": [
    {
     "name": "stdout",
     "output_type": "stream",
     "text": [
      "[1 2 3] [4 5 6] [ 7  8  9 10]\n"
     ]
    }
   ],
   "source": [
    "x1, x2, x3 = np.split(x_hstack, [3, 6])\n",
    "print(x1, x2, x3)"
   ]
  },
  {
   "cell_type": "code",
   "execution_count": 47,
   "id": "a3b9f88fec518013",
   "metadata": {
    "ExecuteTime": {
     "end_time": "2024-08-10T03:04:31.544086Z",
     "start_time": "2024-08-10T03:04:31.541692Z"
    },
    "collapsed": false,
    "jupyter": {
     "outputs_hidden": false
    }
   },
   "outputs": [
    {
     "name": "stdout",
     "output_type": "stream",
     "text": [
      "[[0 1 2 3]\n",
      " [4 5 6 7]]\n",
      "[[ 8  9 10 11]\n",
      " [12 13 14 15]]\n"
     ]
    }
   ],
   "source": [
    "grid = np.arange(16).reshape(4, 4)\n",
    "upper, lower = np.vsplit(grid, [2])\n",
    "print(upper)\n",
    "print(lower)"
   ]
  },
  {
   "cell_type": "code",
   "execution_count": 48,
   "id": "aa2bbfc01f5956d1",
   "metadata": {
    "ExecuteTime": {
     "end_time": "2024-08-10T03:04:31.556482Z",
     "start_time": "2024-08-10T03:04:31.553681Z"
    },
    "collapsed": false,
    "jupyter": {
     "outputs_hidden": false
    }
   },
   "outputs": [
    {
     "name": "stdout",
     "output_type": "stream",
     "text": [
      "[[ 0  1]\n",
      " [ 4  5]\n",
      " [ 8  9]\n",
      " [12 13]]\n",
      "[[ 2  3]\n",
      " [ 6  7]\n",
      " [10 11]\n",
      " [14 15]]\n"
     ]
    }
   ],
   "source": [
    "left, right = np.hsplit(grid, [2])\n",
    "print(left)\n",
    "print(right)"
   ]
  }
 ],
 "metadata": {
  "kernelspec": {
   "display_name": "Python 3 (ipykernel)",
   "language": "python",
   "name": "python3"
  },
  "language_info": {
   "codemirror_mode": {
    "name": "ipython",
    "version": 3
   },
   "file_extension": ".py",
   "mimetype": "text/x-python",
   "name": "python",
   "nbconvert_exporter": "python",
   "pygments_lexer": "ipython3",
   "version": "3.12.2"
  }
 },
 "nbformat": 4,
 "nbformat_minor": 5
}
