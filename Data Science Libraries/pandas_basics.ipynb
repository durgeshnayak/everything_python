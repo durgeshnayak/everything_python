{
 "cells": [
  {
   "cell_type": "code",
   "execution_count": 8,
   "id": "initial_id",
   "metadata": {
    "collapsed": true,
    "ExecuteTime": {
     "end_time": "2024-01-03T05:26:55.251776Z",
     "start_time": "2024-01-03T05:26:55.221674Z"
    }
   },
   "outputs": [
    {
     "name": "stdout",
     "output_type": "stream",
     "text": [
      "1.26.2\n",
      "2.2.0rc0\n"
     ]
    }
   ],
   "source": [
    "import numpy as np\n",
    "import pandas as pd\n",
    "print(np.__version__)\n",
    "print(pd.__version__)"
   ]
  },
  {
   "cell_type": "markdown",
   "source": [
    "Pandas - Series"
   ],
   "metadata": {
    "collapsed": false
   },
   "id": "e87f6dd9fc96b082"
  },
  {
   "cell_type": "code",
   "outputs": [
    {
     "name": "stdout",
     "output_type": "stream",
     "text": [
      "(3,)\n",
      "0    1\n",
      "1    2\n",
      "2    3\n",
      "dtype: int64\n"
     ]
    }
   ],
   "source": [
    "pdSeries = pd.Series([1, 2, 3])\n",
    "print(pdSeries.shape)\n",
    "print(pdSeries)"
   ],
   "metadata": {
    "collapsed": false,
    "ExecuteTime": {
     "end_time": "2024-01-03T05:26:55.283809Z",
     "start_time": "2024-01-03T05:26:55.254031Z"
    }
   },
   "id": "27335be66ae1e686",
   "execution_count": 9
  },
  {
   "cell_type": "code",
   "outputs": [
    {
     "name": "stdout",
     "output_type": "stream",
     "text": [
      "Index: RangeIndex(start=0, stop=3, step=1)\n",
      "Values: [1 2 3]\n"
     ]
    }
   ],
   "source": [
    "print(f'Index: {pdSeries.index}')\n",
    "print(f'Values: {pdSeries.values}')"
   ],
   "metadata": {
    "collapsed": false,
    "ExecuteTime": {
     "end_time": "2024-01-03T05:26:55.299292Z",
     "start_time": "2024-01-03T05:26:55.281629Z"
    }
   },
   "id": "9f4936a6cc080d10",
   "execution_count": 10
  },
  {
   "cell_type": "markdown",
   "source": [
    "Series as specialized Dictionary"
   ],
   "metadata": {
    "collapsed": false
   },
   "id": "2d45552ef2af74f7"
  },
  {
   "cell_type": "code",
   "outputs": [
    {
     "name": "stdout",
     "output_type": "stream",
     "text": [
      "(4,)\n",
      "Durgesh      43\n",
      "Snehal       40\n",
      "Shyamala     70\n",
      "Chinmayee    13\n",
      "dtype: int64\n",
      "Index: Index(['Durgesh', 'Snehal', 'Shyamala', 'Chinmayee'], dtype='object')\n",
      "Values: [43 40 70 13]\n"
     ]
    }
   ],
   "source": [
    "family = {'Durgesh': 43, 'Snehal': 40, 'Shyamala': 70, 'Chinmayee': 13}\n",
    "pdSeries = pd.Series(family)\n",
    "print(pdSeries.shape)\n",
    "print(pdSeries)\n",
    "print(f'Index: {pdSeries.index}')\n",
    "print(f'Values: {pdSeries.values}')"
   ],
   "metadata": {
    "collapsed": false,
    "ExecuteTime": {
     "end_time": "2024-01-03T05:26:55.312944Z",
     "start_time": "2024-01-03T05:26:55.306874Z"
    }
   },
   "id": "4fa5f7adac48f094",
   "execution_count": 11
  },
  {
   "cell_type": "markdown",
   "source": [
    "Pandas - DataFrames"
   ],
   "metadata": {
    "collapsed": false
   },
   "id": "a5d8dce70b345cc8"
  },
  {
   "cell_type": "code",
   "outputs": [],
   "source": [
    "relations = {'Durgesh': 'Father', 'Snehal': \"Mother\", 'Shyamala': 'Grandmother', 'Chinmayee': 'Daughter'}\n",
    "pdDataFrame = pd.DataFrame()\n"
   ],
   "metadata": {
    "collapsed": false
   },
   "id": "f2bdd85bf592f3b2"
  }
 ],
 "metadata": {
  "kernelspec": {
   "display_name": "Python 3",
   "language": "python",
   "name": "python3"
  },
  "language_info": {
   "codemirror_mode": {
    "name": "ipython",
    "version": 2
   },
   "file_extension": ".py",
   "mimetype": "text/x-python",
   "name": "python",
   "nbconvert_exporter": "python",
   "pygments_lexer": "ipython2",
   "version": "2.7.6"
  }
 },
 "nbformat": 4,
 "nbformat_minor": 5
}
