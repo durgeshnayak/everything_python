{
 "cells": [
  {
   "metadata": {
    "ExecuteTime": {
     "end_time": "2025-03-15T16:49:08.066836Z",
     "start_time": "2025-03-15T16:49:08.064814Z"
    }
   },
   "cell_type": "code",
   "source": [
    "import numpy as np\n",
    "import pandas as pd"
   ],
   "id": "4bbca4fcc2a9236c",
   "outputs": [],
   "execution_count": 63
  },
  {
   "metadata": {},
   "cell_type": "markdown",
   "source": "Data Selection in Series",
   "id": "66f86b22ece649a9"
  },
  {
   "metadata": {},
   "cell_type": "markdown",
   "source": "Series as Dictionary",
   "id": "77c1122350a11c89"
  },
  {
   "metadata": {
    "ExecuteTime": {
     "end_time": "2025-03-15T16:49:08.080309Z",
     "start_time": "2025-03-15T16:49:08.077559Z"
    }
   },
   "cell_type": "code",
   "source": [
    "data = pd.Series([0.25, 0.50, 0.75, 1.0], index=['a', 'b', 'c', 'd'])\n",
    "data"
   ],
   "id": "aaa7513661578b5b",
   "outputs": [
    {
     "data": {
      "text/plain": [
       "a    0.25\n",
       "b    0.50\n",
       "c    0.75\n",
       "d    1.00\n",
       "dtype: float64"
      ]
     },
     "execution_count": 64,
     "metadata": {},
     "output_type": "execute_result"
    }
   ],
   "execution_count": 64
  },
  {
   "metadata": {
    "ExecuteTime": {
     "end_time": "2025-03-15T16:49:08.102537Z",
     "start_time": "2025-03-15T16:49:08.100443Z"
    }
   },
   "cell_type": "code",
   "source": "data['b']",
   "id": "44cdaf8585e8e4a4",
   "outputs": [
    {
     "data": {
      "text/plain": [
       "np.float64(0.5)"
      ]
     },
     "execution_count": 65,
     "metadata": {},
     "output_type": "execute_result"
    }
   ],
   "execution_count": 65
  },
  {
   "metadata": {
    "ExecuteTime": {
     "end_time": "2025-03-15T16:49:08.122768Z",
     "start_time": "2025-03-15T16:49:08.120347Z"
    }
   },
   "cell_type": "code",
   "source": "'a' in data",
   "id": "cd76394cdae83285",
   "outputs": [
    {
     "data": {
      "text/plain": [
       "True"
      ]
     },
     "execution_count": 66,
     "metadata": {},
     "output_type": "execute_result"
    }
   ],
   "execution_count": 66
  },
  {
   "metadata": {
    "ExecuteTime": {
     "end_time": "2025-03-15T16:49:08.135376Z",
     "start_time": "2025-03-15T16:49:08.133742Z"
    }
   },
   "cell_type": "code",
   "source": "data.keys()",
   "id": "7964bd7c735c853f",
   "outputs": [
    {
     "data": {
      "text/plain": [
       "Index(['a', 'b', 'c', 'd'], dtype='object')"
      ]
     },
     "execution_count": 67,
     "metadata": {},
     "output_type": "execute_result"
    }
   ],
   "execution_count": 67
  },
  {
   "metadata": {
    "ExecuteTime": {
     "end_time": "2025-03-15T16:49:08.150416Z",
     "start_time": "2025-03-15T16:49:08.148633Z"
    }
   },
   "cell_type": "code",
   "source": "list(data.items())",
   "id": "434bf50a13d8214a",
   "outputs": [
    {
     "data": {
      "text/plain": [
       "[('a', 0.25), ('b', 0.5), ('c', 0.75), ('d', 1.0)]"
      ]
     },
     "execution_count": 68,
     "metadata": {},
     "output_type": "execute_result"
    }
   ],
   "execution_count": 68
  },
  {
   "metadata": {
    "ExecuteTime": {
     "end_time": "2025-03-15T16:49:08.161656Z",
     "start_time": "2025-03-15T16:49:08.160052Z"
    }
   },
   "cell_type": "code",
   "source": "data['e'] = 1.25",
   "id": "eb8654cdb5e01006",
   "outputs": [],
   "execution_count": 69
  },
  {
   "metadata": {},
   "cell_type": "markdown",
   "source": "Series as One-Dimensional Array",
   "id": "5cf9b346f6135282"
  },
  {
   "metadata": {
    "ExecuteTime": {
     "end_time": "2025-03-15T16:49:08.170007Z",
     "start_time": "2025-03-15T16:49:08.167885Z"
    }
   },
   "cell_type": "code",
   "source": [
    "# slicing by explicit index\n",
    "data['a':'c']"
   ],
   "id": "6ae4c1ddba00b752",
   "outputs": [
    {
     "data": {
      "text/plain": [
       "a    0.25\n",
       "b    0.50\n",
       "c    0.75\n",
       "dtype: float64"
      ]
     },
     "execution_count": 70,
     "metadata": {},
     "output_type": "execute_result"
    }
   ],
   "execution_count": 70
  },
  {
   "metadata": {
    "ExecuteTime": {
     "end_time": "2025-03-15T16:49:08.199533Z",
     "start_time": "2025-03-15T16:49:08.197444Z"
    }
   },
   "cell_type": "code",
   "source": [
    "# slicing by implicit index\n",
    "data[0:3]"
   ],
   "id": "f02849cace581e02",
   "outputs": [
    {
     "data": {
      "text/plain": [
       "a    0.25\n",
       "b    0.50\n",
       "c    0.75\n",
       "dtype: float64"
      ]
     },
     "execution_count": 71,
     "metadata": {},
     "output_type": "execute_result"
    }
   ],
   "execution_count": 71
  },
  {
   "metadata": {
    "ExecuteTime": {
     "end_time": "2025-03-15T16:49:08.226884Z",
     "start_time": "2025-03-15T16:49:08.224731Z"
    }
   },
   "cell_type": "code",
   "source": [
    "# masking\n",
    "data[(data > 0.3) & (data < 0.8)]"
   ],
   "id": "28c51c16a613588",
   "outputs": [
    {
     "data": {
      "text/plain": [
       "b    0.50\n",
       "c    0.75\n",
       "dtype: float64"
      ]
     },
     "execution_count": 72,
     "metadata": {},
     "output_type": "execute_result"
    }
   ],
   "execution_count": 72
  },
  {
   "metadata": {
    "ExecuteTime": {
     "end_time": "2025-03-15T16:49:08.264169Z",
     "start_time": "2025-03-15T16:49:08.260807Z"
    }
   },
   "cell_type": "code",
   "source": [
    "# fancy indexing\n",
    "data[['a', 'd']]"
   ],
   "id": "da66d70ea582d7e2",
   "outputs": [
    {
     "data": {
      "text/plain": [
       "a    0.25\n",
       "d    1.00\n",
       "dtype: float64"
      ]
     },
     "execution_count": 73,
     "metadata": {},
     "output_type": "execute_result"
    }
   ],
   "execution_count": 73
  }
 ],
 "metadata": {
  "kernelspec": {
   "display_name": "Python 3",
   "language": "python",
   "name": "python3"
  },
  "language_info": {
   "codemirror_mode": {
    "name": "ipython",
    "version": 2
   },
   "file_extension": ".py",
   "mimetype": "text/x-python",
   "name": "python",
   "nbconvert_exporter": "python",
   "pygments_lexer": "ipython2",
   "version": "2.7.6"
  }
 },
 "nbformat": 4,
 "nbformat_minor": 5
}
