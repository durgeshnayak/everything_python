{
 "cells": [
  {
   "cell_type": "markdown",
   "source": [
    "Broadcasting of Arrays"
   ],
   "metadata": {
    "collapsed": false
   },
   "id": "8314712d19c02e59"
  },
  {
   "cell_type": "markdown",
   "source": [
    "Rules of Broadcasting\n",
    "Broadcasting in NumPy follows a strict set of rules to determine the interaction between the two arrays:\n",
    "\n",
    "Rule 1\n",
    "If the two arrays differ in their number of dimensions, the shape of the one with fewer dimensions is padded with ones on its leading (left) side.\n",
    "\n",
    "Rule 2\n",
    "If the shape of the two arrays does not match in any dimension, the array with shape equal to 1 in that dimension is stretched to match the other shape.\n",
    "\n",
    "Rule 3\n",
    "If in any dimension the sizes disagree and neither is equal to 1, an error is raised."
   ],
   "metadata": {
    "collapsed": false
   },
   "id": "81934f1d00ad460"
  },
  {
   "cell_type": "code",
   "outputs": [],
   "source": [
    "import numpy as np"
   ],
   "metadata": {
    "collapsed": false
   },
   "id": "af23c15e93433504",
   "execution_count": null
  },
  {
   "cell_type": "code",
   "outputs": [],
   "source": [
    "# Example 1\n",
    "M = np.ones((2, 3))\n",
    "print(M.shape)\n",
    "print(M)"
   ],
   "metadata": {
    "collapsed": false
   },
   "id": "df287db7d359bc1b",
   "execution_count": null
  },
  {
   "cell_type": "code",
   "outputs": [],
   "source": [
    "a = np.arange(3)\n",
    "print(a.shape)\n",
    "print(a)"
   ],
   "metadata": {
    "collapsed": false
   },
   "id": "6caf4376803814fb",
   "execution_count": null
  },
  {
   "cell_type": "markdown",
   "source": [
    "Let’s consider an operation on these two arrays, which have the following shapes:\n",
    "\n",
    "M.shape is (2, 3)\n",
    "\n",
    "a.shape is (3,)\n",
    "\n",
    "We see by rule 1 that the array a has fewer dimensions, so we pad it on the left with ones:\n",
    "\n",
    "M.shape remains (2, 3)\n",
    "\n",
    "a.shape becomes (1, 3)\n",
    "\n",
    "By rule 2, we now see that the first dimension disagrees, so we stretch this dimension to match:\n",
    "\n",
    "M.shape remains (2, 3)\n",
    "\n",
    "a.shape becomes (2, 3)\n",
    "\n",
    "The shapes now match, and we see that the final shape will be (2, 3):"
   ],
   "metadata": {
    "collapsed": false
   },
   "id": "91c0c7ffc74c62a"
  },
  {
   "cell_type": "code",
   "outputs": [],
   "source": [
    "print(M+a)"
   ],
   "metadata": {
    "collapsed": false
   },
   "id": "3ecf839b01e544f5",
   "execution_count": null
  },
  {
   "cell_type": "code",
   "outputs": [],
   "source": [
    "# Example 2\n",
    "a = np.arange(3).reshape((3, 1))\n",
    "print(a.shape)\n",
    "print(a)"
   ],
   "metadata": {
    "collapsed": false
   },
   "id": "f392735e2009e6f2",
   "execution_count": null
  },
  {
   "cell_type": "code",
   "outputs": [],
   "source": [
    "b = np.arange(3)\n",
    "print(b.shape)\n",
    "print(b)"
   ],
   "metadata": {
    "collapsed": false
   },
   "id": "1b59bf6105cdfdbc",
   "execution_count": null
  },
  {
   "cell_type": "markdown",
   "source": [
    "Again, we’ll start by determining the shapes of the arrays:\n",
    "\n",
    "a.shape is (3, 1)\n",
    "\n",
    "b.shape is (3,)\n",
    "\n",
    "Rule 1 says we must pad the shape of b with ones:\n",
    "\n",
    "a.shape remains (3, 1)\n",
    "\n",
    "b.shape becomes (1, 3)\n",
    "\n",
    "And rule 2 tells us that we must upgrade each of these 1s to match the corresponding size of the other array:\n",
    "\n",
    "a.shape becomes (3, 3)\n",
    "\n",
    "b.shape becomes (3, 3)\n",
    "\n",
    "Because the results match, these shapes are compatible. We can see this here:"
   ],
   "metadata": {
    "collapsed": false
   },
   "id": "31d1f97059e31d1e"
  },
  {
   "cell_type": "code",
   "outputs": [],
   "source": [
    "print(a+b)"
   ],
   "metadata": {
    "collapsed": false
   },
   "id": "a860aefc6362c791",
   "execution_count": null
  },
  {
   "cell_type": "code",
   "outputs": [],
   "source": [
    "# Example 3\n",
    "M = np.ones((3,2))\n",
    "print(M.shape)\n",
    "print(M)"
   ],
   "metadata": {
    "collapsed": false
   },
   "id": "2a50399511640b27",
   "execution_count": null
  },
  {
   "cell_type": "code",
   "outputs": [],
   "source": [
    "a = np.arange(3)\n",
    "print(a.shape)\n",
    "print(a)"
   ],
   "metadata": {
    "collapsed": false
   },
   "id": "b915f6bab08ceb9e",
   "execution_count": null
  },
  {
   "cell_type": "markdown",
   "source": [
    "This is just a slightly different situation than in the first example: the matrix M is transposed. How does this affect the calculation? The shapes of the arrays are as follows:\n",
    "\n",
    "M.shape is (3, 2)\n",
    "\n",
    "a.shape is (3,)\n",
    "\n",
    "Again, rule 1 tells us that we must pad the shape of a with ones:\n",
    "\n",
    "M.shape remains (3, 2)\n",
    "\n",
    "a.shape becomes (1, 3)\n",
    "\n",
    "By rule 2, the first dimension of a is then stretched to match that of M:\n",
    "\n",
    "M.shape remains (3, 2)\n",
    "\n",
    "a.shape becomes (3, 3)\n",
    "\n",
    "Now we hit rule 3—the final shapes do not match, so these two arrays are incompatible, as we can observe by attempting this operation:"
   ],
   "metadata": {
    "collapsed": false
   },
   "id": "b195140f67f66cea"
  },
  {
   "cell_type": "code",
   "outputs": [],
   "source": [
    "print(M+a)"
   ],
   "metadata": {
    "collapsed": false
   },
   "id": "be5020400c6bf165",
   "execution_count": null
  },
  {
   "cell_type": "code",
   "outputs": [],
   "source": [
    "rng = np.random.default_rng(1701)\n",
    "X = rng.random((10, 3))\n",
    "print(X.shape)\n",
    "print(X)"
   ],
   "metadata": {
    "collapsed": false
   },
   "id": "e60dc36d29a78183",
   "execution_count": null
  },
  {
   "cell_type": "code",
   "outputs": [],
   "source": [
    "Xmean = X.mean(axis=0)\n",
    "print(Xmean.shape)\n",
    "print(Xmean)"
   ],
   "metadata": {
    "collapsed": false
   },
   "id": "252e44df204628e0",
   "execution_count": null
  },
  {
   "cell_type": "code",
   "outputs": [],
   "source": [
    "Xcentered = X-Xmean\n",
    "print(Xcentered.shape)\n",
    "print(Xcentered)"
   ],
   "metadata": {
    "collapsed": false
   },
   "id": "f6260ba515d80079",
   "execution_count": null
  },
  {
   "cell_type": "code",
   "outputs": [],
   "source": [
    "print(Xcentered.mean(axis=0))"
   ],
   "metadata": {
    "collapsed": false
   },
   "id": "6ee76046364b597c",
   "execution_count": null
  }
 ],
 "metadata": {
  "kernelspec": {
   "display_name": "Python 3",
   "language": "python",
   "name": "python3"
  },
  "language_info": {
   "codemirror_mode": {
    "name": "ipython",
    "version": 2
   },
   "file_extension": ".py",
   "mimetype": "text/x-python",
   "name": "python",
   "nbconvert_exporter": "python",
   "pygments_lexer": "ipython2",
   "version": "2.7.6"
  }
 },
 "nbformat": 4,
 "nbformat_minor": 5
}
