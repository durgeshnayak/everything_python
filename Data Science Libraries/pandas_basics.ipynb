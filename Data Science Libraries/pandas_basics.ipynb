{
 "cells": [
  {
   "cell_type": "code",
   "execution_count": 22,
   "id": "initial_id",
   "metadata": {},
   "outputs": [
    {
     "name": "stdout",
     "output_type": "stream",
     "text": [
      "1.26.4\n",
      "2.2.2\n"
     ]
    }
   ],
   "source": [
    "import numpy as np\n",
    "import pandas as pd\n",
    "print(np.__version__)\n",
    "print(pd.__version__)"
   ]
  },
  {
   "cell_type": "markdown",
   "id": "e87f6dd9fc96b082",
   "metadata": {
    "collapsed": false,
    "jupyter": {
     "outputs_hidden": false
    }
   },
   "source": [
    "Pandas - Series"
   ]
  },
  {
   "cell_type": "code",
   "execution_count": 24,
   "id": "27335be66ae1e686",
   "metadata": {
    "collapsed": false,
    "jupyter": {
     "outputs_hidden": false
    }
   },
   "outputs": [
    {
     "name": "stdout",
     "output_type": "stream",
     "text": [
      "(3,)\n",
      "0    1\n",
      "1    2\n",
      "2    3\n",
      "dtype: int64\n"
     ]
    }
   ],
   "source": [
    "# Index defaults to an integer sequence\n",
    "pdSeries = pd.Series([1, 2, 3])\n",
    "print(pdSeries.shape)\n",
    "print(pdSeries)"
   ]
  },
  {
   "cell_type": "code",
   "execution_count": 25,
   "id": "9f4936a6cc080d10",
   "metadata": {
    "collapsed": false,
    "jupyter": {
     "outputs_hidden": false
    }
   },
   "outputs": [
    {
     "name": "stdout",
     "output_type": "stream",
     "text": [
      "Index: RangeIndex(start=0, stop=3, step=1)\n",
      "Values: [1 2 3]\n"
     ]
    }
   ],
   "source": [
    "print(f'Index: {pdSeries.index}')\n",
    "print(f'Values: {pdSeries.values}')"
   ]
  },
  {
   "cell_type": "code",
   "execution_count": 26,
   "id": "1d1dd077-ff95-4885-9bd2-89c9020b04ff",
   "metadata": {},
   "outputs": [
    {
     "name": "stdout",
     "output_type": "stream",
     "text": [
      "(3,)\n",
      "1    5\n",
      "2    5\n",
      "3    5\n",
      "dtype: int64\n"
     ]
    }
   ],
   "source": [
    "# Data can be repeated to fill a specified index\n",
    "pdSeries = pd.Series(5, index=[1, 2, 3])\n",
    "print(pdSeries.shape)\n",
    "print(pdSeries)"
   ]
  },
  {
   "cell_type": "markdown",
   "id": "2d45552ef2af74f7",
   "metadata": {
    "collapsed": false,
    "jupyter": {
     "outputs_hidden": false
    }
   },
   "source": [
    "Series as specialized Dictionary"
   ]
  },
  {
   "cell_type": "code",
   "execution_count": 28,
   "id": "4fa5f7adac48f094",
   "metadata": {
    "collapsed": false,
    "jupyter": {
     "outputs_hidden": false
    }
   },
   "outputs": [
    {
     "name": "stdout",
     "output_type": "stream",
     "text": [
      "(4,)\n",
      "Durgesh      44\n",
      "Snehal       40\n",
      "Shyamala     70\n",
      "Chinmayee    14\n",
      "dtype: int64\n",
      "Index: Index(['Durgesh', 'Snehal', 'Shyamala', 'Chinmayee'], dtype='object')\n",
      "Values: [44 40 70 14]\n"
     ]
    }
   ],
   "source": [
    "# Index defaults to dictionary keys\n",
    "family = {'Durgesh': 44, 'Snehal': 40, 'Shyamala': 70, 'Chinmayee': 14}\n",
    "pdSeries = pd.Series(family)\n",
    "print(pdSeries.shape)\n",
    "print(pdSeries)\n",
    "print(f'Index: {pdSeries.index}')\n",
    "print(f'Values: {pdSeries.values}')"
   ]
  },
  {
   "cell_type": "code",
   "execution_count": 38,
   "id": "ab4183d4-62a1-487e-9b44-8887124d9695",
   "metadata": {},
   "outputs": [
    {
     "name": "stdout",
     "output_type": "stream",
     "text": [
      "(3,)\n",
      "1      One\n",
      "2      Two\n",
      "3    Three\n",
      "dtype: object\n",
      "Index: Index([1, 2, 3], dtype='int64')\n",
      "Values: ['One' 'Two' 'Three']\n"
     ]
    }
   ],
   "source": [
    "# Index can be explicitly controlled\n",
    "first_three = pd.Series({1: 'One', 2: 'Two', 3: 'Three', 4: 'Four', 5: 'Five'}, index=[1, 2, 3])\n",
    "print(first_three.shape)\n",
    "print(first_three)\n",
    "print(f'Index: {first_three.index}')\n",
    "print(f'Values: {first_three.values}')"
   ]
  },
  {
   "cell_type": "code",
   "execution_count": null,
   "id": "ad9292cf-5045-4646-9464-9bc85a574f5b",
   "metadata": {},
   "outputs": [],
   "source": []
  }
 ],
 "metadata": {
  "kernelspec": {
   "display_name": "Python 3 (ipykernel)",
   "language": "python",
   "name": "python3"
  },
  "language_info": {
   "codemirror_mode": {
    "name": "ipython",
    "version": 3
   },
   "file_extension": ".py",
   "mimetype": "text/x-python",
   "name": "python",
   "nbconvert_exporter": "python",
   "pygments_lexer": "ipython3",
   "version": "3.12.2"
  }
 },
 "nbformat": 4,
 "nbformat_minor": 5
}
