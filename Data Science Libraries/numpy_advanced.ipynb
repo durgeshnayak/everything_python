{
 "cells": [
  {
   "cell_type": "markdown",
   "id": "8314712d19c02e59",
   "metadata": {
    "collapsed": false,
    "jupyter": {
     "outputs_hidden": false
    }
   },
   "source": [
    "Broadcasting of Arrays"
   ]
  },
  {
   "cell_type": "markdown",
   "id": "81934f1d00ad460",
   "metadata": {
    "collapsed": false,
    "jupyter": {
     "outputs_hidden": false
    }
   },
   "source": [
    "Rules of Broadcasting\n",
    "Broadcasting in NumPy follows a strict set of rules to determine the interaction between the two arrays:\n",
    "\n",
    "Rule 1\n",
    "If the two arrays differ in their number of dimensions, the shape of the one with fewer dimensions is padded with ones on its leading (left) side.\n",
    "\n",
    "Rule 2\n",
    "If the shape of the two arrays does not match in any dimension, the array with shape equal to 1 in that dimension is stretched to match the other shape.\n",
    "\n",
    "Rule 3\n",
    "If in any dimension the sizes disagree and neither is equal to 1, an error is raised."
   ]
  },
  {
   "cell_type": "code",
   "execution_count": 83,
   "id": "af23c15e93433504",
   "metadata": {
    "collapsed": false,
    "jupyter": {
     "outputs_hidden": false
    }
   },
   "outputs": [],
   "source": [
    "import numpy as np"
   ]
  },
  {
   "cell_type": "code",
   "execution_count": 84,
   "id": "df287db7d359bc1b",
   "metadata": {
    "collapsed": false,
    "jupyter": {
     "outputs_hidden": false
    }
   },
   "outputs": [
    {
     "name": "stdout",
     "output_type": "stream",
     "text": [
      "(2, 3)\n",
      "[[1. 1. 1.]\n",
      " [1. 1. 1.]]\n"
     ]
    }
   ],
   "source": [
    "# Example 1\n",
    "M = np.ones((2, 3))\n",
    "print(M.shape)\n",
    "print(M)"
   ]
  },
  {
   "cell_type": "code",
   "execution_count": 85,
   "id": "6caf4376803814fb",
   "metadata": {
    "collapsed": false,
    "jupyter": {
     "outputs_hidden": false
    }
   },
   "outputs": [
    {
     "name": "stdout",
     "output_type": "stream",
     "text": [
      "(3,)\n",
      "[0 1 2]\n"
     ]
    }
   ],
   "source": [
    "a = np.arange(3)\n",
    "print(a.shape)\n",
    "print(a)"
   ]
  },
  {
   "cell_type": "markdown",
   "id": "91c0c7ffc74c62a",
   "metadata": {
    "collapsed": false,
    "jupyter": {
     "outputs_hidden": false
    }
   },
   "source": [
    "Let’s consider an operation on these two arrays, which have the following shapes:\n",
    "\n",
    "M.shape is (2, 3)\n",
    "\n",
    "a.shape is (3,)\n",
    "\n",
    "We see by rule 1 that the array a has fewer dimensions, so we pad it on the left with ones:\n",
    "\n",
    "M.shape remains (2, 3)\n",
    "\n",
    "a.shape becomes (1, 3)\n",
    "\n",
    "By rule 2, we now see that the first dimension disagrees, so we stretch this dimension to match:\n",
    "\n",
    "M.shape remains (2, 3)\n",
    "\n",
    "a.shape becomes (2, 3)\n",
    "\n",
    "The shapes now match, and we see that the final shape will be (2, 3):"
   ]
  },
  {
   "cell_type": "code",
   "execution_count": 87,
   "id": "3ecf839b01e544f5",
   "metadata": {
    "collapsed": false,
    "jupyter": {
     "outputs_hidden": false
    }
   },
   "outputs": [
    {
     "name": "stdout",
     "output_type": "stream",
     "text": [
      "[[1. 2. 3.]\n",
      " [1. 2. 3.]]\n"
     ]
    }
   ],
   "source": [
    "print(M+a)"
   ]
  },
  {
   "cell_type": "code",
   "execution_count": 88,
   "id": "f392735e2009e6f2",
   "metadata": {
    "collapsed": false,
    "jupyter": {
     "outputs_hidden": false
    }
   },
   "outputs": [
    {
     "name": "stdout",
     "output_type": "stream",
     "text": [
      "(3, 1)\n",
      "[[0]\n",
      " [1]\n",
      " [2]]\n"
     ]
    }
   ],
   "source": [
    "# Example 2\n",
    "a = np.arange(3).reshape((3, 1))\n",
    "print(a.shape)\n",
    "print(a)"
   ]
  },
  {
   "cell_type": "code",
   "execution_count": 89,
   "id": "1b59bf6105cdfdbc",
   "metadata": {
    "collapsed": false,
    "jupyter": {
     "outputs_hidden": false
    }
   },
   "outputs": [
    {
     "name": "stdout",
     "output_type": "stream",
     "text": [
      "(3,)\n",
      "[0 1 2]\n"
     ]
    }
   ],
   "source": [
    "b = np.arange(3)\n",
    "print(b.shape)\n",
    "print(b)"
   ]
  },
  {
   "cell_type": "markdown",
   "id": "31d1f97059e31d1e",
   "metadata": {
    "collapsed": false,
    "jupyter": {
     "outputs_hidden": false
    }
   },
   "source": [
    "Again, we’ll start by determining the shapes of the arrays:\n",
    "\n",
    "a.shape is (3, 1)\n",
    "\n",
    "b.shape is (3,)\n",
    "\n",
    "Rule 1 says we must pad the shape of b with ones:\n",
    "\n",
    "a.shape remains (3, 1)\n",
    "\n",
    "b.shape becomes (1, 3)\n",
    "\n",
    "And rule 2 tells us that we must upgrade each of these 1s to match the corresponding size of the other array:\n",
    "\n",
    "a.shape becomes (3, 3)\n",
    "\n",
    "b.shape becomes (3, 3)\n",
    "\n",
    "Because the results match, these shapes are compatible. We can see this here:"
   ]
  },
  {
   "cell_type": "code",
   "execution_count": 91,
   "id": "a860aefc6362c791",
   "metadata": {
    "collapsed": false,
    "jupyter": {
     "outputs_hidden": false
    }
   },
   "outputs": [
    {
     "name": "stdout",
     "output_type": "stream",
     "text": [
      "[[0 1 2]\n",
      " [1 2 3]\n",
      " [2 3 4]]\n"
     ]
    }
   ],
   "source": [
    "print(a+b)"
   ]
  },
  {
   "cell_type": "code",
   "execution_count": 92,
   "id": "2a50399511640b27",
   "metadata": {
    "collapsed": false,
    "jupyter": {
     "outputs_hidden": false
    }
   },
   "outputs": [
    {
     "name": "stdout",
     "output_type": "stream",
     "text": [
      "(3, 2)\n",
      "[[1. 1.]\n",
      " [1. 1.]\n",
      " [1. 1.]]\n"
     ]
    }
   ],
   "source": [
    "# Example 3\n",
    "M = np.ones((3,2))\n",
    "print(M.shape)\n",
    "print(M)"
   ]
  },
  {
   "cell_type": "code",
   "execution_count": 93,
   "id": "b915f6bab08ceb9e",
   "metadata": {
    "collapsed": false,
    "jupyter": {
     "outputs_hidden": false
    }
   },
   "outputs": [
    {
     "name": "stdout",
     "output_type": "stream",
     "text": [
      "(3,)\n",
      "[0 1 2]\n"
     ]
    }
   ],
   "source": [
    "a = np.arange(3)\n",
    "print(a.shape)\n",
    "print(a)"
   ]
  },
  {
   "cell_type": "markdown",
   "id": "b195140f67f66cea",
   "metadata": {
    "collapsed": false,
    "jupyter": {
     "outputs_hidden": false
    }
   },
   "source": [
    "This is just a slightly different situation than in the first example: the matrix M is transposed. How does this affect the calculation? The shapes of the arrays are as follows:\n",
    "\n",
    "M.shape is (3, 2)\n",
    "\n",
    "a.shape is (3,)\n",
    "\n",
    "Again, rule 1 tells us that we must pad the shape of a with ones:\n",
    "\n",
    "M.shape remains (3, 2)\n",
    "\n",
    "a.shape becomes (1, 3)\n",
    "\n",
    "By rule 2, the first dimension of a is then stretched to match that of M:\n",
    "\n",
    "M.shape remains (3, 2)\n",
    "\n",
    "a.shape becomes (3, 3)\n",
    "\n",
    "Now we hit rule 3—the final shapes do not match, so these two arrays are incompatible, as we can observe by attempting this operation:"
   ]
  },
  {
   "cell_type": "code",
   "execution_count": 95,
   "id": "be5020400c6bf165",
   "metadata": {
    "collapsed": false,
    "jupyter": {
     "outputs_hidden": false
    }
   },
   "outputs": [],
   "source": [
    "# print(M+a)"
   ]
  },
  {
   "cell_type": "code",
   "execution_count": 96,
   "id": "e60dc36d29a78183",
   "metadata": {
    "collapsed": false,
    "jupyter": {
     "outputs_hidden": false
    }
   },
   "outputs": [
    {
     "name": "stdout",
     "output_type": "stream",
     "text": [
      "(10, 3)\n",
      "[[0.4020733  0.30563311 0.67668051]\n",
      " [0.15821208 0.79247763 0.09419469]\n",
      " [0.36753944 0.06388928 0.96431608]\n",
      " [0.35200998 0.54550343 0.88597945]\n",
      " [0.57016965 0.26614394 0.8170382 ]\n",
      " [0.55906652 0.06387035 0.84877751]\n",
      " [0.89414484 0.18920785 0.23660015]\n",
      " [0.16502896 0.56583856 0.29513111]\n",
      " [0.29078012 0.90079544 0.59992434]\n",
      " [0.09133896 0.00578466 0.97096222]]\n"
     ]
    }
   ],
   "source": [
    "rng = np.random.default_rng(1701)\n",
    "X = rng.random((10, 3))\n",
    "print(X.shape)\n",
    "print(X)"
   ]
  },
  {
   "cell_type": "code",
   "execution_count": 97,
   "id": "252e44df204628e0",
   "metadata": {
    "collapsed": false,
    "jupyter": {
     "outputs_hidden": false
    }
   },
   "outputs": [
    {
     "name": "stdout",
     "output_type": "stream",
     "text": [
      "(3,)\n",
      "[0.38503638 0.36991443 0.63896043]\n"
     ]
    }
   ],
   "source": [
    "Xmean = X.mean(axis=0)\n",
    "print(Xmean.shape)\n",
    "print(Xmean)"
   ]
  },
  {
   "cell_type": "code",
   "execution_count": 98,
   "id": "f6260ba515d80079",
   "metadata": {
    "collapsed": false,
    "jupyter": {
     "outputs_hidden": false
    }
   },
   "outputs": [
    {
     "name": "stdout",
     "output_type": "stream",
     "text": [
      "(10, 3)\n",
      "[[ 0.01703691 -0.06428131  0.03772009]\n",
      " [-0.2268243   0.4225632  -0.54476574]\n",
      " [-0.01749695 -0.30602514  0.32535566]\n",
      " [-0.0330264   0.175589    0.24701902]\n",
      " [ 0.18513326 -0.10377048  0.17807777]\n",
      " [ 0.17403013 -0.30604408  0.20981709]\n",
      " [ 0.50910846 -0.18070657 -0.40236028]\n",
      " [-0.22000743  0.19592414 -0.34382932]\n",
      " [-0.09425626  0.53088102 -0.03903608]\n",
      " [-0.29369742 -0.36412976  0.33200179]]\n"
     ]
    }
   ],
   "source": [
    "Xcentered = X-Xmean\n",
    "print(Xcentered.shape)\n",
    "print(Xcentered)"
   ]
  },
  {
   "cell_type": "code",
   "execution_count": 99,
   "id": "6ee76046364b597c",
   "metadata": {
    "collapsed": false,
    "jupyter": {
     "outputs_hidden": false
    }
   },
   "outputs": [
    {
     "name": "stdout",
     "output_type": "stream",
     "text": [
      "[ 4.99600361e-17 -4.44089210e-17  0.00000000e+00]\n"
     ]
    }
   ],
   "source": [
    "print(Xcentered.mean(axis=0))"
   ]
  },
  {
   "cell_type": "markdown",
   "id": "38fd095f-2987-43d2-8fef-f964b54abd6f",
   "metadata": {},
   "source": [
    "Comparison Operators As UFuncs"
   ]
  },
  {
   "cell_type": "code",
   "execution_count": 101,
   "id": "53f1be3d-2ea4-4821-9551-8819e39097a0",
   "metadata": {},
   "outputs": [],
   "source": [
    "x = np.array([1, 2, 3, 4, 5])"
   ]
  },
  {
   "cell_type": "code",
   "execution_count": 102,
   "id": "7f65161d-f519-4575-8b17-a474c90b88e6",
   "metadata": {},
   "outputs": [
    {
     "data": {
      "text/plain": [
       "array([ True,  True, False, False, False])"
      ]
     },
     "execution_count": 102,
     "metadata": {},
     "output_type": "execute_result"
    }
   ],
   "source": [
    "x < 3"
   ]
  },
  {
   "cell_type": "code",
   "execution_count": 103,
   "id": "befd7f2a-ef58-4f89-ab98-3ce9ce93d0f4",
   "metadata": {},
   "outputs": [
    {
     "data": {
      "text/plain": [
       "array([False, False, False,  True,  True])"
      ]
     },
     "execution_count": 103,
     "metadata": {},
     "output_type": "execute_result"
    }
   ],
   "source": [
    "x > 3"
   ]
  },
  {
   "cell_type": "code",
   "execution_count": 104,
   "id": "fde86316-6382-4379-860e-4f161a464844",
   "metadata": {},
   "outputs": [
    {
     "data": {
      "text/plain": [
       "array([False, False,  True, False, False])"
      ]
     },
     "execution_count": 104,
     "metadata": {},
     "output_type": "execute_result"
    }
   ],
   "source": [
    "x == 3"
   ]
  },
  {
   "cell_type": "code",
   "execution_count": 105,
   "id": "a199e530-a03e-4130-b414-bc58f7dc05bd",
   "metadata": {},
   "outputs": [
    {
     "data": {
      "text/plain": [
       "array([ True,  True, False,  True,  True])"
      ]
     },
     "execution_count": 105,
     "metadata": {},
     "output_type": "execute_result"
    }
   ],
   "source": [
    "x != 3"
   ]
  },
  {
   "cell_type": "code",
   "execution_count": 106,
   "id": "190246b1-55e3-4301-9e44-9fc6f85de9a8",
   "metadata": {},
   "outputs": [
    {
     "data": {
      "text/plain": [
       "array([ True,  True,  True, False, False])"
      ]
     },
     "execution_count": 106,
     "metadata": {},
     "output_type": "execute_result"
    }
   ],
   "source": [
    "x <= 3"
   ]
  },
  {
   "cell_type": "code",
   "execution_count": 107,
   "id": "b1b5854d-d285-4955-82b5-64c7e9f4602c",
   "metadata": {},
   "outputs": [
    {
     "data": {
      "text/plain": [
       "array([False, False,  True,  True,  True])"
      ]
     },
     "execution_count": 107,
     "metadata": {},
     "output_type": "execute_result"
    }
   ],
   "source": [
    "x >= 3"
   ]
  },
  {
   "cell_type": "code",
   "execution_count": 108,
   "id": "6e80216d-5fa8-40f3-8a08-360345c3b3f0",
   "metadata": {},
   "outputs": [
    {
     "data": {
      "text/plain": [
       "array([[9, 4, 0, 3],\n",
       "       [8, 6, 3, 1],\n",
       "       [3, 7, 4, 0]])"
      ]
     },
     "execution_count": 108,
     "metadata": {},
     "output_type": "execute_result"
    }
   ],
   "source": [
    "rng = np.random.default_rng(seed=1701)\n",
    "x = rng.integers(10, size=(3,4))\n",
    "x"
   ]
  },
  {
   "cell_type": "code",
   "execution_count": 109,
   "id": "aef8df87-e7e8-45e0-95c9-df0882dfc48f",
   "metadata": {},
   "outputs": [
    {
     "data": {
      "text/plain": [
       "array([[False,  True,  True,  True],\n",
       "       [False, False,  True,  True],\n",
       "       [ True, False,  True,  True]])"
      ]
     },
     "execution_count": 109,
     "metadata": {},
     "output_type": "execute_result"
    }
   ],
   "source": [
    "x < 6"
   ]
  },
  {
   "cell_type": "markdown",
   "id": "af5bd14b-3de3-4bff-9257-ddc48a03dafc",
   "metadata": {},
   "source": [
    "Counting entries"
   ]
  },
  {
   "cell_type": "code",
   "execution_count": 111,
   "id": "ca06ffa2-9872-4f75-aae3-0896f0608812",
   "metadata": {},
   "outputs": [
    {
     "data": {
      "text/plain": [
       "8"
      ]
     },
     "execution_count": 111,
     "metadata": {},
     "output_type": "execute_result"
    }
   ],
   "source": [
    "np.count_nonzero(x < 6)"
   ]
  },
  {
   "cell_type": "markdown",
   "id": "3cf6c28c-af33-4d1e-9efd-1f6bd7247d6b",
   "metadata": {},
   "source": [
    "Summing entries"
   ]
  },
  {
   "cell_type": "code",
   "execution_count": 113,
   "id": "cea67cbf-08a2-4eba-b435-ed7f6850f10f",
   "metadata": {},
   "outputs": [
    {
     "data": {
      "text/plain": [
       "8"
      ]
     },
     "execution_count": 113,
     "metadata": {},
     "output_type": "execute_result"
    }
   ],
   "source": [
    "np.sum(x < 6)"
   ]
  },
  {
   "cell_type": "markdown",
   "id": "47ed02ef-7a53-416e-b94e-391390488aa7",
   "metadata": {},
   "source": [
    "Summing along an axis"
   ]
  },
  {
   "cell_type": "code",
   "execution_count": 115,
   "id": "5b2dec0e-80f5-42b1-b091-7e9f9afdee3b",
   "metadata": {},
   "outputs": [
    {
     "data": {
      "text/plain": [
       "array([1, 1, 3, 3])"
      ]
     },
     "execution_count": 115,
     "metadata": {},
     "output_type": "execute_result"
    }
   ],
   "source": [
    "# Column-wise sums\n",
    "np.sum(x < 6, axis=0)"
   ]
  },
  {
   "cell_type": "code",
   "execution_count": 116,
   "id": "467ffb2f-b64d-47d4-9b7c-d67233074296",
   "metadata": {},
   "outputs": [
    {
     "data": {
      "text/plain": [
       "array([3, 2, 3])"
      ]
     },
     "execution_count": 116,
     "metadata": {},
     "output_type": "execute_result"
    }
   ],
   "source": [
    "# Row-wise sums\n",
    "np.sum(x < 6, axis=1)"
   ]
  },
  {
   "cell_type": "markdown",
   "id": "a1b7e4a9-438b-4479-b791-953641784722",
   "metadata": {},
   "source": [
    "Any and All"
   ]
  },
  {
   "cell_type": "code",
   "execution_count": 118,
   "id": "564bffb7-fe8a-4a6b-8145-116aea189873",
   "metadata": {},
   "outputs": [
    {
     "data": {
      "text/plain": [
       "True"
      ]
     },
     "execution_count": 118,
     "metadata": {},
     "output_type": "execute_result"
    }
   ],
   "source": [
    "np.any(x > 8)"
   ]
  },
  {
   "cell_type": "code",
   "execution_count": 119,
   "id": "5206dd7e-22b0-4e4c-a91d-327f47600a6f",
   "metadata": {},
   "outputs": [
    {
     "data": {
      "text/plain": [
       "False"
      ]
     },
     "execution_count": 119,
     "metadata": {},
     "output_type": "execute_result"
    }
   ],
   "source": [
    "np.all(x < 8)"
   ]
  },
  {
   "cell_type": "markdown",
   "id": "d97a9aa5-6afb-48a7-94ca-f1c6aa378641",
   "metadata": {},
   "source": [
    "Any and All have flavors that check along a particular axis"
   ]
  },
  {
   "cell_type": "markdown",
   "id": "6b99b507-1101-4581-9e7d-fd64fad4a53e",
   "metadata": {},
   "source": [
    "Bitwise Logical Operators"
   ]
  },
  {
   "cell_type": "code",
   "execution_count": 122,
   "id": "04133cf4-b959-4c1d-81a9-5cdca3826924",
   "metadata": {},
   "outputs": [
    {
     "data": {
      "text/plain": [
       "array([[False,  True, False, False],\n",
       "       [False,  True, False, False],\n",
       "       [False,  True,  True, False]])"
      ]
     },
     "execution_count": 122,
     "metadata": {},
     "output_type": "execute_result"
    }
   ],
   "source": [
    "(x < 8) & (x > 3)"
   ]
  },
  {
   "cell_type": "code",
   "execution_count": 123,
   "id": "3aff9e0a-1f07-457a-91a5-1921d913d7a6",
   "metadata": {},
   "outputs": [
    {
     "data": {
      "text/plain": [
       "array([[ True,  True,  True,  True],\n",
       "       [ True,  True,  True,  True],\n",
       "       [ True,  True,  True,  True]])"
      ]
     },
     "execution_count": 123,
     "metadata": {},
     "output_type": "execute_result"
    }
   ],
   "source": [
    "(x < 6) | (x > 2)"
   ]
  },
  {
   "cell_type": "markdown",
   "id": "7a1b6e17-91bb-4a66-a134-8d0497ac0958",
   "metadata": {},
   "source": [
    "So, remember this: and and or perform a single Boolean evaluation on an entire object, while & and | perform multiple Boolean evaluations on the content (the individual bits or bytes) of an object. For Boolean NumPy arrays, the latter is nearly always the desired operation."
   ]
  },
  {
   "cell_type": "code",
   "execution_count": 125,
   "id": "4d1337a8-5e16-4aae-9ed0-47d6b8aa617f",
   "metadata": {},
   "outputs": [
    {
     "data": {
      "text/plain": [
       "array([ 0.43874206,  0.32818515,  0.68328838, -0.81928256,  0.69156442,\n",
       "       -1.62453268,  1.50806312, -1.22449846,  1.22696072, -1.05013046,\n",
       "        0.62509363,  0.09693023,  0.62776415, -0.28565182,  1.49678665,\n",
       "       -0.76768541, -0.3942867 , -1.35693505,  0.33524959,  0.57442768,\n",
       "        1.62016911,  0.33395176, -1.02906713, -0.94266623,  0.38365532,\n",
       "        0.25423793,  1.36108696,  1.25474959, -0.05637126,  0.44880896,\n",
       "       -1.47909513,  2.40254455, -0.06959272, -1.52752832,  1.93633419,\n",
       "       -1.28006351, -0.71562065,  0.72455605,  0.47362789, -0.33131697,\n",
       "        0.26272942,  1.75038031,  0.01834221, -1.43899931,  1.3716487 ,\n",
       "        0.67679557,  0.53793618,  1.53399445,  0.28214872,  0.56313954,\n",
       "       -0.37793941, -1.15832253,  0.96594187, -0.35611958, -1.28536874,\n",
       "        0.19742658,  0.41682623, -0.95386364,  0.75830441, -2.08596882,\n",
       "       -1.16203473,  0.34232684, -1.11888193, -1.13596   ,  0.6742499 ,\n",
       "        1.26767704,  0.65873509, -0.64003051,  3.09160717,  0.51595829,\n",
       "        0.61122253, -0.01723733,  0.3037547 ,  0.48345155,  1.31693828,\n",
       "        0.11558915, -1.71886929, -0.98511272,  0.42671049,  0.54159558,\n",
       "       -1.40923638, -0.38289913, -0.36361407,  0.51818448,  0.98517332,\n",
       "       -0.28010458,  0.48822092,  1.18871415,  2.35468027, -0.50254828,\n",
       "        0.72586398,  0.82359641,  0.12582911, -0.96702245,  0.16762368,\n",
       "       -0.25626375, -0.77984442,  0.73111879, -0.90911587,  2.5795842 ])"
      ]
     },
     "execution_count": 125,
     "metadata": {},
     "output_type": "execute_result"
    }
   ],
   "source": [
    "rng = np.random.default_rng(seed=1701)\n",
    "x = rng.normal(size=100)\n",
    "x"
   ]
  },
  {
   "cell_type": "code",
   "execution_count": 126,
   "id": "4ed59ebf-7ca4-4b96-a90b-3572b52f6952",
   "metadata": {},
   "outputs": [
    {
     "data": {
      "text/plain": [
       "array([-5.        , -4.47368421, -3.94736842, -3.42105263, -2.89473684,\n",
       "       -2.36842105, -1.84210526, -1.31578947, -0.78947368, -0.26315789,\n",
       "        0.26315789,  0.78947368,  1.31578947,  1.84210526,  2.36842105,\n",
       "        2.89473684,  3.42105263,  3.94736842,  4.47368421,  5.        ])"
      ]
     },
     "execution_count": 126,
     "metadata": {},
     "output_type": "execute_result"
    }
   ],
   "source": [
    "bins = np.linspace(-5, 5, 20)\n",
    "bins"
   ]
  },
  {
   "cell_type": "code",
   "execution_count": 127,
   "id": "99aa9130-6c3b-4bc4-84c2-54dea606dfd4",
   "metadata": {},
   "outputs": [
    {
     "data": {
      "text/plain": [
       "array([0., 0., 0., 0., 0., 0., 0., 0., 0., 0., 0., 0., 0., 0., 0., 0., 0.,\n",
       "       0., 0., 0.])"
      ]
     },
     "execution_count": 127,
     "metadata": {},
     "output_type": "execute_result"
    }
   ],
   "source": [
    "counts = np.zeros_like(bins)\n",
    "counts"
   ]
  },
  {
   "cell_type": "code",
   "execution_count": 163,
   "id": "ed9b51c8-51a9-4d37-ae07-319a34ae10cd",
   "metadata": {},
   "outputs": [
    {
     "data": {
      "text/plain": [
       "array([11, 11, 11,  8, 11,  7, 13,  8, 12,  8, 11, 10, 11,  9, 13,  9,  9,\n",
       "        7, 11, 11, 13, 11,  8,  8, 11, 10, 13, 12, 10, 11,  7, 15, 10,  7,\n",
       "       14,  8,  9, 11, 11,  9, 10, 13, 10,  7, 13, 11, 11, 13, 11, 11,  9,\n",
       "        8, 12,  9,  8, 10, 11,  8, 11,  6,  8, 11,  8,  8, 11, 12, 11,  9,\n",
       "       16, 11, 11, 10, 11, 11, 13, 10,  7,  8, 11, 11,  7,  9,  9, 11, 12,\n",
       "        9, 11, 12, 14,  9, 11, 12, 10,  8, 10, 10,  9, 11,  8, 15])"
      ]
     },
     "execution_count": 163,
     "metadata": {},
     "output_type": "execute_result"
    }
   ],
   "source": [
    "i = np.searchsorted(bins, x)\n",
    "i"
   ]
  },
  {
   "cell_type": "code",
   "execution_count": 165,
   "id": "35160622-f97e-4467-9abc-cd15d1a8ab84",
   "metadata": {},
   "outputs": [
    {
     "data": {
      "text/plain": [
       "array([ 0.,  0.,  0.,  0.,  0.,  0.,  1.,  7., 15., 13., 12., 32.,  7.,\n",
       "        8.,  2.,  2.,  1.,  0.,  0.,  0.])"
      ]
     },
     "execution_count": 165,
     "metadata": {},
     "output_type": "execute_result"
    }
   ],
   "source": [
    "np.add.at(counts, i, 1)\n",
    "counts"
   ]
  },
  {
   "cell_type": "code",
   "execution_count": 191,
   "id": "0897c8ed-6586-4eb1-b519-07324869eb0e",
   "metadata": {},
   "outputs": [
    {
     "data": {
      "text/plain": [
       "(10, 2)"
      ]
     },
     "execution_count": 191,
     "metadata": {},
     "output_type": "execute_result"
    }
   ],
   "source": [
    "X = rng.random((10, 2))\n",
    "X.shape"
   ]
  },
  {
   "cell_type": "code",
   "execution_count": 193,
   "id": "5fddfc0a-e6fc-4b57-886c-dadc1d136737",
   "metadata": {},
   "outputs": [
    {
     "data": {
      "text/plain": [
       "array([[0.30996984, 0.86755384],\n",
       "       [0.76241512, 0.12267775],\n",
       "       [0.87240934, 0.97672732],\n",
       "       [0.76392583, 0.54179612],\n",
       "       [0.76337955, 0.64238766],\n",
       "       [0.28724588, 0.49168101],\n",
       "       [0.8376644 , 0.65340984],\n",
       "       [0.65732383, 0.32957476],\n",
       "       [0.53500267, 0.50540463],\n",
       "       [0.78077789, 0.39624012]])"
      ]
     },
     "execution_count": 193,
     "metadata": {},
     "output_type": "execute_result"
    }
   ],
   "source": [
    "X"
   ]
  },
  {
   "cell_type": "code",
   "execution_count": 175,
   "id": "4fdb3928-edfc-4e46-a18f-5014e9aec9ec",
   "metadata": {},
   "outputs": [
    {
     "data": {
      "text/plain": [
       "<matplotlib.collections.PathCollection at 0x12a490fb0>"
      ]
     },
     "execution_count": 175,
     "metadata": {},
     "output_type": "execute_result"
    },
    {
     "data": {
      "image/png": "[encoded data removed]",
      "text/plain": [
       "<Figure size 640x480 with 1 Axes>"
      ]
     },
     "metadata": {},
     "output_type": "display_data"
    }
   ],
   "source": [
    "%matplotlib inline\n",
    "import matplotlib.pyplot as plt\n",
    "plt.style.use('seaborn-v0_8-whitegrid')\n",
    "plt.scatter(X[:, 0], X[:, 1], s=100)"
   ]
  },
  {
   "cell_type": "code",
   "execution_count": 187,
   "id": "6a96d2ea-a5b9-4b48-a539-a09f3430a063",
   "metadata": {},
   "outputs": [
    {
     "data": {
      "text/plain": [
       "(10, 1, 2)"
      ]
     },
     "execution_count": 187,
     "metadata": {},
     "output_type": "execute_result"
    }
   ],
   "source": [
    "Y = X[:, np.newaxis]\n",
    "Y.shape"
   ]
  },
  {
   "cell_type": "code",
   "execution_count": 189,
   "id": "f44e18ba-addd-454b-a0d4-29c81f78adb5",
   "metadata": {},
   "outputs": [
    {
     "data": {
      "text/plain": [
       "array([[[0.4286929 , 0.92886887]],\n",
       "\n",
       "       [[0.78764941, 0.64390348]],\n",
       "\n",
       "       [[0.99056718, 0.53427892]],\n",
       "\n",
       "       [[0.90956002, 0.09409217]],\n",
       "\n",
       "       [[0.21853192, 0.41448441]],\n",
       "\n",
       "       [[0.05831073, 0.36406978]],\n",
       "\n",
       "       [[0.67953465, 0.08523745]],\n",
       "\n",
       "       [[0.07310691, 0.51768392]],\n",
       "\n",
       "       [[0.84329503, 0.35390371]],\n",
       "\n",
       "       [[0.97353984, 0.24078689]]])"
      ]
     },
     "execution_count": 189,
     "metadata": {},
     "output_type": "execute_result"
    }
   ],
   "source": [
    "Y"
   ]
  },
  {
   "cell_type": "code",
   "execution_count": 185,
   "id": "06a4b7f8-fefc-4440-bda5-9e43baaee4e9",
   "metadata": {},
   "outputs": [
    {
     "data": {
      "text/plain": [
       "(1, 10, 2)"
      ]
     },
     "execution_count": 185,
     "metadata": {},
     "output_type": "execute_result"
    }
   ],
   "source": [
    "Z = X[np.newaxis, :]\n",
    "Z.shape"
   ]
  },
  {
   "cell_type": "code",
   "execution_count": 195,
   "id": "27ee90aa-2a21-46b0-834a-91b1a0eabcb4",
   "metadata": {},
   "outputs": [
    {
     "data": {
      "text/plain": [
       "array([[[0.4286929 , 0.92886887],\n",
       "        [0.78764941, 0.64390348],\n",
       "        [0.99056718, 0.53427892],\n",
       "        [0.90956002, 0.09409217],\n",
       "        [0.21853192, 0.41448441],\n",
       "        [0.05831073, 0.36406978],\n",
       "        [0.67953465, 0.08523745],\n",
       "        [0.07310691, 0.51768392],\n",
       "        [0.84329503, 0.35390371],\n",
       "        [0.97353984, 0.24078689]]])"
      ]
     },
     "execution_count": 195,
     "metadata": {},
     "output_type": "execute_result"
    }
   ],
   "source": [
    "Z"
   ]
  },
  {
   "cell_type": "code",
   "execution_count": 197,
   "id": "96f3ea60-eeca-4cb7-a6ef-60fe2f07e55e",
   "metadata": {},
   "outputs": [
    {
     "data": {
      "text/plain": [
       "(10, 10, 2)"
      ]
     },
     "execution_count": 197,
     "metadata": {},
     "output_type": "execute_result"
    }
   ],
   "source": [
    "differences = X[:, np.newaxis] - X[np.newaxis, :]\n",
    "differences.shape"
   ]
  },
  {
   "cell_type": "code",
   "execution_count": 199,
   "id": "f8d47fba-19ff-4840-8dd3-03768ef11940",
   "metadata": {},
   "outputs": [
    {
     "data": {
      "text/plain": [
       "array([[[ 0.00000000e+00,  0.00000000e+00],\n",
       "        [-4.52445283e-01,  7.44876089e-01],\n",
       "        [-5.62439505e-01, -1.09173483e-01],\n",
       "        [-4.53955996e-01,  3.25757717e-01],\n",
       "        [-4.53409717e-01,  2.25166183e-01],\n",
       "        [ 2.27239569e-02,  3.75872831e-01],\n",
       "        [-5.27694562e-01,  2.14144001e-01],\n",
       "        [-3.47353997e-01,  5.37979085e-01],\n",
       "        [-2.25032835e-01,  3.62149214e-01],\n",
       "        [-4.70808056e-01,  4.71313720e-01]],\n",
       "\n",
       "       [[ 4.52445283e-01, -7.44876089e-01],\n",
       "        [ 0.00000000e+00,  0.00000000e+00],\n",
       "        [-1.09994222e-01, -8.54049572e-01],\n",
       "        [-1.51071285e-03, -4.19118372e-01],\n",
       "        [-9.64434577e-04, -5.19709906e-01],\n",
       "        [ 4.75169240e-01, -3.69003259e-01],\n",
       "        [-7.52492795e-02, -5.30732089e-01],\n",
       "        [ 1.05091286e-01, -2.06897005e-01],\n",
       "        [ 2.27412448e-01, -3.82726876e-01],\n",
       "        [-1.83627727e-02, -2.73562369e-01]],\n",
       "\n",
       "       [[ 5.62439505e-01,  1.09173483e-01],\n",
       "        [ 1.09994222e-01,  8.54049572e-01],\n",
       "        [ 0.00000000e+00,  0.00000000e+00],\n",
       "        [ 1.08483509e-01,  4.34931200e-01],\n",
       "        [ 1.09029787e-01,  3.34339666e-01],\n",
       "        [ 5.85163462e-01,  4.85046313e-01],\n",
       "        [ 3.47449424e-02,  3.23317483e-01],\n",
       "        [ 2.15085507e-01,  6.47152567e-01],\n",
       "        [ 3.37406670e-01,  4.71322696e-01],\n",
       "        [ 9.16314493e-02,  5.80487203e-01]],\n",
       "\n",
       "       [[ 4.53955996e-01, -3.25757717e-01],\n",
       "        [ 1.51071285e-03,  4.19118372e-01],\n",
       "        [-1.08483509e-01, -4.34931200e-01],\n",
       "        [ 0.00000000e+00,  0.00000000e+00],\n",
       "        [ 5.46278274e-04, -1.00591534e-01],\n",
       "        [ 4.76679953e-01,  5.01151132e-02],\n",
       "        [-7.37385667e-02, -1.11613717e-01],\n",
       "        [ 1.06601998e-01,  2.12221367e-01],\n",
       "        [ 2.28923161e-01,  3.63914962e-02],\n",
       "        [-1.68520598e-02,  1.45556003e-01]],\n",
       "\n",
       "       [[ 4.53409717e-01, -2.25166183e-01],\n",
       "        [ 9.64434577e-04,  5.19709906e-01],\n",
       "        [-1.09029787e-01, -3.34339666e-01],\n",
       "        [-5.46278274e-04,  1.00591534e-01],\n",
       "        [ 0.00000000e+00,  0.00000000e+00],\n",
       "        [ 4.76133674e-01,  1.50706647e-01],\n",
       "        [-7.42848449e-02, -1.10221827e-02],\n",
       "        [ 1.06055720e-01,  3.12812901e-01],\n",
       "        [ 2.28376882e-01,  1.36983030e-01],\n",
       "        [-1.73983381e-02,  2.46147537e-01]],\n",
       "\n",
       "       [[-2.27239569e-02, -3.75872831e-01],\n",
       "        [-4.75169240e-01,  3.69003259e-01],\n",
       "        [-5.85163462e-01, -4.85046313e-01],\n",
       "        [-4.76679953e-01, -5.01151132e-02],\n",
       "        [-4.76133674e-01, -1.50706647e-01],\n",
       "        [ 0.00000000e+00,  0.00000000e+00],\n",
       "        [-5.50418519e-01, -1.61728830e-01],\n",
       "        [-3.70077954e-01,  1.62106254e-01],\n",
       "        [-2.47756792e-01, -1.37236170e-02],\n",
       "        [-4.93532013e-01,  9.54408894e-02]],\n",
       "\n",
       "       [[ 5.27694562e-01, -2.14144001e-01],\n",
       "        [ 7.52492795e-02,  5.30732089e-01],\n",
       "        [-3.47449424e-02, -3.23317483e-01],\n",
       "        [ 7.37385667e-02,  1.11613717e-01],\n",
       "        [ 7.42848449e-02,  1.10221827e-02],\n",
       "        [ 5.50418519e-01,  1.61728830e-01],\n",
       "        [ 0.00000000e+00,  0.00000000e+00],\n",
       "        [ 1.80340565e-01,  3.23835084e-01],\n",
       "        [ 3.02661727e-01,  1.48005213e-01],\n",
       "        [ 5.68865068e-02,  2.57169719e-01]],\n",
       "\n",
       "       [[ 3.47353997e-01, -5.37979085e-01],\n",
       "        [-1.05091286e-01,  2.06897005e-01],\n",
       "        [-2.15085507e-01, -6.47152567e-01],\n",
       "        [-1.06601998e-01, -2.12221367e-01],\n",
       "        [-1.06055720e-01, -3.12812901e-01],\n",
       "        [ 3.70077954e-01, -1.62106254e-01],\n",
       "        [-1.80340565e-01, -3.23835084e-01],\n",
       "        [ 0.00000000e+00,  0.00000000e+00],\n",
       "        [ 1.22321162e-01, -1.75829871e-01],\n",
       "        [-1.23454058e-01, -6.66653646e-02]],\n",
       "\n",
       "       [[ 2.25032835e-01, -3.62149214e-01],\n",
       "        [-2.27412448e-01,  3.82726876e-01],\n",
       "        [-3.37406670e-01, -4.71322696e-01],\n",
       "        [-2.28923161e-01, -3.63914962e-02],\n",
       "        [-2.28376882e-01, -1.36983030e-01],\n",
       "        [ 2.47756792e-01,  1.37236170e-02],\n",
       "        [-3.02661727e-01, -1.48005213e-01],\n",
       "        [-1.22321162e-01,  1.75829871e-01],\n",
       "        [ 0.00000000e+00,  0.00000000e+00],\n",
       "        [-2.45775221e-01,  1.09164506e-01]],\n",
       "\n",
       "       [[ 4.70808056e-01, -4.71313720e-01],\n",
       "        [ 1.83627727e-02,  2.73562369e-01],\n",
       "        [-9.16314493e-02, -5.80487203e-01],\n",
       "        [ 1.68520598e-02, -1.45556003e-01],\n",
       "        [ 1.73983381e-02, -2.46147537e-01],\n",
       "        [ 4.93532013e-01, -9.54408894e-02],\n",
       "        [-5.68865068e-02, -2.57169719e-01],\n",
       "        [ 1.23454058e-01,  6.66653646e-02],\n",
       "        [ 2.45775221e-01, -1.09164506e-01],\n",
       "        [ 0.00000000e+00,  0.00000000e+00]]])"
      ]
     },
     "execution_count": 199,
     "metadata": {},
     "output_type": "execute_result"
    }
   ],
   "source": [
    "differences"
   ]
  },
  {
   "cell_type": "code",
   "execution_count": 201,
   "id": "0560789f-8be8-4feb-a0ea-99d81b2a2f3f",
   "metadata": {},
   "outputs": [
    {
     "data": {
      "text/plain": [
       "array([[[0.00000000e+00, 0.00000000e+00],\n",
       "        [2.04706734e-01, 5.54840388e-01],\n",
       "        [3.16338197e-01, 1.19188493e-02],\n",
       "        [2.06076046e-01, 1.06118090e-01],\n",
       "        [2.05580372e-01, 5.06998101e-02],\n",
       "        [5.16378218e-04, 1.41280385e-01],\n",
       "        [2.78461551e-01, 4.58576530e-02],\n",
       "        [1.20654799e-01, 2.89421495e-01],\n",
       "        [5.06397768e-02, 1.31152053e-01],\n",
       "        [2.21660225e-01, 2.22136623e-01]],\n",
       "\n",
       "       [[2.04706734e-01, 5.54840388e-01],\n",
       "        [0.00000000e+00, 0.00000000e+00],\n",
       "        [1.20987289e-02, 7.29400671e-01],\n",
       "        [2.28225332e-06, 1.75660210e-01],\n",
       "        [9.30134054e-07, 2.70098386e-01],\n",
       "        [2.25785806e-01, 1.36163405e-01],\n",
       "        [5.66245407e-03, 2.81676550e-01],\n",
       "        [1.10441783e-02, 4.28063706e-02],\n",
       "        [5.17164214e-02, 1.46479861e-01],\n",
       "        [3.37191421e-04, 7.48363699e-02]],\n",
       "\n",
       "       [[3.16338197e-01, 1.19188493e-02],\n",
       "        [1.20987289e-02, 7.29400671e-01],\n",
       "        [0.00000000e+00, 0.00000000e+00],\n",
       "        [1.17686717e-02, 1.89165149e-01],\n",
       "        [1.18874945e-02, 1.11783012e-01],\n",
       "        [3.42416277e-01, 2.35269926e-01],\n",
       "        [1.20721102e-03, 1.04534195e-01],\n",
       "        [4.62617755e-02, 4.18806445e-01],\n",
       "        [1.13843261e-01, 2.22145084e-01],\n",
       "        [8.39632249e-03, 3.36965392e-01]],\n",
       "\n",
       "       [[2.06076046e-01, 1.06118090e-01],\n",
       "        [2.28225332e-06, 1.75660210e-01],\n",
       "        [1.17686717e-02, 1.89165149e-01],\n",
       "        [0.00000000e+00, 0.00000000e+00],\n",
       "        [2.98419953e-07, 1.01186567e-02],\n",
       "        [2.27223777e-01, 2.51152457e-03],\n",
       "        [5.43737621e-03, 1.24576218e-02],\n",
       "        [1.13639861e-02, 4.50379087e-02],\n",
       "        [5.24058135e-02, 1.32434100e-03],\n",
       "        [2.83991921e-04, 2.11865499e-02]],\n",
       "\n",
       "       [[2.05580372e-01, 5.06998101e-02],\n",
       "        [9.30134054e-07, 2.70098386e-01],\n",
       "        [1.18874945e-02, 1.11783012e-01],\n",
       "        [2.98419953e-07, 1.01186567e-02],\n",
       "        [0.00000000e+00, 0.00000000e+00],\n",
       "        [2.26703276e-01, 2.27124935e-02],\n",
       "        [5.51823819e-03, 1.21488512e-04],\n",
       "        [1.12478158e-02, 9.78519112e-02],\n",
       "        [5.21560004e-02, 1.87643506e-02],\n",
       "        [3.02702169e-04, 6.05886098e-02]],\n",
       "\n",
       "       [[5.16378218e-04, 1.41280385e-01],\n",
       "        [2.25785806e-01, 1.36163405e-01],\n",
       "        [3.42416277e-01, 2.35269926e-01],\n",
       "        [2.27223777e-01, 2.51152457e-03],\n",
       "        [2.26703276e-01, 2.27124935e-02],\n",
       "        [0.00000000e+00, 0.00000000e+00],\n",
       "        [3.02960546e-01, 2.61562144e-02],\n",
       "        [1.36957692e-01, 2.62784376e-02],\n",
       "        [6.13834280e-02, 1.88337664e-04],\n",
       "        [2.43573847e-01, 9.10896337e-03]],\n",
       "\n",
       "       [[2.78461551e-01, 4.58576530e-02],\n",
       "        [5.66245407e-03, 2.81676550e-01],\n",
       "        [1.20721102e-03, 1.04534195e-01],\n",
       "        [5.43737621e-03, 1.24576218e-02],\n",
       "        [5.51823819e-03, 1.21488512e-04],\n",
       "        [3.02960546e-01, 2.61562144e-02],\n",
       "        [0.00000000e+00, 0.00000000e+00],\n",
       "        [3.25227194e-02, 1.04869162e-01],\n",
       "        [9.16041212e-02, 2.19055430e-02],\n",
       "        [3.23607466e-03, 6.61362645e-02]],\n",
       "\n",
       "       [[1.20654799e-01, 2.89421495e-01],\n",
       "        [1.10441783e-02, 4.28063706e-02],\n",
       "        [4.62617755e-02, 4.18806445e-01],\n",
       "        [1.13639861e-02, 4.50379087e-02],\n",
       "        [1.12478158e-02, 9.78519112e-02],\n",
       "        [1.36957692e-01, 2.62784376e-02],\n",
       "        [3.25227194e-02, 1.04869162e-01],\n",
       "        [0.00000000e+00, 0.00000000e+00],\n",
       "        [1.49624668e-02, 3.09161435e-02],\n",
       "        [1.52409045e-02, 4.44427084e-03]],\n",
       "\n",
       "       [[5.06397768e-02, 1.31152053e-01],\n",
       "        [5.17164214e-02, 1.46479861e-01],\n",
       "        [1.13843261e-01, 2.22145084e-01],\n",
       "        [5.24058135e-02, 1.32434100e-03],\n",
       "        [5.21560004e-02, 1.87643506e-02],\n",
       "        [6.13834280e-02, 1.88337664e-04],\n",
       "        [9.16041212e-02, 2.19055430e-02],\n",
       "        [1.49624668e-02, 3.09161435e-02],\n",
       "        [0.00000000e+00, 0.00000000e+00],\n",
       "        [6.04054590e-02, 1.19168895e-02]],\n",
       "\n",
       "       [[2.21660225e-01, 2.22136623e-01],\n",
       "        [3.37191421e-04, 7.48363699e-02],\n",
       "        [8.39632249e-03, 3.36965392e-01],\n",
       "        [2.83991921e-04, 2.11865499e-02],\n",
       "        [3.02702169e-04, 6.05886098e-02],\n",
       "        [2.43573847e-01, 9.10896337e-03],\n",
       "        [3.23607466e-03, 6.61362645e-02],\n",
       "        [1.52409045e-02, 4.44427084e-03],\n",
       "        [6.04054590e-02, 1.19168895e-02],\n",
       "        [0.00000000e+00, 0.00000000e+00]]])"
      ]
     },
     "execution_count": 201,
     "metadata": {},
     "output_type": "execute_result"
    }
   ],
   "source": [
    "differences_sqd = differences ** 2\n",
    "differences_sqd"
   ]
  },
  {
   "cell_type": "code",
   "execution_count": 205,
   "id": "5eeb7f34-b2f6-4ae2-a174-87f62d26d6bb",
   "metadata": {},
   "outputs": [
    {
     "data": {
      "text/plain": [
       "(10, 10)"
      ]
     },
     "execution_count": 205,
     "metadata": {},
     "output_type": "execute_result"
    }
   ],
   "source": [
    "dist_sqd = np.sum(differences_sqd, axis=-1)\n",
    "dist_sqd.shape"
   ]
  },
  {
   "cell_type": "code",
   "execution_count": 207,
   "id": "8e5d5c13-634e-43a6-8d94-ed5001af2c7a",
   "metadata": {},
   "outputs": [
    {
     "data": {
      "text/plain": [
       "array([[0.        , 0.75954712, 0.32825705, 0.31219414, 0.25628018,\n",
       "        0.14179676, 0.3243192 , 0.41007629, 0.18179183, 0.44379685],\n",
       "       [0.75954712, 0.        , 0.7414994 , 0.17566249, 0.27009932,\n",
       "        0.36194921, 0.287339  , 0.05385055, 0.19819628, 0.07517356],\n",
       "       [0.32825705, 0.7414994 , 0.        , 0.20093382, 0.12367051,\n",
       "        0.5776862 , 0.10574141, 0.46506822, 0.33598834, 0.34536171],\n",
       "       [0.31219414, 0.17566249, 0.20093382, 0.        , 0.01011896,\n",
       "        0.2297353 , 0.017895  , 0.05640189, 0.05373015, 0.02147054],\n",
       "       [0.25628018, 0.27009932, 0.12367051, 0.01011896, 0.        ,\n",
       "        0.24941577, 0.00563973, 0.10909973, 0.07092035, 0.06089131],\n",
       "       [0.14179676, 0.36194921, 0.5776862 , 0.2297353 , 0.24941577,\n",
       "        0.        , 0.32911676, 0.16323613, 0.06157177, 0.25268281],\n",
       "       [0.3243192 , 0.287339  , 0.10574141, 0.017895  , 0.00563973,\n",
       "        0.32911676, 0.        , 0.13739188, 0.11350966, 0.06937234],\n",
       "       [0.41007629, 0.05385055, 0.46506822, 0.05640189, 0.10909973,\n",
       "        0.16323613, 0.13739188, 0.        , 0.04587861, 0.01968518],\n",
       "       [0.18179183, 0.19819628, 0.33598834, 0.05373015, 0.07092035,\n",
       "        0.06157177, 0.11350966, 0.04587861, 0.        , 0.07232235],\n",
       "       [0.44379685, 0.07517356, 0.34536171, 0.02147054, 0.06089131,\n",
       "        0.25268281, 0.06937234, 0.01968518, 0.07232235, 0.        ]])"
      ]
     },
     "execution_count": 207,
     "metadata": {},
     "output_type": "execute_result"
    }
   ],
   "source": [
    "dist_sqd"
   ]
  },
  {
   "cell_type": "code",
   "execution_count": null,
   "id": "7b4dc2f1-50f0-490b-9619-fd0a472930e6",
   "metadata": {},
   "outputs": [],
   "source": []
  }
 ],
 "metadata": {
  "kernelspec": {
   "display_name": "Python 3 (ipykernel)",
   "language": "python",
   "name": "python3"
  },
  "language_info": {
   "codemirror_mode": {
    "name": "ipython",
    "version": 3
   },
   "file_extension": ".py",
   "mimetype": "text/x-python",
   "name": "python",
   "nbconvert_exporter": "python",
   "pygments_lexer": "ipython3",
   "version": "3.12.2"
  }
 },
 "nbformat": 4,
 "nbformat_minor": 5
}
