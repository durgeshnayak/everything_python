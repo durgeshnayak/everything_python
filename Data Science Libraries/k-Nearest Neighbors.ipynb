{
 "cells": [
  {
   "cell_type": "markdown",
   "id": "4e0770ca-baec-4c83-be19-aa3982dd1e99",
   "metadata": {},
   "source": [
    "Imports"
   ]
  },
  {
   "cell_type": "code",
   "execution_count": 8,
   "id": "5786e8e4-5f6c-41b5-b8c2-a5e1642d1589",
   "metadata": {},
   "outputs": [],
   "source": [
    "import numpy as np"
   ]
  },
  {
   "cell_type": "code",
   "execution_count": 9,
   "id": "d34a68cc-ca9a-4906-b5e8-138705f9161c",
   "metadata": {},
   "outputs": [],
   "source": [
    "rng = np.random.default_rng(seed=42)"
   ]
  },
  {
   "cell_type": "code",
   "execution_count": 10,
   "id": "d2b03aaa-6c9b-4f38-aef7-3c81564427d1",
   "metadata": {},
   "outputs": [
    {
     "data": {
      "text/plain": [
       "array([[0.77395605, 0.43887844],\n",
       "       [0.85859792, 0.69736803],\n",
       "       [0.09417735, 0.97562235],\n",
       "       [0.7611397 , 0.78606431],\n",
       "       [0.12811363, 0.45038594],\n",
       "       [0.37079802, 0.92676499],\n",
       "       [0.64386512, 0.82276161],\n",
       "       [0.4434142 , 0.22723872],\n",
       "       [0.55458479, 0.06381726],\n",
       "       [0.82763117, 0.6316644 ]])"
      ]
     },
     "execution_count": 10,
     "metadata": {},
     "output_type": "execute_result"
    }
   ],
   "source": [
    "# sample dataset\n",
    "X = rng.random((10, 2))\n",
    "X"
   ]
  },
  {
   "cell_type": "code",
   "execution_count": null,
   "id": "c68f52b7-c1d1-47a6-b1ec-6f4a14ae749c",
   "metadata": {},
   "outputs": [],
   "source": [
    "%matplotlib inline\n",
    "import matplotlib.pyplot as plt"
   ]
  }
 ],
 "metadata": {
  "kernelspec": {
   "display_name": "Python 3 (ipykernel)",
   "language": "python",
   "name": "python3"
  },
  "language_info": {
   "codemirror_mode": {
    "name": "ipython",
    "version": 3
   },
   "file_extension": ".py",
   "mimetype": "text/x-python",
   "name": "python",
   "nbconvert_exporter": "python",
   "pygments_lexer": "ipython3",
   "version": "3.12.2"
  }
 },
 "nbformat": 4,
 "nbformat_minor": 5
}
