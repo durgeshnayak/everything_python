{
 "cells": [
  {
   "cell_type": "markdown",
   "id": "8314712d19c02e59",
   "metadata": {
    "collapsed": false,
    "jupyter": {
     "outputs_hidden": false
    }
   },
   "source": [
    "Broadcasting of Arrays"
   ]
  },
  {
   "cell_type": "markdown",
   "id": "81934f1d00ad460",
   "metadata": {
    "collapsed": false,
    "jupyter": {
     "outputs_hidden": false
    }
   },
   "source": [
    "Rules of Broadcasting\n",
    "Broadcasting in NumPy follows a strict set of rules to determine the interaction between the two arrays:\n",
    "\n",
    "Rule 1\n",
    "If the two arrays differ in their number of dimensions, the shape of the one with fewer dimensions is padded with ones on its leading (left) side.\n",
    "\n",
    "Rule 2\n",
    "If the shape of the two arrays does not match in any dimension, the array with shape equal to 1 in that dimension is stretched to match the other shape.\n",
    "\n",
    "Rule 3\n",
    "If in any dimension the sizes disagree and neither is equal to 1, an error is raised."
   ]
  },
  {
   "cell_type": "code",
   "id": "af23c15e93433504",
   "metadata": {
    "collapsed": false,
    "jupyter": {
     "outputs_hidden": false
    },
    "ExecuteTime": {
     "end_time": "2024-09-10T08:28:38.809485Z",
     "start_time": "2024-09-10T08:28:38.734219Z"
    }
   },
   "source": [
    "import numpy as np"
   ],
   "outputs": [],
   "execution_count": 1
  },
  {
   "cell_type": "code",
   "id": "df287db7d359bc1b",
   "metadata": {
    "collapsed": false,
    "jupyter": {
     "outputs_hidden": false
    },
    "ExecuteTime": {
     "end_time": "2024-09-10T08:28:38.835426Z",
     "start_time": "2024-09-10T08:28:38.828164Z"
    }
   },
   "source": [
    "# Example 1\n",
    "M = np.ones((2, 3))\n",
    "print(M.shape)\n",
    "print(M)"
   ],
   "outputs": [
    {
     "name": "stdout",
     "output_type": "stream",
     "text": [
      "(2, 3)\n",
      "[[1. 1. 1.]\n",
      " [1. 1. 1.]]\n"
     ]
    }
   ],
   "execution_count": 2
  },
  {
   "cell_type": "code",
   "id": "6caf4376803814fb",
   "metadata": {
    "collapsed": false,
    "jupyter": {
     "outputs_hidden": false
    },
    "ExecuteTime": {
     "end_time": "2024-09-10T08:28:39.026736Z",
     "start_time": "2024-09-10T08:28:39.020993Z"
    }
   },
   "source": [
    "a = np.arange(3)\n",
    "print(a.shape)\n",
    "print(a)"
   ],
   "outputs": [
    {
     "name": "stdout",
     "output_type": "stream",
     "text": [
      "(3,)\n",
      "[0 1 2]\n"
     ]
    }
   ],
   "execution_count": 3
  },
  {
   "cell_type": "markdown",
   "id": "91c0c7ffc74c62a",
   "metadata": {
    "collapsed": false,
    "jupyter": {
     "outputs_hidden": false
    }
   },
   "source": [
    "Let’s consider an operation on these two arrays, which have the following shapes:\n",
    "\n",
    "M.shape is (2, 3)\n",
    "\n",
    "a.shape is (3,)\n",
    "\n",
    "We see by rule 1 that the array a has fewer dimensions, so we pad it on the left with ones:\n",
    "\n",
    "M.shape remains (2, 3)\n",
    "\n",
    "a.shape becomes (1, 3)\n",
    "\n",
    "By rule 2, we now see that the first dimension disagrees, so we stretch this dimension to match:\n",
    "\n",
    "M.shape remains (2, 3)\n",
    "\n",
    "a.shape becomes (2, 3)\n",
    "\n",
    "The shapes now match, and we see that the final shape will be (2, 3):"
   ]
  },
  {
   "cell_type": "code",
   "id": "3ecf839b01e544f5",
   "metadata": {
    "collapsed": false,
    "jupyter": {
     "outputs_hidden": false
    },
    "ExecuteTime": {
     "end_time": "2024-09-10T08:28:39.261437Z",
     "start_time": "2024-09-10T08:28:39.257594Z"
    }
   },
   "source": [
    "print(M+a)"
   ],
   "outputs": [
    {
     "name": "stdout",
     "output_type": "stream",
     "text": [
      "[[1. 2. 3.]\n",
      " [1. 2. 3.]]\n"
     ]
    }
   ],
   "execution_count": 4
  },
  {
   "cell_type": "code",
   "id": "f392735e2009e6f2",
   "metadata": {
    "collapsed": false,
    "jupyter": {
     "outputs_hidden": false
    },
    "ExecuteTime": {
     "end_time": "2024-09-10T08:28:39.426321Z",
     "start_time": "2024-09-10T08:28:39.421483Z"
    }
   },
   "source": [
    "# Example 2\n",
    "a = np.arange(3).reshape((3, 1))\n",
    "print(a.shape)\n",
    "print(a)"
   ],
   "outputs": [
    {
     "name": "stdout",
     "output_type": "stream",
     "text": [
      "(3, 1)\n",
      "[[0]\n",
      " [1]\n",
      " [2]]\n"
     ]
    }
   ],
   "execution_count": 5
  },
  {
   "cell_type": "code",
   "id": "1b59bf6105cdfdbc",
   "metadata": {
    "collapsed": false,
    "jupyter": {
     "outputs_hidden": false
    },
    "ExecuteTime": {
     "end_time": "2024-09-10T08:28:39.580718Z",
     "start_time": "2024-09-10T08:28:39.570017Z"
    }
   },
   "source": [
    "b = np.arange(3)\n",
    "print(b.shape)\n",
    "print(b)"
   ],
   "outputs": [
    {
     "name": "stdout",
     "output_type": "stream",
     "text": [
      "(3,)\n",
      "[0 1 2]\n"
     ]
    }
   ],
   "execution_count": 6
  },
  {
   "cell_type": "markdown",
   "id": "31d1f97059e31d1e",
   "metadata": {
    "collapsed": false,
    "jupyter": {
     "outputs_hidden": false
    }
   },
   "source": [
    "Again, we’ll start by determining the shapes of the arrays:\n",
    "\n",
    "a.shape is (3, 1)\n",
    "\n",
    "b.shape is (3,)\n",
    "\n",
    "Rule 1 says we must pad the shape of b with ones:\n",
    "\n",
    "a.shape remains (3, 1)\n",
    "\n",
    "b.shape becomes (1, 3)\n",
    "\n",
    "And rule 2 tells us that we must upgrade each of these 1s to match the corresponding size of the other array:\n",
    "\n",
    "a.shape becomes (3, 3)\n",
    "\n",
    "b.shape becomes (3, 3)\n",
    "\n",
    "Because the results match, these shapes are compatible. We can see this here:"
   ]
  },
  {
   "cell_type": "code",
   "id": "a860aefc6362c791",
   "metadata": {
    "collapsed": false,
    "jupyter": {
     "outputs_hidden": false
    },
    "ExecuteTime": {
     "end_time": "2024-09-10T08:28:39.675220Z",
     "start_time": "2024-09-10T08:28:39.667749Z"
    }
   },
   "source": [
    "print(a+b)"
   ],
   "outputs": [
    {
     "name": "stdout",
     "output_type": "stream",
     "text": [
      "[[0 1 2]\n",
      " [1 2 3]\n",
      " [2 3 4]]\n"
     ]
    }
   ],
   "execution_count": 7
  },
  {
   "cell_type": "code",
   "id": "2a50399511640b27",
   "metadata": {
    "collapsed": false,
    "jupyter": {
     "outputs_hidden": false
    },
    "ExecuteTime": {
     "end_time": "2024-09-10T08:28:39.752119Z",
     "start_time": "2024-09-10T08:28:39.743777Z"
    }
   },
   "source": [
    "# Example 3\n",
    "M = np.ones((3,2))\n",
    "print(M.shape)\n",
    "print(M)"
   ],
   "outputs": [
    {
     "name": "stdout",
     "output_type": "stream",
     "text": [
      "(3, 2)\n",
      "[[1. 1.]\n",
      " [1. 1.]\n",
      " [1. 1.]]\n"
     ]
    }
   ],
   "execution_count": 8
  },
  {
   "cell_type": "code",
   "id": "b915f6bab08ceb9e",
   "metadata": {
    "collapsed": false,
    "jupyter": {
     "outputs_hidden": false
    },
    "ExecuteTime": {
     "end_time": "2024-09-10T08:28:39.836186Z",
     "start_time": "2024-09-10T08:28:39.832647Z"
    }
   },
   "source": [
    "a = np.arange(3)\n",
    "print(a.shape)\n",
    "print(a)"
   ],
   "outputs": [
    {
     "name": "stdout",
     "output_type": "stream",
     "text": [
      "(3,)\n",
      "[0 1 2]\n"
     ]
    }
   ],
   "execution_count": 9
  },
  {
   "cell_type": "markdown",
   "id": "b195140f67f66cea",
   "metadata": {
    "collapsed": false,
    "jupyter": {
     "outputs_hidden": false
    }
   },
   "source": [
    "This is just a slightly different situation than in the first example: the matrix M is transposed. How does this affect the calculation? The shapes of the arrays are as follows:\n",
    "\n",
    "M.shape is (3, 2)\n",
    "\n",
    "a.shape is (3,)\n",
    "\n",
    "Again, rule 1 tells us that we must pad the shape of a with ones:\n",
    "\n",
    "M.shape remains (3, 2)\n",
    "\n",
    "a.shape becomes (1, 3)\n",
    "\n",
    "By rule 2, the first dimension of a is then stretched to match that of M:\n",
    "\n",
    "M.shape remains (3, 2)\n",
    "\n",
    "a.shape becomes (3, 3)\n",
    "\n",
    "Now we hit rule 3—the final shapes do not match, so these two arrays are incompatible, as we can observe by attempting this operation:"
   ]
  },
  {
   "cell_type": "code",
   "id": "be5020400c6bf165",
   "metadata": {
    "collapsed": false,
    "jupyter": {
     "outputs_hidden": false
    },
    "ExecuteTime": {
     "end_time": "2024-09-10T08:28:39.919294Z",
     "start_time": "2024-09-10T08:28:39.916511Z"
    }
   },
   "source": [
    "# print(M+a)"
   ],
   "outputs": [],
   "execution_count": 10
  },
  {
   "cell_type": "code",
   "id": "e60dc36d29a78183",
   "metadata": {
    "collapsed": false,
    "jupyter": {
     "outputs_hidden": false
    },
    "ExecuteTime": {
     "end_time": "2024-09-10T08:28:40.031583Z",
     "start_time": "2024-09-10T08:28:39.968836Z"
    }
   },
   "source": [
    "rng = np.random.default_rng(1701)\n",
    "X = rng.random((10, 3))\n",
    "print(X.shape)\n",
    "print(X)"
   ],
   "outputs": [
    {
     "name": "stdout",
     "output_type": "stream",
     "text": [
      "(10, 3)\n",
      "[[0.4020733  0.30563311 0.67668051]\n",
      " [0.15821208 0.79247763 0.09419469]\n",
      " [0.36753944 0.06388928 0.96431608]\n",
      " [0.35200998 0.54550343 0.88597945]\n",
      " [0.57016965 0.26614394 0.8170382 ]\n",
      " [0.55906652 0.06387035 0.84877751]\n",
      " [0.89414484 0.18920785 0.23660015]\n",
      " [0.16502896 0.56583856 0.29513111]\n",
      " [0.29078012 0.90079544 0.59992434]\n",
      " [0.09133896 0.00578466 0.97096222]]\n"
     ]
    }
   ],
   "execution_count": 11
  },
  {
   "cell_type": "code",
   "id": "252e44df204628e0",
   "metadata": {
    "collapsed": false,
    "jupyter": {
     "outputs_hidden": false
    },
    "ExecuteTime": {
     "end_time": "2024-09-10T08:28:40.099348Z",
     "start_time": "2024-09-10T08:28:40.093562Z"
    }
   },
   "source": [
    "Xmean = X.mean(axis=0)\n",
    "print(Xmean.shape)\n",
    "print(Xmean)"
   ],
   "outputs": [
    {
     "name": "stdout",
     "output_type": "stream",
     "text": [
      "(3,)\n",
      "[0.38503638 0.36991443 0.63896043]\n"
     ]
    }
   ],
   "execution_count": 12
  },
  {
   "cell_type": "code",
   "id": "f6260ba515d80079",
   "metadata": {
    "collapsed": false,
    "jupyter": {
     "outputs_hidden": false
    },
    "ExecuteTime": {
     "end_time": "2024-09-10T08:28:40.135032Z",
     "start_time": "2024-09-10T08:28:40.131049Z"
    }
   },
   "source": [
    "Xcentered = X-Xmean\n",
    "print(Xcentered.shape)\n",
    "print(Xcentered)"
   ],
   "outputs": [
    {
     "name": "stdout",
     "output_type": "stream",
     "text": [
      "(10, 3)\n",
      "[[ 0.01703691 -0.06428131  0.03772009]\n",
      " [-0.2268243   0.4225632  -0.54476574]\n",
      " [-0.01749695 -0.30602514  0.32535566]\n",
      " [-0.0330264   0.175589    0.24701902]\n",
      " [ 0.18513326 -0.10377048  0.17807777]\n",
      " [ 0.17403013 -0.30604408  0.20981709]\n",
      " [ 0.50910846 -0.18070657 -0.40236028]\n",
      " [-0.22000743  0.19592414 -0.34382932]\n",
      " [-0.09425626  0.53088102 -0.03903608]\n",
      " [-0.29369742 -0.36412976  0.33200179]]\n"
     ]
    }
   ],
   "execution_count": 13
  },
  {
   "cell_type": "code",
   "id": "6ee76046364b597c",
   "metadata": {
    "collapsed": false,
    "jupyter": {
     "outputs_hidden": false
    },
    "ExecuteTime": {
     "end_time": "2024-09-10T08:28:40.247632Z",
     "start_time": "2024-09-10T08:28:40.239758Z"
    }
   },
   "source": [
    "print(Xcentered.mean(axis=0))"
   ],
   "outputs": [
    {
     "name": "stdout",
     "output_type": "stream",
     "text": [
      "[ 4.99600361e-17 -4.44089210e-17  0.00000000e+00]\n"
     ]
    }
   ],
   "execution_count": 14
  },
  {
   "cell_type": "markdown",
   "id": "38fd095f-2987-43d2-8fef-f964b54abd6f",
   "metadata": {},
   "source": [
    "Comparison Operators As UFuncs"
   ]
  },
  {
   "cell_type": "code",
   "id": "53f1be3d-2ea4-4821-9551-8819e39097a0",
   "metadata": {
    "ExecuteTime": {
     "end_time": "2024-09-10T08:28:40.326718Z",
     "start_time": "2024-09-10T08:28:40.323531Z"
    }
   },
   "source": [
    "x = np.array([1, 2, 3, 4, 5])"
   ],
   "outputs": [],
   "execution_count": 15
  },
  {
   "cell_type": "code",
   "id": "7f65161d-f519-4575-8b17-a474c90b88e6",
   "metadata": {
    "ExecuteTime": {
     "end_time": "2024-09-10T08:28:40.396274Z",
     "start_time": "2024-09-10T08:28:40.388436Z"
    }
   },
   "source": [
    "x < 3"
   ],
   "outputs": [
    {
     "data": {
      "text/plain": [
       "array([ True,  True, False, False, False])"
      ]
     },
     "execution_count": 16,
     "metadata": {},
     "output_type": "execute_result"
    }
   ],
   "execution_count": 16
  },
  {
   "cell_type": "code",
   "id": "befd7f2a-ef58-4f89-ab98-3ce9ce93d0f4",
   "metadata": {
    "ExecuteTime": {
     "end_time": "2024-09-10T08:28:40.494606Z",
     "start_time": "2024-09-10T08:28:40.486591Z"
    }
   },
   "source": [
    "x > 3"
   ],
   "outputs": [
    {
     "data": {
      "text/plain": [
       "array([False, False, False,  True,  True])"
      ]
     },
     "execution_count": 17,
     "metadata": {},
     "output_type": "execute_result"
    }
   ],
   "execution_count": 17
  },
  {
   "cell_type": "code",
   "id": "fde86316-6382-4379-860e-4f161a464844",
   "metadata": {
    "ExecuteTime": {
     "end_time": "2024-09-10T08:28:40.528081Z",
     "start_time": "2024-09-10T08:28:40.522246Z"
    }
   },
   "source": [
    "x == 3"
   ],
   "outputs": [
    {
     "data": {
      "text/plain": [
       "array([False, False,  True, False, False])"
      ]
     },
     "execution_count": 18,
     "metadata": {},
     "output_type": "execute_result"
    }
   ],
   "execution_count": 18
  },
  {
   "cell_type": "code",
   "id": "a199e530-a03e-4130-b414-bc58f7dc05bd",
   "metadata": {
    "ExecuteTime": {
     "end_time": "2024-09-10T08:28:40.597308Z",
     "start_time": "2024-09-10T08:28:40.592824Z"
    }
   },
   "source": [
    "x != 3"
   ],
   "outputs": [
    {
     "data": {
      "text/plain": [
       "array([ True,  True, False,  True,  True])"
      ]
     },
     "execution_count": 19,
     "metadata": {},
     "output_type": "execute_result"
    }
   ],
   "execution_count": 19
  },
  {
   "cell_type": "code",
   "id": "190246b1-55e3-4301-9e44-9fc6f85de9a8",
   "metadata": {
    "ExecuteTime": {
     "end_time": "2024-09-10T08:28:40.656799Z",
     "start_time": "2024-09-10T08:28:40.650892Z"
    }
   },
   "source": [
    "x <= 3"
   ],
   "outputs": [
    {
     "data": {
      "text/plain": [
       "array([ True,  True,  True, False, False])"
      ]
     },
     "execution_count": 20,
     "metadata": {},
     "output_type": "execute_result"
    }
   ],
   "execution_count": 20
  },
  {
   "cell_type": "code",
   "id": "b1b5854d-d285-4955-82b5-64c7e9f4602c",
   "metadata": {
    "ExecuteTime": {
     "end_time": "2024-09-10T08:28:40.697980Z",
     "start_time": "2024-09-10T08:28:40.691323Z"
    }
   },
   "source": [
    "x >= 3"
   ],
   "outputs": [
    {
     "data": {
      "text/plain": [
       "array([False, False,  True,  True,  True])"
      ]
     },
     "execution_count": 21,
     "metadata": {},
     "output_type": "execute_result"
    }
   ],
   "execution_count": 21
  },
  {
   "cell_type": "code",
   "id": "6e80216d-5fa8-40f3-8a08-360345c3b3f0",
   "metadata": {
    "ExecuteTime": {
     "end_time": "2024-09-10T08:28:40.772924Z",
     "start_time": "2024-09-10T08:28:40.766641Z"
    }
   },
   "source": [
    "rng = np.random.default_rng(seed=1701)\n",
    "x = rng.integers(10, size=(3,4))\n",
    "x"
   ],
   "outputs": [
    {
     "data": {
      "text/plain": [
       "array([[9, 4, 0, 3],\n",
       "       [8, 6, 3, 1],\n",
       "       [3, 7, 4, 0]])"
      ]
     },
     "execution_count": 22,
     "metadata": {},
     "output_type": "execute_result"
    }
   ],
   "execution_count": 22
  },
  {
   "cell_type": "code",
   "id": "aef8df87-e7e8-45e0-95c9-df0882dfc48f",
   "metadata": {
    "ExecuteTime": {
     "end_time": "2024-09-10T08:28:40.791930Z",
     "start_time": "2024-09-10T08:28:40.786625Z"
    }
   },
   "source": [
    "x < 6"
   ],
   "outputs": [
    {
     "data": {
      "text/plain": [
       "array([[False,  True,  True,  True],\n",
       "       [False, False,  True,  True],\n",
       "       [ True, False,  True,  True]])"
      ]
     },
     "execution_count": 23,
     "metadata": {},
     "output_type": "execute_result"
    }
   ],
   "execution_count": 23
  },
  {
   "cell_type": "markdown",
   "id": "af5bd14b-3de3-4bff-9257-ddc48a03dafc",
   "metadata": {},
   "source": [
    "Counting entries"
   ]
  },
  {
   "cell_type": "code",
   "id": "ca06ffa2-9872-4f75-aae3-0896f0608812",
   "metadata": {
    "ExecuteTime": {
     "end_time": "2024-09-10T08:28:45.332950Z",
     "start_time": "2024-09-10T08:28:45.329125Z"
    }
   },
   "source": [
    "np.count_nonzero(x < 6)"
   ],
   "outputs": [
    {
     "data": {
      "text/plain": [
       "8"
      ]
     },
     "execution_count": 24,
     "metadata": {},
     "output_type": "execute_result"
    }
   ],
   "execution_count": 24
  },
  {
   "cell_type": "markdown",
   "id": "3cf6c28c-af33-4d1e-9efd-1f6bd7247d6b",
   "metadata": {},
   "source": [
    "Summing entries"
   ]
  },
  {
   "cell_type": "code",
   "id": "cea67cbf-08a2-4eba-b435-ed7f6850f10f",
   "metadata": {
    "ExecuteTime": {
     "end_time": "2024-09-10T08:28:45.521524Z",
     "start_time": "2024-09-10T08:28:45.517942Z"
    }
   },
   "source": [
    "np.sum(x < 6)"
   ],
   "outputs": [
    {
     "data": {
      "text/plain": [
       "np.int64(8)"
      ]
     },
     "execution_count": 25,
     "metadata": {},
     "output_type": "execute_result"
    }
   ],
   "execution_count": 25
  },
  {
   "cell_type": "markdown",
   "id": "47ed02ef-7a53-416e-b94e-391390488aa7",
   "metadata": {},
   "source": [
    "Summing along an axis"
   ]
  },
  {
   "cell_type": "code",
   "id": "5b2dec0e-80f5-42b1-b091-7e9f9afdee3b",
   "metadata": {
    "ExecuteTime": {
     "end_time": "2024-09-10T08:28:45.732708Z",
     "start_time": "2024-09-10T08:28:45.725508Z"
    }
   },
   "source": [
    "# Column-wise sums\n",
    "np.sum(x < 6, axis=0)"
   ],
   "outputs": [
    {
     "data": {
      "text/plain": [
       "array([1, 1, 3, 3])"
      ]
     },
     "execution_count": 26,
     "metadata": {},
     "output_type": "execute_result"
    }
   ],
   "execution_count": 26
  },
  {
   "cell_type": "code",
   "id": "467ffb2f-b64d-47d4-9b7c-d67233074296",
   "metadata": {
    "ExecuteTime": {
     "end_time": "2024-09-10T08:28:45.776692Z",
     "start_time": "2024-09-10T08:28:45.772276Z"
    }
   },
   "source": [
    "# Row-wise sums\n",
    "np.sum(x < 6, axis=1)"
   ],
   "outputs": [
    {
     "data": {
      "text/plain": [
       "array([3, 2, 3])"
      ]
     },
     "execution_count": 27,
     "metadata": {},
     "output_type": "execute_result"
    }
   ],
   "execution_count": 27
  },
  {
   "cell_type": "markdown",
   "id": "a1b7e4a9-438b-4479-b791-953641784722",
   "metadata": {},
   "source": [
    "Any and All"
   ]
  },
  {
   "cell_type": "code",
   "id": "564bffb7-fe8a-4a6b-8145-116aea189873",
   "metadata": {
    "ExecuteTime": {
     "end_time": "2024-09-10T08:28:45.806773Z",
     "start_time": "2024-09-10T08:28:45.802709Z"
    }
   },
   "source": [
    "np.any(x > 8)"
   ],
   "outputs": [
    {
     "data": {
      "text/plain": [
       "np.True_"
      ]
     },
     "execution_count": 28,
     "metadata": {},
     "output_type": "execute_result"
    }
   ],
   "execution_count": 28
  },
  {
   "cell_type": "code",
   "id": "5206dd7e-22b0-4e4c-a91d-327f47600a6f",
   "metadata": {
    "ExecuteTime": {
     "end_time": "2024-09-10T08:28:45.855557Z",
     "start_time": "2024-09-10T08:28:45.851268Z"
    }
   },
   "source": [
    "np.all(x < 8)"
   ],
   "outputs": [
    {
     "data": {
      "text/plain": [
       "np.False_"
      ]
     },
     "execution_count": 29,
     "metadata": {},
     "output_type": "execute_result"
    }
   ],
   "execution_count": 29
  },
  {
   "cell_type": "markdown",
   "id": "d97a9aa5-6afb-48a7-94ca-f1c6aa378641",
   "metadata": {},
   "source": [
    "Any and All have flavors that check along a particular axis"
   ]
  },
  {
   "cell_type": "markdown",
   "id": "6b99b507-1101-4581-9e7d-fd64fad4a53e",
   "metadata": {},
   "source": [
    "Bitwise Logical Operators"
   ]
  },
  {
   "cell_type": "code",
   "id": "04133cf4-b959-4c1d-81a9-5cdca3826924",
   "metadata": {
    "ExecuteTime": {
     "end_time": "2024-09-10T08:28:45.890751Z",
     "start_time": "2024-09-10T08:28:45.884668Z"
    }
   },
   "source": [
    "(x < 8) & (x > 3)"
   ],
   "outputs": [
    {
     "data": {
      "text/plain": [
       "array([[False,  True, False, False],\n",
       "       [False,  True, False, False],\n",
       "       [False,  True,  True, False]])"
      ]
     },
     "execution_count": 30,
     "metadata": {},
     "output_type": "execute_result"
    }
   ],
   "execution_count": 30
  },
  {
   "cell_type": "code",
   "id": "3aff9e0a-1f07-457a-91a5-1921d913d7a6",
   "metadata": {
    "ExecuteTime": {
     "end_time": "2024-09-10T08:28:45.928842Z",
     "start_time": "2024-09-10T08:28:45.922418Z"
    }
   },
   "source": [
    "(x < 6) | (x > 2)"
   ],
   "outputs": [
    {
     "data": {
      "text/plain": [
       "array([[ True,  True,  True,  True],\n",
       "       [ True,  True,  True,  True],\n",
       "       [ True,  True,  True,  True]])"
      ]
     },
     "execution_count": 31,
     "metadata": {},
     "output_type": "execute_result"
    }
   ],
   "execution_count": 31
  },
  {
   "cell_type": "markdown",
   "id": "7a1b6e17-91bb-4a66-a134-8d0497ac0958",
   "metadata": {},
   "source": [
    "So, remember this: and and or perform a single Boolean evaluation on an entire object, while & and | perform multiple Boolean evaluations on the content (the individual bits or bytes) of an object. For Boolean NumPy arrays, the latter is nearly always the desired operation."
   ]
  },
  {
   "cell_type": "code",
   "id": "4d1337a8-5e16-4aae-9ed0-47d6b8aa617f",
   "metadata": {
    "ExecuteTime": {
     "end_time": "2024-09-10T08:28:46.003796Z",
     "start_time": "2024-09-10T08:28:45.983342Z"
    }
   },
   "source": [
    "rng = np.random.default_rng(seed=1701)\n",
    "x = rng.normal(size=100)\n",
    "x"
   ],
   "outputs": [
    {
     "data": {
      "text/plain": [
       "array([ 0.43874206,  0.32818515,  0.68328838, -0.81928256,  0.69156442,\n",
       "       -1.62453268,  1.50806312, -1.22449846,  1.22696072, -1.05013046,\n",
       "        0.62509363,  0.09693023,  0.62776415, -0.28565182,  1.49678665,\n",
       "       -0.76768541, -0.3942867 , -1.35693505,  0.33524959,  0.57442768,\n",
       "        1.62016911,  0.33395176, -1.02906713, -0.94266623,  0.38365532,\n",
       "        0.25423793,  1.36108696,  1.25474959, -0.05637126,  0.44880896,\n",
       "       -1.47909513,  2.40254455, -0.06959272, -1.52752832,  1.93633419,\n",
       "       -1.28006351, -0.71562065,  0.72455605,  0.47362789, -0.33131697,\n",
       "        0.26272942,  1.75038031,  0.01834221, -1.43899931,  1.3716487 ,\n",
       "        0.67679557,  0.53793618,  1.53399445,  0.28214872,  0.56313954,\n",
       "       -0.37793941, -1.15832253,  0.96594187, -0.35611958, -1.28536874,\n",
       "        0.19742658,  0.41682623, -0.95386364,  0.75830441, -2.08596882,\n",
       "       -1.16203473,  0.34232684, -1.11888193, -1.13596   ,  0.6742499 ,\n",
       "        1.26767704,  0.65873509, -0.64003051,  3.09160717,  0.51595829,\n",
       "        0.61122253, -0.01723733,  0.3037547 ,  0.48345155,  1.31693828,\n",
       "        0.11558915, -1.71886929, -0.98511272,  0.42671049,  0.54159558,\n",
       "       -1.40923638, -0.38289913, -0.36361407,  0.51818448,  0.98517332,\n",
       "       -0.28010458,  0.48822092,  1.18871415,  2.35468027, -0.50254828,\n",
       "        0.72586398,  0.82359641,  0.12582911, -0.96702245,  0.16762368,\n",
       "       -0.25626375, -0.77984442,  0.73111879, -0.90911587,  2.5795842 ])"
      ]
     },
     "execution_count": 32,
     "metadata": {},
     "output_type": "execute_result"
    }
   ],
   "execution_count": 32
  },
  {
   "cell_type": "code",
   "id": "4ed59ebf-7ca4-4b96-a90b-3572b52f6952",
   "metadata": {
    "ExecuteTime": {
     "end_time": "2024-09-10T08:28:46.101457Z",
     "start_time": "2024-09-10T08:28:46.094501Z"
    }
   },
   "source": [
    "bins = np.linspace(-5, 5, 20)\n",
    "bins"
   ],
   "outputs": [
    {
     "data": {
      "text/plain": [
       "array([-5.        , -4.47368421, -3.94736842, -3.42105263, -2.89473684,\n",
       "       -2.36842105, -1.84210526, -1.31578947, -0.78947368, -0.26315789,\n",
       "        0.26315789,  0.78947368,  1.31578947,  1.84210526,  2.36842105,\n",
       "        2.89473684,  3.42105263,  3.94736842,  4.47368421,  5.        ])"
      ]
     },
     "execution_count": 33,
     "metadata": {},
     "output_type": "execute_result"
    }
   ],
   "execution_count": 33
  },
  {
   "cell_type": "code",
   "id": "99aa9130-6c3b-4bc4-84c2-54dea606dfd4",
   "metadata": {
    "ExecuteTime": {
     "end_time": "2024-09-10T08:28:46.190010Z",
     "start_time": "2024-09-10T08:28:46.185474Z"
    }
   },
   "source": [
    "counts = np.zeros_like(bins)\n",
    "counts"
   ],
   "outputs": [
    {
     "data": {
      "text/plain": [
       "array([0., 0., 0., 0., 0., 0., 0., 0., 0., 0., 0., 0., 0., 0., 0., 0., 0.,\n",
       "       0., 0., 0.])"
      ]
     },
     "execution_count": 34,
     "metadata": {},
     "output_type": "execute_result"
    }
   ],
   "execution_count": 34
  },
  {
   "cell_type": "code",
   "id": "ed9b51c8-51a9-4d37-ae07-319a34ae10cd",
   "metadata": {
    "ExecuteTime": {
     "end_time": "2024-09-10T08:28:46.286338Z",
     "start_time": "2024-09-10T08:28:46.280200Z"
    }
   },
   "source": [
    "i = np.searchsorted(bins, x)\n",
    "i"
   ],
   "outputs": [
    {
     "data": {
      "text/plain": [
       "array([11, 11, 11,  8, 11,  7, 13,  8, 12,  8, 11, 10, 11,  9, 13,  9,  9,\n",
       "        7, 11, 11, 13, 11,  8,  8, 11, 10, 13, 12, 10, 11,  7, 15, 10,  7,\n",
       "       14,  8,  9, 11, 11,  9, 10, 13, 10,  7, 13, 11, 11, 13, 11, 11,  9,\n",
       "        8, 12,  9,  8, 10, 11,  8, 11,  6,  8, 11,  8,  8, 11, 12, 11,  9,\n",
       "       16, 11, 11, 10, 11, 11, 13, 10,  7,  8, 11, 11,  7,  9,  9, 11, 12,\n",
       "        9, 11, 12, 14,  9, 11, 12, 10,  8, 10, 10,  9, 11,  8, 15])"
      ]
     },
     "execution_count": 35,
     "metadata": {},
     "output_type": "execute_result"
    }
   ],
   "execution_count": 35
  },
  {
   "cell_type": "code",
   "id": "35160622-f97e-4467-9abc-cd15d1a8ab84",
   "metadata": {
    "ExecuteTime": {
     "end_time": "2024-09-10T08:28:46.327858Z",
     "start_time": "2024-09-10T08:28:46.322175Z"
    }
   },
   "source": [
    "np.add.at(counts, i, 1)\n",
    "counts"
   ],
   "outputs": [
    {
     "data": {
      "text/plain": [
       "array([ 0.,  0.,  0.,  0.,  0.,  0.,  1.,  7., 15., 13., 12., 32.,  7.,\n",
       "        8.,  2.,  2.,  1.,  0.,  0.,  0.])"
      ]
     },
     "execution_count": 36,
     "metadata": {},
     "output_type": "execute_result"
    }
   ],
   "execution_count": 36
  },
  {
   "cell_type": "code",
   "id": "0897c8ed-6586-4eb1-b519-07324869eb0e",
   "metadata": {
    "ExecuteTime": {
     "end_time": "2024-09-10T08:28:46.363613Z",
     "start_time": "2024-09-10T08:28:46.357993Z"
    }
   },
   "source": [
    "X = rng.random((10, 2))\n",
    "X.shape"
   ],
   "outputs": [
    {
     "data": {
      "text/plain": [
       "(10, 2)"
      ]
     },
     "execution_count": 37,
     "metadata": {},
     "output_type": "execute_result"
    }
   ],
   "execution_count": 37
  },
  {
   "cell_type": "code",
   "id": "5fddfc0a-e6fc-4b57-886c-dadc1d136737",
   "metadata": {
    "ExecuteTime": {
     "end_time": "2024-09-10T08:28:46.391629Z",
     "start_time": "2024-09-10T08:28:46.388690Z"
    }
   },
   "source": [
    "X"
   ],
   "outputs": [
    {
     "data": {
      "text/plain": [
       "array([[0.4286929 , 0.92886887],\n",
       "       [0.78764941, 0.64390348],\n",
       "       [0.99056718, 0.53427892],\n",
       "       [0.90956002, 0.09409217],\n",
       "       [0.21853192, 0.41448441],\n",
       "       [0.05831073, 0.36406978],\n",
       "       [0.67953465, 0.08523745],\n",
       "       [0.07310691, 0.51768392],\n",
       "       [0.84329503, 0.35390371],\n",
       "       [0.97353984, 0.24078689]])"
      ]
     },
     "execution_count": 38,
     "metadata": {},
     "output_type": "execute_result"
    }
   ],
   "execution_count": 38
  },
  {
   "cell_type": "code",
   "id": "4fdb3928-edfc-4e46-a18f-5014e9aec9ec",
   "metadata": {
    "ExecuteTime": {
     "end_time": "2024-09-10T08:28:57.239186Z",
     "start_time": "2024-09-10T08:28:46.470465Z"
    }
   },
   "source": [
    "%matplotlib inline\n",
    "import matplotlib.pyplot as plt\n",
    "plt.style.use('seaborn-v0_8-whitegrid')\n",
    "plt.scatter(X[:, 0], X[:, 1], s=100)"
   ],
   "outputs": [
    {
     "name": "stderr",
     "output_type": "stream",
     "text": [
      "Matplotlib is building the font cache; this may take a moment.\n"
     ]
    },
    {
     "data": {
      "text/plain": [
       "<matplotlib.collections.PathCollection at 0x10cd011c0>"
      ]
     },
     "execution_count": 39,
     "metadata": {},
     "output_type": "execute_result"
    },
    {
     "data": {
      "text/plain": [
       "<Figure size 640x480 with 1 Axes>"
      ],
      "image/png": "[encoded data removed]"
     },
     "metadata": {},
     "output_type": "display_data"
    }
   ],
   "execution_count": 39
  },
  {
   "cell_type": "code",
   "id": "6a96d2ea-a5b9-4b48-a539-a09f3430a063",
   "metadata": {
    "ExecuteTime": {
     "end_time": "2024-09-10T08:28:57.264748Z",
     "start_time": "2024-09-10T08:28:57.259849Z"
    }
   },
   "source": [
    "Y = X[:, np.newaxis]\n",
    "Y.shape"
   ],
   "outputs": [
    {
     "data": {
      "text/plain": [
       "(10, 1, 2)"
      ]
     },
     "execution_count": 40,
     "metadata": {},
     "output_type": "execute_result"
    }
   ],
   "execution_count": 40
  },
  {
   "cell_type": "code",
   "id": "f44e18ba-addd-454b-a0d4-29c81f78adb5",
   "metadata": {
    "ExecuteTime": {
     "end_time": "2024-09-10T08:28:57.286180Z",
     "start_time": "2024-09-10T08:28:57.283437Z"
    }
   },
   "source": [
    "Y"
   ],
   "outputs": [
    {
     "data": {
      "text/plain": [
       "array([[[0.4286929 , 0.92886887]],\n",
       "\n",
       "       [[0.78764941, 0.64390348]],\n",
       "\n",
       "       [[0.99056718, 0.53427892]],\n",
       "\n",
       "       [[0.90956002, 0.09409217]],\n",
       "\n",
       "       [[0.21853192, 0.41448441]],\n",
       "\n",
       "       [[0.05831073, 0.36406978]],\n",
       "\n",
       "       [[0.67953465, 0.08523745]],\n",
       "\n",
       "       [[0.07310691, 0.51768392]],\n",
       "\n",
       "       [[0.84329503, 0.35390371]],\n",
       "\n",
       "       [[0.97353984, 0.24078689]]])"
      ]
     },
     "execution_count": 41,
     "metadata": {},
     "output_type": "execute_result"
    }
   ],
   "execution_count": 41
  },
  {
   "cell_type": "code",
   "id": "06a4b7f8-fefc-4440-bda5-9e43baaee4e9",
   "metadata": {
    "ExecuteTime": {
     "end_time": "2024-09-10T08:28:57.322255Z",
     "start_time": "2024-09-10T08:28:57.315455Z"
    }
   },
   "source": [
    "Z = X[np.newaxis, :]\n",
    "Z.shape"
   ],
   "outputs": [
    {
     "data": {
      "text/plain": [
       "(1, 10, 2)"
      ]
     },
     "execution_count": 42,
     "metadata": {},
     "output_type": "execute_result"
    }
   ],
   "execution_count": 42
  },
  {
   "cell_type": "code",
   "id": "27ee90aa-2a21-46b0-834a-91b1a0eabcb4",
   "metadata": {
    "ExecuteTime": {
     "end_time": "2024-09-10T08:28:57.339243Z",
     "start_time": "2024-09-10T08:28:57.335552Z"
    }
   },
   "source": [
    "Z"
   ],
   "outputs": [
    {
     "data": {
      "text/plain": [
       "array([[[0.4286929 , 0.92886887],\n",
       "        [0.78764941, 0.64390348],\n",
       "        [0.99056718, 0.53427892],\n",
       "        [0.90956002, 0.09409217],\n",
       "        [0.21853192, 0.41448441],\n",
       "        [0.05831073, 0.36406978],\n",
       "        [0.67953465, 0.08523745],\n",
       "        [0.07310691, 0.51768392],\n",
       "        [0.84329503, 0.35390371],\n",
       "        [0.97353984, 0.24078689]]])"
      ]
     },
     "execution_count": 43,
     "metadata": {},
     "output_type": "execute_result"
    }
   ],
   "execution_count": 43
  },
  {
   "cell_type": "code",
   "id": "96f3ea60-eeca-4cb7-a6ef-60fe2f07e55e",
   "metadata": {
    "ExecuteTime": {
     "end_time": "2024-09-10T08:28:57.359315Z",
     "start_time": "2024-09-10T08:28:57.356428Z"
    }
   },
   "source": [
    "differences = X[:, np.newaxis] - X[np.newaxis, :]\n",
    "differences.shape"
   ],
   "outputs": [
    {
     "data": {
      "text/plain": [
       "(10, 10, 2)"
      ]
     },
     "execution_count": 44,
     "metadata": {},
     "output_type": "execute_result"
    }
   ],
   "execution_count": 44
  },
  {
   "cell_type": "code",
   "id": "f8d47fba-19ff-4840-8dd3-03768ef11940",
   "metadata": {
    "ExecuteTime": {
     "end_time": "2024-09-10T08:28:57.386383Z",
     "start_time": "2024-09-10T08:28:57.382334Z"
    }
   },
   "source": [
    "differences"
   ],
   "outputs": [
    {
     "data": {
      "text/plain": [
       "array([[[ 0.        ,  0.        ],\n",
       "        [-0.35895651,  0.28496539],\n",
       "        [-0.56187428,  0.39458994],\n",
       "        [-0.48086712,  0.8347767 ],\n",
       "        [ 0.21016098,  0.51438446],\n",
       "        [ 0.37038217,  0.56479908],\n",
       "        [-0.25084176,  0.84363142],\n",
       "        [ 0.35558598,  0.41118495],\n",
       "        [-0.41460213,  0.57496515],\n",
       "        [-0.54484694,  0.68808198]],\n",
       "\n",
       "       [[ 0.35895651, -0.28496539],\n",
       "        [ 0.        ,  0.        ],\n",
       "        [-0.20291776,  0.10962456],\n",
       "        [-0.12191061,  0.54981131],\n",
       "        [ 0.5691175 ,  0.22941907],\n",
       "        [ 0.72933868,  0.2798337 ],\n",
       "        [ 0.10811476,  0.55866603],\n",
       "        [ 0.7145425 ,  0.12621956],\n",
       "        [-0.05564562,  0.28999977],\n",
       "        [-0.18589043,  0.40311659]],\n",
       "\n",
       "       [[ 0.56187428, -0.39458994],\n",
       "        [ 0.20291776, -0.10962456],\n",
       "        [ 0.        ,  0.        ],\n",
       "        [ 0.08100716,  0.44018676],\n",
       "        [ 0.77203526,  0.11979452],\n",
       "        [ 0.93225644,  0.17020914],\n",
       "        [ 0.31103252,  0.44904147],\n",
       "        [ 0.91746026,  0.01659501],\n",
       "        [ 0.14727215,  0.18037521],\n",
       "        [ 0.01702733,  0.29349204]],\n",
       "\n",
       "       [[ 0.48086712, -0.8347767 ],\n",
       "        [ 0.12191061, -0.54981131],\n",
       "        [-0.08100716, -0.44018676],\n",
       "        [ 0.        ,  0.        ],\n",
       "        [ 0.6910281 , -0.32039224],\n",
       "        [ 0.85124929, -0.26997761],\n",
       "        [ 0.23002537,  0.00885472],\n",
       "        [ 0.83645311, -0.42359175],\n",
       "        [ 0.06626499, -0.25981154],\n",
       "        [-0.06397982, -0.14669472]],\n",
       "\n",
       "       [[-0.21016098, -0.51438446],\n",
       "        [-0.5691175 , -0.22941907],\n",
       "        [-0.77203526, -0.11979452],\n",
       "        [-0.6910281 ,  0.32039224],\n",
       "        [ 0.        ,  0.        ],\n",
       "        [ 0.16022118,  0.05041462],\n",
       "        [-0.46100274,  0.32924696],\n",
       "        [ 0.145425  , -0.10319951],\n",
       "        [-0.62476311,  0.06058069],\n",
       "        [-0.75500792,  0.17369752]],\n",
       "\n",
       "       [[-0.37038217, -0.56479908],\n",
       "        [-0.72933868, -0.2798337 ],\n",
       "        [-0.93225644, -0.17020914],\n",
       "        [-0.85124929,  0.26997761],\n",
       "        [-0.16022118, -0.05041462],\n",
       "        [ 0.        ,  0.        ],\n",
       "        [-0.62122392,  0.27883233],\n",
       "        [-0.01479618, -0.15361414],\n",
       "        [-0.7849843 ,  0.01016607],\n",
       "        [-0.91522911,  0.1232829 ]],\n",
       "\n",
       "       [[ 0.25084176, -0.84363142],\n",
       "        [-0.10811476, -0.55866603],\n",
       "        [-0.31103252, -0.44904147],\n",
       "        [-0.23002537, -0.00885472],\n",
       "        [ 0.46100274, -0.32924696],\n",
       "        [ 0.62122392, -0.27883233],\n",
       "        [ 0.        ,  0.        ],\n",
       "        [ 0.60642774, -0.43244647],\n",
       "        [-0.16376038, -0.26866626],\n",
       "        [-0.29400519, -0.15554944]],\n",
       "\n",
       "       [[-0.35558598, -0.41118495],\n",
       "        [-0.7145425 , -0.12621956],\n",
       "        [-0.91746026, -0.01659501],\n",
       "        [-0.83645311,  0.42359175],\n",
       "        [-0.145425  ,  0.10319951],\n",
       "        [ 0.01479618,  0.15361414],\n",
       "        [-0.60642774,  0.43244647],\n",
       "        [ 0.        ,  0.        ],\n",
       "        [-0.77018811,  0.16378021],\n",
       "        [-0.90043293,  0.27689703]],\n",
       "\n",
       "       [[ 0.41460213, -0.57496515],\n",
       "        [ 0.05564562, -0.28999977],\n",
       "        [-0.14727215, -0.18037521],\n",
       "        [-0.06626499,  0.25981154],\n",
       "        [ 0.62476311, -0.06058069],\n",
       "        [ 0.7849843 , -0.01016607],\n",
       "        [ 0.16376038,  0.26866626],\n",
       "        [ 0.77018811, -0.16378021],\n",
       "        [ 0.        ,  0.        ],\n",
       "        [-0.13024481,  0.11311683]],\n",
       "\n",
       "       [[ 0.54484694, -0.68808198],\n",
       "        [ 0.18589043, -0.40311659],\n",
       "        [-0.01702733, -0.29349204],\n",
       "        [ 0.06397982,  0.14669472],\n",
       "        [ 0.75500792, -0.17369752],\n",
       "        [ 0.91522911, -0.1232829 ],\n",
       "        [ 0.29400519,  0.15554944],\n",
       "        [ 0.90043293, -0.27689703],\n",
       "        [ 0.13024481, -0.11311683],\n",
       "        [ 0.        ,  0.        ]]])"
      ]
     },
     "execution_count": 45,
     "metadata": {},
     "output_type": "execute_result"
    }
   ],
   "execution_count": 45
  },
  {
   "cell_type": "code",
   "id": "0560789f-8be8-4feb-a0ea-99d81b2a2f3f",
   "metadata": {
    "ExecuteTime": {
     "end_time": "2024-09-10T08:28:57.402990Z",
     "start_time": "2024-09-10T08:28:57.399351Z"
    }
   },
   "source": [
    "differences_sqd = differences ** 2\n",
    "differences_sqd"
   ],
   "outputs": [
    {
     "data": {
      "text/plain": [
       "array([[[0.00000000e+00, 0.00000000e+00],\n",
       "        [1.28849778e-01, 8.12052720e-02],\n",
       "        [3.15702704e-01, 1.55701223e-01],\n",
       "        [2.31233188e-01, 6.96852136e-01],\n",
       "        [4.41676384e-02, 2.64591374e-01],\n",
       "        [1.37182949e-01, 3.18998006e-01],\n",
       "        [6.29215861e-02, 7.11713967e-01],\n",
       "        [1.26441392e-01, 1.69073061e-01],\n",
       "        [1.71894927e-01, 3.30584928e-01],\n",
       "        [2.96858191e-01, 4.73456812e-01]],\n",
       "\n",
       "       [[1.28849778e-01, 8.12052720e-02],\n",
       "        [0.00000000e+00, 0.00000000e+00],\n",
       "        [4.11756190e-02, 1.20175431e-02],\n",
       "        [1.48621963e-02, 3.02292478e-01],\n",
       "        [3.23894723e-01, 5.26331113e-02],\n",
       "        [5.31934908e-01, 7.83068981e-02],\n",
       "        [1.16888009e-02, 3.12107732e-01],\n",
       "        [5.10570980e-01, 1.59313774e-02],\n",
       "        [3.09643474e-03, 8.40998646e-02],\n",
       "        [3.45552517e-02, 1.62502988e-01]],\n",
       "\n",
       "       [[3.15702704e-01, 1.55701223e-01],\n",
       "        [4.11756190e-02, 1.20175431e-02],\n",
       "        [0.00000000e+00, 0.00000000e+00],\n",
       "        [6.56215937e-03, 1.93764380e-01],\n",
       "        [5.96038442e-01, 1.43507266e-02],\n",
       "        [8.69102076e-01, 2.89711519e-02],\n",
       "        [9.67412299e-02, 2.01638245e-01],\n",
       "        [8.41733331e-01, 2.75394191e-04],\n",
       "        [2.16890852e-02, 3.25352168e-02],\n",
       "        [2.89930134e-04, 8.61375765e-02]],\n",
       "\n",
       "       [[2.31233188e-01, 6.96852136e-01],\n",
       "        [1.48621963e-02, 3.02292478e-01],\n",
       "        [6.56215937e-03, 1.93764380e-01],\n",
       "        [0.00000000e+00, 0.00000000e+00],\n",
       "        [4.77519839e-01, 1.02651186e-01],\n",
       "        [7.24625348e-01, 7.28879120e-02],\n",
       "        [5.29116690e-02, 7.84060381e-05],\n",
       "        [6.99653797e-01, 1.79429971e-01],\n",
       "        [4.39104896e-03, 6.75020386e-02],\n",
       "        [4.09341754e-03, 2.15193401e-02]],\n",
       "\n",
       "       [[4.41676384e-02, 2.64591374e-01],\n",
       "        [3.23894723e-01, 5.26331113e-02],\n",
       "        [5.96038442e-01, 1.43507266e-02],\n",
       "        [4.77519839e-01, 1.02651186e-01],\n",
       "        [0.00000000e+00, 0.00000000e+00],\n",
       "        [2.56708276e-02, 2.54163427e-03],\n",
       "        [2.12523524e-01, 1.08403558e-01],\n",
       "        [2.11484312e-02, 1.06501395e-02],\n",
       "        [3.90328947e-01, 3.67002036e-03],\n",
       "        [5.70036966e-01, 3.01708285e-02]],\n",
       "\n",
       "       [[1.37182949e-01, 3.18998006e-01],\n",
       "        [5.31934908e-01, 7.83068981e-02],\n",
       "        [8.69102076e-01, 2.89711519e-02],\n",
       "        [7.24625348e-01, 7.28879120e-02],\n",
       "        [2.56708276e-02, 2.54163427e-03],\n",
       "        [0.00000000e+00, 0.00000000e+00],\n",
       "        [3.85919160e-01, 7.77474695e-02],\n",
       "        [2.18926990e-04, 2.35973030e-02],\n",
       "        [6.16200345e-01, 1.03348967e-04],\n",
       "        [8.37644320e-01, 1.51986725e-02]],\n",
       "\n",
       "       [[6.29215861e-02, 7.11713967e-01],\n",
       "        [1.16888009e-02, 3.12107732e-01],\n",
       "        [9.67412299e-02, 2.01638245e-01],\n",
       "        [5.29116690e-02, 7.84060381e-05],\n",
       "        [2.12523524e-01, 1.08403558e-01],\n",
       "        [3.85919160e-01, 7.77474695e-02],\n",
       "        [0.00000000e+00, 0.00000000e+00],\n",
       "        [3.67754603e-01, 1.87009949e-01],\n",
       "        [2.68174606e-02, 7.21815608e-02],\n",
       "        [8.64390502e-02, 2.41956270e-02]],\n",
       "\n",
       "       [[1.26441392e-01, 1.69073061e-01],\n",
       "        [5.10570980e-01, 1.59313774e-02],\n",
       "        [8.41733331e-01, 2.75394191e-04],\n",
       "        [6.99653797e-01, 1.79429971e-01],\n",
       "        [2.11484312e-02, 1.06501395e-02],\n",
       "        [2.18926990e-04, 2.35973030e-02],\n",
       "        [3.67754603e-01, 1.87009949e-01],\n",
       "        [0.00000000e+00, 0.00000000e+00],\n",
       "        [5.93189732e-01, 2.68239559e-02],\n",
       "        [8.10779455e-01, 7.66719670e-02]],\n",
       "\n",
       "       [[1.71894927e-01, 3.30584928e-01],\n",
       "        [3.09643474e-03, 8.40998646e-02],\n",
       "        [2.16890852e-02, 3.25352168e-02],\n",
       "        [4.39104896e-03, 6.75020386e-02],\n",
       "        [3.90328947e-01, 3.67002036e-03],\n",
       "        [6.16200345e-01, 1.03348967e-04],\n",
       "        [2.68174606e-02, 7.21815608e-02],\n",
       "        [5.93189732e-01, 2.68239559e-02],\n",
       "        [0.00000000e+00, 0.00000000e+00],\n",
       "        [1.69637110e-02, 1.27954166e-02]],\n",
       "\n",
       "       [[2.96858191e-01, 4.73456812e-01],\n",
       "        [3.45552517e-02, 1.62502988e-01],\n",
       "        [2.89930134e-04, 8.61375765e-02],\n",
       "        [4.09341754e-03, 2.15193401e-02],\n",
       "        [5.70036966e-01, 3.01708285e-02],\n",
       "        [8.37644320e-01, 1.51986725e-02],\n",
       "        [8.64390502e-02, 2.41956270e-02],\n",
       "        [8.10779455e-01, 7.66719670e-02],\n",
       "        [1.69637110e-02, 1.27954166e-02],\n",
       "        [0.00000000e+00, 0.00000000e+00]]])"
      ]
     },
     "execution_count": 46,
     "metadata": {},
     "output_type": "execute_result"
    }
   ],
   "execution_count": 46
  },
  {
   "cell_type": "code",
   "id": "5eeb7f34-b2f6-4ae2-a174-87f62d26d6bb",
   "metadata": {
    "ExecuteTime": {
     "end_time": "2024-09-10T08:28:57.422808Z",
     "start_time": "2024-09-10T08:28:57.419182Z"
    }
   },
   "source": [
    "dist_sqd = np.sum(differences_sqd, axis=-1)\n",
    "dist_sqd.shape"
   ],
   "outputs": [
    {
     "data": {
      "text/plain": [
       "(10, 10)"
      ]
     },
     "execution_count": 47,
     "metadata": {},
     "output_type": "execute_result"
    }
   ],
   "execution_count": 47
  },
  {
   "cell_type": "code",
   "id": "8e5d5c13-634e-43a6-8d94-ed5001af2c7a",
   "metadata": {
    "ExecuteTime": {
     "end_time": "2024-09-10T08:28:57.451037Z",
     "start_time": "2024-09-10T08:28:57.446518Z"
    }
   },
   "source": [
    "dist_sqd"
   ],
   "outputs": [
    {
     "data": {
      "text/plain": [
       "array([[0.        , 0.21005505, 0.47140393, 0.92808532, 0.30875901,\n",
       "        0.45618095, 0.77463555, 0.29551445, 0.50247985, 0.770315  ],\n",
       "       [0.21005505, 0.        , 0.05319316, 0.31715467, 0.37652783,\n",
       "        0.61024181, 0.32379653, 0.52650236, 0.0871963 , 0.19705824],\n",
       "       [0.47140393, 0.05319316, 0.        , 0.20032654, 0.61038917,\n",
       "        0.89807323, 0.29837948, 0.84200873, 0.0542243 , 0.08642751],\n",
       "       [0.92808532, 0.31715467, 0.20032654, 0.        , 0.58017103,\n",
       "        0.79751326, 0.05299008, 0.87908377, 0.07189309, 0.02561276],\n",
       "       [0.30875901, 0.37652783, 0.61038917, 0.58017103, 0.        ,\n",
       "        0.02821246, 0.32092708, 0.03179857, 0.39399897, 0.60020779],\n",
       "       [0.45618095, 0.61024181, 0.89807323, 0.79751326, 0.02821246,\n",
       "        0.        , 0.46366663, 0.02381623, 0.61630369, 0.85284299],\n",
       "       [0.77463555, 0.32379653, 0.29837948, 0.05299008, 0.32092708,\n",
       "        0.46366663, 0.        , 0.55476455, 0.09899902, 0.11063468],\n",
       "       [0.29551445, 0.52650236, 0.84200873, 0.87908377, 0.03179857,\n",
       "        0.02381623, 0.55476455, 0.        , 0.62001369, 0.88745142],\n",
       "       [0.50247985, 0.0871963 , 0.0542243 , 0.07189309, 0.39399897,\n",
       "        0.61630369, 0.09899902, 0.62001369, 0.        , 0.02975913],\n",
       "       [0.770315  , 0.19705824, 0.08642751, 0.02561276, 0.60020779,\n",
       "        0.85284299, 0.11063468, 0.88745142, 0.02975913, 0.        ]])"
      ]
     },
     "execution_count": 48,
     "metadata": {},
     "output_type": "execute_result"
    }
   ],
   "execution_count": 48
  },
  {
   "cell_type": "code",
   "id": "2c47779b-056a-464c-bc83-649988836158",
   "metadata": {
    "ExecuteTime": {
     "end_time": "2024-09-10T08:28:57.483313Z",
     "start_time": "2024-09-10T08:28:57.480537Z"
    }
   },
   "source": [
    "m3d = np.arange(1, 28).reshape(3, 3, 3)\n",
    "m3d"
   ],
   "outputs": [
    {
     "data": {
      "text/plain": [
       "array([[[ 1,  2,  3],\n",
       "        [ 4,  5,  6],\n",
       "        [ 7,  8,  9]],\n",
       "\n",
       "       [[10, 11, 12],\n",
       "        [13, 14, 15],\n",
       "        [16, 17, 18]],\n",
       "\n",
       "       [[19, 20, 21],\n",
       "        [22, 23, 24],\n",
       "        [25, 26, 27]]])"
      ]
     },
     "execution_count": 49,
     "metadata": {},
     "output_type": "execute_result"
    }
   ],
   "execution_count": 49
  },
  {
   "cell_type": "code",
   "id": "3e9b5c4d-c103-4f5b-ab02-78c98e1f4f31",
   "metadata": {
    "ExecuteTime": {
     "end_time": "2024-09-10T08:28:57.558510Z",
     "start_time": "2024-09-10T08:28:57.554680Z"
    }
   },
   "source": [
    "np.max(m3d, axis=0)"
   ],
   "outputs": [
    {
     "data": {
      "text/plain": [
       "array([[19, 20, 21],\n",
       "       [22, 23, 24],\n",
       "       [25, 26, 27]])"
      ]
     },
     "execution_count": 50,
     "metadata": {},
     "output_type": "execute_result"
    }
   ],
   "execution_count": 50
  },
  {
   "cell_type": "code",
   "id": "eeb34e0c-25d1-42f1-9bac-1491018c43b5",
   "metadata": {
    "ExecuteTime": {
     "end_time": "2024-09-10T08:28:57.581694Z",
     "start_time": "2024-09-10T08:28:57.578492Z"
    }
   },
   "source": [
    "np.max(m3d, axis=1)"
   ],
   "outputs": [
    {
     "data": {
      "text/plain": [
       "array([[ 7,  8,  9],\n",
       "       [16, 17, 18],\n",
       "       [25, 26, 27]])"
      ]
     },
     "execution_count": 51,
     "metadata": {},
     "output_type": "execute_result"
    }
   ],
   "execution_count": 51
  },
  {
   "cell_type": "code",
   "id": "6ca31d81-2149-4708-8179-7a052997bde9",
   "metadata": {
    "ExecuteTime": {
     "end_time": "2024-09-10T08:28:57.627544Z",
     "start_time": "2024-09-10T08:28:57.624945Z"
    }
   },
   "source": [
    "np.max(m3d, axis=2)"
   ],
   "outputs": [
    {
     "data": {
      "text/plain": [
       "array([[ 3,  6,  9],\n",
       "       [12, 15, 18],\n",
       "       [21, 24, 27]])"
      ]
     },
     "execution_count": 52,
     "metadata": {},
     "output_type": "execute_result"
    }
   ],
   "execution_count": 52
  }
 ],
 "metadata": {
  "kernelspec": {
   "display_name": "Python 3 (ipykernel)",
   "language": "python",
   "name": "python3"
  },
  "language_info": {
   "codemirror_mode": {
    "name": "ipython",
    "version": 3
   },
   "file_extension": ".py",
   "mimetype": "text/x-python",
   "name": "python",
   "nbconvert_exporter": "python",
   "pygments_lexer": "ipython3",
   "version": "3.12.2"
  }
 },
 "nbformat": 4,
 "nbformat_minor": 5
}
