{
 "cells": [
  {
   "metadata": {},
   "cell_type": "markdown",
   "source": "Imports\n",
   "id": "bb1cec06c4060289"
  },
  {
   "metadata": {},
   "cell_type": "code",
   "source": [
    "import numpy as np\n",
    "%matplotlib inline\n",
    "import matplotlib.pyplot as plt"
   ],
   "id": "9c00431581a29909",
   "outputs": [],
   "execution_count": null
  },
  {
   "metadata": {},
   "cell_type": "code",
   "source": [
    "# Start by creating a random set of 10 points in a two-dimensional plane\n",
    "rng = np.random.default_rng(seed=25)\n",
    "X = rng.random((10, 2))\n",
    "print(X)"
   ],
   "id": "2c83f5f384517527",
   "outputs": [],
   "execution_count": null
  },
  {
   "metadata": {},
   "cell_type": "code",
   "source": [
    "# Create a scatter plot\n",
    "plt.style.use('seaborn-v0_8-whitegrid')\n",
    "plt.scatter(X[:, 0], X[:, 1], s=100)"
   ],
   "id": "f320a7eda9f5ae31",
   "outputs": [],
   "execution_count": null
  },
  {
   "metadata": {},
   "cell_type": "code",
   "source": [
    "# Compute the distance between each point\n",
    "dist_sq = np.sum((X[:, np.newaxis] - X[np.newaxis, :]) ** 2, axis=-1)\n",
    "print(dist_sq)"
   ],
   "id": "2462083008f28140",
   "outputs": [],
   "execution_count": null
  },
  {
   "metadata": {},
   "cell_type": "markdown",
   "source": "Un-packing the above operation\n",
   "id": "ce3763e07240d803"
  },
  {
   "metadata": {},
   "cell_type": "code",
   "source": [
    "# For each pair of points, compute the differences in their co-ordinates\n",
    "differences = X[:, np.newaxis] - X[np.newaxis, :]\n",
    "print(differences.shape)\n"
   ],
   "id": "9050482e892bdd13",
   "outputs": [],
   "execution_count": null
  },
  {
   "metadata": {},
   "cell_type": "code",
   "source": "print(differences)",
   "id": "43542be887050e36",
   "outputs": [],
   "execution_count": null
  },
  {
   "metadata": {},
   "cell_type": "code",
   "source": [
    "# square the co-ordinate differences\n",
    "sq_differences = differences ** 2\n",
    "print(sq_differences.shape)"
   ],
   "id": "37e0d98b3cb25fe3",
   "outputs": [],
   "execution_count": null
  },
  {
   "metadata": {},
   "cell_type": "code",
   "source": "print(sq_differences)",
   "id": "b734ca5f13db269",
   "outputs": [],
   "execution_count": null
  },
  {
   "metadata": {},
   "cell_type": "code",
   "source": [
    "# sum the co-ordinate differences to get the squared distance\n",
    "dist_sq = np.sum(sq_differences, axis=-1)\n",
    "print(dist_sq.shape)"
   ],
   "id": "7481407ad4249eb5",
   "outputs": [],
   "execution_count": null
  },
  {
   "metadata": {},
   "cell_type": "code",
   "source": "print(dist_sq)",
   "id": "9b7226826e15bf3d",
   "outputs": [],
   "execution_count": null
  },
  {
   "metadata": {},
   "cell_type": "code",
   "source": [
    "# the values in the diagonal of the above array should be zero since they represent the distance of a point from itself\n",
    "print(dist_sq.diagonal())"
   ],
   "id": "c1589a749ffa4ac3",
   "outputs": [],
   "execution_count": null
  },
  {
   "metadata": {},
   "cell_type": "code",
   "source": [
    "# Find indexes of closest points\n",
    "ordered_points = np.argsort(dist_sq, axis=1)\n",
    "print(ordered_points)"
   ],
   "id": "b8184694b266a98a",
   "outputs": [],
   "execution_count": null
  },
  {
   "metadata": {},
   "cell_type": "code",
   "source": [
    "# Find indexes of 'K' closest points\n",
    "K = 2\n",
    "closest_points = np.argpartition(dist_sq, K+1, axis=1)\n",
    "print(closest_points)"
   ],
   "id": "229b6c6a98d15c41",
   "outputs": [],
   "execution_count": null
  }
 ],
 "metadata": {
  "kernelspec": {
   "display_name": "Python 3 (ipykernel)",
   "language": "python",
   "name": "python3"
  },
  "language_info": {
   "codemirror_mode": {
    "name": "ipython",
    "version": 3
   },
   "file_extension": ".py",
   "mimetype": "text/x-python",
   "name": "python",
   "nbconvert_exporter": "python",
   "pygments_lexer": "ipython3",
   "version": "3.12.2"
  }
 },
 "nbformat": 4,
 "nbformat_minor": 5
}
